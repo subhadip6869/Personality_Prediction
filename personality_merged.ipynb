{
 "cells": [
  {
   "cell_type": "markdown",
   "metadata": {},
   "source": [
    "# Package import"
   ]
  },
  {
   "cell_type": "code",
   "execution_count": 233,
   "metadata": {},
   "outputs": [],
   "source": [
    "from sklearn.ensemble import RandomForestClassifier\n",
    "from sklearn.neighbors import KNeighborsClassifier\n",
    "from sklearn.model_selection import train_test_split\n",
    "from sklearn.metrics import accuracy_score, confusion_matrix, ConfusionMatrixDisplay\n",
    "import numpy as np\n",
    "import pandas as pd"
   ]
  },
  {
   "cell_type": "markdown",
   "metadata": {},
   "source": [
    "# Reading the dataset"
   ]
  },
  {
   "cell_type": "code",
   "execution_count": 234,
   "metadata": {},
   "outputs": [
    {
     "data": {
      "text/plain": [
       "array(['letter_slant', 'line_slant', 'margin_slope', 'letter_size',\n",
       "       'word_spacing', 'personality'], dtype=object)"
      ]
     },
     "execution_count": 234,
     "metadata": {},
     "output_type": "execute_result"
    }
   ],
   "source": [
    "data = pd.read_csv(\"dataset/features.csv\")\n",
    "data_cols = np.array(data.columns)\n",
    "data_cols"
   ]
  },
  {
   "cell_type": "code",
   "execution_count": 235,
   "metadata": {},
   "outputs": [
    {
     "name": "stdout",
     "output_type": "stream",
     "text": [
      "<class 'pandas.core.frame.DataFrame'>\n",
      "RangeIndex: 221 entries, 0 to 220\n",
      "Data columns (total 6 columns):\n",
      " #   Column        Non-Null Count  Dtype  \n",
      "---  ------        --------------  -----  \n",
      " 0   letter_slant  221 non-null    float64\n",
      " 1   line_slant    221 non-null    float64\n",
      " 2   margin_slope  221 non-null    float64\n",
      " 3   letter_size   221 non-null    float64\n",
      " 4   word_spacing  221 non-null    float64\n",
      " 5   personality   221 non-null    object \n",
      "dtypes: float64(5), object(1)\n",
      "memory usage: 10.5+ KB\n"
     ]
    }
   ],
   "source": [
    "data.info()"
   ]
  },
  {
   "cell_type": "code",
   "execution_count": 236,
   "metadata": {},
   "outputs": [
    {
     "data": {
      "text/plain": [
       "letter_slant    0\n",
       "line_slant      0\n",
       "margin_slope    0\n",
       "letter_size     0\n",
       "word_spacing    0\n",
       "personality     0\n",
       "dtype: int64"
      ]
     },
     "execution_count": 236,
     "metadata": {},
     "output_type": "execute_result"
    }
   ],
   "source": [
    "data.isnull().sum()"
   ]
  },
  {
   "cell_type": "code",
   "execution_count": 237,
   "metadata": {},
   "outputs": [
    {
     "name": "stdout",
     "output_type": "stream",
     "text": [
      "<class 'pandas.core.frame.DataFrame'>\n",
      "RangeIndex: 221 entries, 0 to 220\n",
      "Data columns (total 6 columns):\n",
      " #   Column        Non-Null Count  Dtype  \n",
      "---  ------        --------------  -----  \n",
      " 0   letter_slant  221 non-null    float64\n",
      " 1   line_slant    221 non-null    float64\n",
      " 2   margin_slope  221 non-null    float64\n",
      " 3   letter_size   221 non-null    float64\n",
      " 4   word_spacing  221 non-null    float64\n",
      " 5   personality   221 non-null    object \n",
      "dtypes: float64(5), object(1)\n",
      "memory usage: 10.5+ KB\n"
     ]
    }
   ],
   "source": [
    "data = data.dropna(axis=0)\n",
    "data.info()"
   ]
  },
  {
   "cell_type": "markdown",
   "metadata": {},
   "source": [
    "# Data cleaning"
   ]
  },
  {
   "cell_type": "markdown",
   "metadata": {},
   "source": [
    "## Separating each classes into separate dataframes"
   ]
  },
  {
   "cell_type": "code",
   "execution_count": 238,
   "metadata": {},
   "outputs": [],
   "source": [
    "agreeableness = data[data[\"personality\"] == \"Agreeableness\"]\n",
    "conscientiousness = data[data[\"personality\"] == \"Conscientiousness\"]\n",
    "extraversion = data[data[\"personality\"] == \"Extraversion\"]\n",
    "neuroticism = data[data[\"personality\"] == \"Neuroticism\"]\n",
    "openness = data[data[\"personality\"] == \"Openness\"]"
   ]
  },
  {
   "cell_type": "markdown",
   "metadata": {},
   "source": [
    "## Splitting features & classes for each dataframe (personality)\n",
    "Each dataframe indicates a specific personality as per splitting at previous step"
   ]
  },
  {
   "cell_type": "code",
   "execution_count": 239,
   "metadata": {},
   "outputs": [],
   "source": [
    "agreeableness_x = agreeableness.drop([\"personality\"], axis=1)\n",
    "agreeableness_y = agreeableness[\"personality\"]\n",
    "\n",
    "conscientiousness_x = conscientiousness.drop([\"personality\"], axis=1)\n",
    "conscientiousness_y = conscientiousness[\"personality\"]\n",
    "\n",
    "extraversion_x = extraversion.drop([\"personality\"], axis=1)\n",
    "extraversion_y = extraversion[\"personality\"]\n",
    "\n",
    "neuroticism_x = neuroticism.drop([\"personality\"], axis=1)\n",
    "neuroticism_y = neuroticism[\"personality\"]\n",
    "\n",
    "openness_x = openness.drop([\"personality\"], axis=1)\n",
    "openness_y = openness[\"personality\"]"
   ]
  },
  {
   "cell_type": "markdown",
   "metadata": {},
   "source": [
    "## Splitting each dataframe individually into 9:1 ratio to get all the classes as same ratio for the train & test data"
   ]
  },
  {
   "cell_type": "code",
   "execution_count": 240,
   "metadata": {},
   "outputs": [],
   "source": [
    "agreeableness_x_train, agreeableness_x_test, agreeableness_y_train, agreeableness_y_test = train_test_split(\n",
    "    agreeableness_x, agreeableness_y, test_size=0.1, shuffle=True\n",
    ")\n",
    "\n",
    "conscientiousness_x_train, conscientiousness_x_test, conscientiousness_y_train, conscientiousness_y_test = train_test_split(\n",
    "    conscientiousness_x, conscientiousness_y, test_size=0.1, shuffle=True\n",
    ")\n",
    "\n",
    "extraversion_x_train, extraversion_x_test, extraversion_y_train, extraversion_y_test = train_test_split(\n",
    "    extraversion_x, extraversion_y, test_size=0.1, shuffle=True\n",
    ")\n",
    "\n",
    "neuroticism_x_train, neuroticism_x_test, neuroticism_y_train, neuroticism_y_test = train_test_split(\n",
    "    neuroticism_x, neuroticism_y, test_size=0.1, shuffle=True\n",
    ")\n",
    "\n",
    "openness_x_train, openness_x_test, openness_y_train, openness_y_test = train_test_split(\n",
    "    openness_x, openness_y, test_size=0.1, shuffle=True\n",
    ")"
   ]
  },
  {
   "cell_type": "markdown",
   "metadata": {},
   "source": [
    "## Merging each train & test data into single data"
   ]
  },
  {
   "cell_type": "code",
   "execution_count": 241,
   "metadata": {},
   "outputs": [],
   "source": [
    "x_train = pd.concat([\n",
    "    agreeableness_x_train,\n",
    "    conscientiousness_x_train,\n",
    "    extraversion_x_train,\n",
    "    neuroticism_x_train,\n",
    "    openness_x_train\n",
    "])\n",
    "\n",
    "y_train = pd.concat([\n",
    "    agreeableness_y_train,\n",
    "    conscientiousness_y_train,\n",
    "    extraversion_y_train,\n",
    "    neuroticism_y_train,\n",
    "    openness_y_train\n",
    "])\n",
    "\n",
    "x_test = pd.concat([\n",
    "    agreeableness_x_test,\n",
    "    conscientiousness_x_test,\n",
    "    extraversion_x_test,\n",
    "    neuroticism_x_test,\n",
    "    openness_x_test\n",
    "])\n",
    "\n",
    "y_test = pd.concat([\n",
    "    agreeableness_y_test,\n",
    "    conscientiousness_y_test,\n",
    "    extraversion_y_test,\n",
    "    neuroticism_y_test,\n",
    "    openness_y_test\n",
    "])"
   ]
  },
  {
   "cell_type": "code",
   "execution_count": 242,
   "metadata": {},
   "outputs": [
    {
     "name": "stdout",
     "output_type": "stream",
     "text": [
      "((197, 5), (197,), (24, 5), (24,))\n"
     ]
    }
   ],
   "source": [
    "print(f\"{x_train.shape, y_train.shape, x_test.shape, y_test.shape}\")"
   ]
  },
  {
   "cell_type": "code",
   "execution_count": 243,
   "metadata": {},
   "outputs": [
    {
     "data": {
      "text/html": [
       "<div>\n",
       "<style scoped>\n",
       "    .dataframe tbody tr th:only-of-type {\n",
       "        vertical-align: middle;\n",
       "    }\n",
       "\n",
       "    .dataframe tbody tr th {\n",
       "        vertical-align: top;\n",
       "    }\n",
       "\n",
       "    .dataframe thead th {\n",
       "        text-align: right;\n",
       "    }\n",
       "</style>\n",
       "<table border=\"1\" class=\"dataframe\">\n",
       "  <thead>\n",
       "    <tr style=\"text-align: right;\">\n",
       "      <th></th>\n",
       "      <th>letter_slant</th>\n",
       "      <th>line_slant</th>\n",
       "      <th>margin_slope</th>\n",
       "      <th>letter_size</th>\n",
       "      <th>word_spacing</th>\n",
       "    </tr>\n",
       "  </thead>\n",
       "  <tbody>\n",
       "    <tr>\n",
       "      <th>18</th>\n",
       "      <td>1.0</td>\n",
       "      <td>-88.1</td>\n",
       "      <td>-3.3</td>\n",
       "      <td>622.2</td>\n",
       "      <td>33.0</td>\n",
       "    </tr>\n",
       "    <tr>\n",
       "      <th>15</th>\n",
       "      <td>-6.0</td>\n",
       "      <td>2.8</td>\n",
       "      <td>6.8</td>\n",
       "      <td>56.7</td>\n",
       "      <td>28.0</td>\n",
       "    </tr>\n",
       "    <tr>\n",
       "      <th>178</th>\n",
       "      <td>-3.0</td>\n",
       "      <td>1.8</td>\n",
       "      <td>16.7</td>\n",
       "      <td>94.8</td>\n",
       "      <td>22.0</td>\n",
       "    </tr>\n",
       "    <tr>\n",
       "      <th>10</th>\n",
       "      <td>2.0</td>\n",
       "      <td>-2.1</td>\n",
       "      <td>4.2</td>\n",
       "      <td>89.0</td>\n",
       "      <td>37.0</td>\n",
       "    </tr>\n",
       "    <tr>\n",
       "      <th>14</th>\n",
       "      <td>7.0</td>\n",
       "      <td>0.0</td>\n",
       "      <td>-7.3</td>\n",
       "      <td>811.3</td>\n",
       "      <td>24.0</td>\n",
       "    </tr>\n",
       "  </tbody>\n",
       "</table>\n",
       "</div>"
      ],
      "text/plain": [
       "     letter_slant  line_slant  margin_slope  letter_size  word_spacing\n",
       "18            1.0       -88.1          -3.3        622.2          33.0\n",
       "15           -6.0         2.8           6.8         56.7          28.0\n",
       "178          -3.0         1.8          16.7         94.8          22.0\n",
       "10            2.0        -2.1           4.2         89.0          37.0\n",
       "14            7.0         0.0          -7.3        811.3          24.0"
      ]
     },
     "execution_count": 243,
     "metadata": {},
     "output_type": "execute_result"
    }
   ],
   "source": [
    "x_train.head()"
   ]
  },
  {
   "cell_type": "code",
   "execution_count": 244,
   "metadata": {},
   "outputs": [
    {
     "data": {
      "text/plain": [
       "18     Agreeableness\n",
       "15     Agreeableness\n",
       "178    Agreeableness\n",
       "10     Agreeableness\n",
       "14     Agreeableness\n",
       "Name: personality, dtype: object"
      ]
     },
     "execution_count": 244,
     "metadata": {},
     "output_type": "execute_result"
    }
   ],
   "source": [
    "y_train.head()"
   ]
  },
  {
   "cell_type": "markdown",
   "metadata": {},
   "source": [
    "# Training the models"
   ]
  },
  {
   "cell_type": "markdown",
   "metadata": {},
   "source": [
    "## Random forest"
   ]
  },
  {
   "cell_type": "code",
   "execution_count": 245,
   "metadata": {},
   "outputs": [
    {
     "data": {
      "text/plain": [
       "array(['Openness', 'Openness', 'Conscientiousness', 'Openness',\n",
       "       'Neuroticism', 'Neuroticism', 'Openness', 'Openness', 'Openness',\n",
       "       'Neuroticism', 'Openness', 'Conscientiousness', 'Openness',\n",
       "       'Openness', 'Agreeableness', 'Openness', 'Neuroticism', 'Openness',\n",
       "       'Openness', 'Openness', 'Openness', 'Openness', 'Openness',\n",
       "       'Openness'], dtype=object)"
      ]
     },
     "execution_count": 245,
     "metadata": {},
     "output_type": "execute_result"
    }
   ],
   "source": [
    "rf = RandomForestClassifier(n_estimators=50, criterion=\"gini\", random_state=20)\n",
    "rf.fit(x_train, y_train)\n",
    "y_pred_rf = rf.predict(x_test)\n",
    "y_pred_rf"
   ]
  },
  {
   "cell_type": "markdown",
   "metadata": {},
   "source": [
    "## KNN"
   ]
  },
  {
   "cell_type": "markdown",
   "metadata": {},
   "source": [
    "### Selecting optimal number of neighbors (k)"
   ]
  },
  {
   "cell_type": "code",
   "execution_count": 247,
   "metadata": {},
   "outputs": [
    {
     "name": "stdout",
     "output_type": "stream",
     "text": [
      "Optimal number of neighbors: 40\n"
     ]
    }
   ],
   "source": [
    "from sklearn.model_selection import cross_val_score\n",
    "\n",
    "k_range = range(1, 100)\n",
    "k_scores = []\n",
    "\n",
    "for k in k_range:\n",
    "    knn = KNeighborsClassifier(n_neighbors=k)\n",
    "    scores = cross_val_score(knn, x_train, y_train, cv=8, scoring=\"accuracy\")\n",
    "    k_scores.append(scores.mean())\n",
    "\n",
    "optimal_k = k_range[np.argmax(k_scores)]\n",
    "print(f\"Optimal number of neighbors: {optimal_k}\")"
   ]
  },
  {
   "cell_type": "markdown",
   "metadata": {},
   "source": [
    "### Training the KNN model"
   ]
  },
  {
   "cell_type": "code",
   "execution_count": 248,
   "metadata": {},
   "outputs": [
    {
     "data": {
      "text/plain": [
       "array(['Openness', 'Openness', 'Openness', 'Openness', 'Openness',\n",
       "       'Openness', 'Openness', 'Openness', 'Openness', 'Openness',\n",
       "       'Openness', 'Openness', 'Openness', 'Openness', 'Openness',\n",
       "       'Openness', 'Openness', 'Openness', 'Openness', 'Openness',\n",
       "       'Openness', 'Openness', 'Openness', 'Openness'], dtype=object)"
      ]
     },
     "execution_count": 248,
     "metadata": {},
     "output_type": "execute_result"
    }
   ],
   "source": [
    "knn = KNeighborsClassifier(n_neighbors=optimal_k)\n",
    "knn.fit(x_train, y_train)\n",
    "y_pred_knn = knn.predict(x_test)\n",
    "y_pred_knn"
   ]
  },
  {
   "cell_type": "markdown",
   "metadata": {},
   "source": [
    "# Output"
   ]
  },
  {
   "cell_type": "markdown",
   "metadata": {},
   "source": [
    "## Accuracy Score"
   ]
  },
  {
   "cell_type": "markdown",
   "metadata": {},
   "source": [
    "### Accuracy for Random Forest"
   ]
  },
  {
   "cell_type": "code",
   "execution_count": 246,
   "metadata": {},
   "outputs": [
    {
     "name": "stdout",
     "output_type": "stream",
     "text": [
      "Accuracy for Random Forest Classifier: 37.5%\n"
     ]
    }
   ],
   "source": [
    "accuracy_rf = accuracy_score(y_test, y_pred_rf)\n",
    "accuracy_rf = round(accuracy_rf * 100, 2)\n",
    "print(f\"Accuracy for Random Forest Classifier: {accuracy_rf}%\")"
   ]
  },
  {
   "cell_type": "markdown",
   "metadata": {},
   "source": [
    "### Accuracy for KNN"
   ]
  },
  {
   "cell_type": "code",
   "execution_count": 249,
   "metadata": {},
   "outputs": [
    {
     "name": "stdout",
     "output_type": "stream",
     "text": [
      "Accuracy for KNN Classifier: 41.67%\n"
     ]
    }
   ],
   "source": [
    "accuracy_knn = accuracy_score(y_test, y_pred_knn)\n",
    "accuracy_knn = round(accuracy_knn * 100, 2)\n",
    "print(f\"Accuracy for KNN Classifier: {accuracy_knn}%\")"
   ]
  },
  {
   "cell_type": "markdown",
   "metadata": {},
   "source": [
    "## Confusion Matrix"
   ]
  },
  {
   "cell_type": "code",
   "execution_count": 250,
   "metadata": {},
   "outputs": [
    {
     "data": {
      "image/png": "[encoded data removed]",
      "text/plain": [
       "<Figure size 1000x500 with 4 Axes>"
      ]
     },
     "metadata": {},
     "output_type": "display_data"
    }
   ],
   "source": [
    "import matplotlib.pyplot as plt\n",
    "\n",
    "cm_rf = confusion_matrix(y_test, y_pred_rf, labels=rf.classes_)\n",
    "cm_knn = confusion_matrix(y_test, y_pred_knn, labels=knn.classes_)\n",
    "\n",
    "fig, (ax1, ax2) = plt.subplots(1, 2, figsize=(10, 5))\n",
    "\n",
    "disp1 = ConfusionMatrixDisplay(confusion_matrix=cm_rf, display_labels=rf.classes_)\n",
    "disp1.plot(ax=ax1, xticks_rotation=\"vertical\", cmap=\"Blues\")\n",
    "\n",
    "disp2 = ConfusionMatrixDisplay(confusion_matrix=cm_knn, display_labels=knn.classes_)\n",
    "disp2.plot(ax=ax2, xticks_rotation=\"vertical\", cmap=\"Blues\")\n",
    "\n",
    "ax1.set_title(f\"Random Forest (Accuracy: {accuracy_rf}%)\")\n",
    "ax2.set_title(f\"KNN Classifier (Accuracy: {accuracy_knn}%)\")\n",
    "\n",
    "fig.suptitle(\"Confusion Matrix\")\n",
    "fig.tight_layout()\n",
    "plt.show()"
   ]
  },
  {
   "cell_type": "markdown",
   "metadata": {},
   "source": [
    "## Assessment Metrics"
   ]
  },
  {
   "cell_type": "code",
   "execution_count": 251,
   "metadata": {},
   "outputs": [
    {
     "data": {
      "text/html": [
       "<div>\n",
       "<style scoped>\n",
       "    .dataframe tbody tr th:only-of-type {\n",
       "        vertical-align: middle;\n",
       "    }\n",
       "\n",
       "    .dataframe tbody tr th {\n",
       "        vertical-align: top;\n",
       "    }\n",
       "\n",
       "    .dataframe thead th {\n",
       "        text-align: right;\n",
       "    }\n",
       "</style>\n",
       "<table border=\"1\" class=\"dataframe\">\n",
       "  <thead>\n",
       "    <tr style=\"text-align: right;\">\n",
       "      <th></th>\n",
       "      <th>precision</th>\n",
       "      <th>recall</th>\n",
       "      <th>f1-score</th>\n",
       "      <th>support</th>\n",
       "    </tr>\n",
       "  </thead>\n",
       "  <tbody>\n",
       "    <tr>\n",
       "      <th>Agreeableness</th>\n",
       "      <td>0.000000</td>\n",
       "      <td>0.000</td>\n",
       "      <td>0.000000</td>\n",
       "      <td>4.000</td>\n",
       "    </tr>\n",
       "    <tr>\n",
       "      <th>Conscientiousness</th>\n",
       "      <td>0.000000</td>\n",
       "      <td>0.000</td>\n",
       "      <td>0.000000</td>\n",
       "      <td>4.000</td>\n",
       "    </tr>\n",
       "    <tr>\n",
       "      <th>Extraversion</th>\n",
       "      <td>0.000000</td>\n",
       "      <td>0.000</td>\n",
       "      <td>0.000000</td>\n",
       "      <td>1.000</td>\n",
       "    </tr>\n",
       "    <tr>\n",
       "      <th>Neuroticism</th>\n",
       "      <td>0.250000</td>\n",
       "      <td>0.200</td>\n",
       "      <td>0.222222</td>\n",
       "      <td>5.000</td>\n",
       "    </tr>\n",
       "    <tr>\n",
       "      <th>Openness</th>\n",
       "      <td>0.470588</td>\n",
       "      <td>0.800</td>\n",
       "      <td>0.592593</td>\n",
       "      <td>10.000</td>\n",
       "    </tr>\n",
       "    <tr>\n",
       "      <th>accuracy</th>\n",
       "      <td>0.375000</td>\n",
       "      <td>0.375</td>\n",
       "      <td>0.375000</td>\n",
       "      <td>0.375</td>\n",
       "    </tr>\n",
       "    <tr>\n",
       "      <th>macro avg</th>\n",
       "      <td>0.144118</td>\n",
       "      <td>0.200</td>\n",
       "      <td>0.162963</td>\n",
       "      <td>24.000</td>\n",
       "    </tr>\n",
       "    <tr>\n",
       "      <th>weighted avg</th>\n",
       "      <td>0.248162</td>\n",
       "      <td>0.375</td>\n",
       "      <td>0.293210</td>\n",
       "      <td>24.000</td>\n",
       "    </tr>\n",
       "  </tbody>\n",
       "</table>\n",
       "</div>"
      ],
      "text/plain": [
       "                   precision  recall  f1-score  support\n",
       "Agreeableness       0.000000   0.000  0.000000    4.000\n",
       "Conscientiousness   0.000000   0.000  0.000000    4.000\n",
       "Extraversion        0.000000   0.000  0.000000    1.000\n",
       "Neuroticism         0.250000   0.200  0.222222    5.000\n",
       "Openness            0.470588   0.800  0.592593   10.000\n",
       "accuracy            0.375000   0.375  0.375000    0.375\n",
       "macro avg           0.144118   0.200  0.162963   24.000\n",
       "weighted avg        0.248162   0.375  0.293210   24.000"
      ]
     },
     "execution_count": 251,
     "metadata": {},
     "output_type": "execute_result"
    }
   ],
   "source": [
    "from sklearn.metrics import classification_report\n",
    "\n",
    "report_rf = classification_report(y_test, y_pred_rf, labels=rf.classes_, output_dict=True, zero_division=0)\n",
    "report_knn = classification_report(y_test, y_pred_knn, labels=knn.classes_, output_dict=True, zero_division=0)\n",
    "report_df1 = pd.DataFrame(report_rf)\n",
    "report_df2 = pd.DataFrame(report_knn)\n",
    "\n",
    "## show merged report of these two in a tabular format\n",
    "# report_df = pd.concat([report_df1, report_df2])\n",
    "report_df1.transpose()"
   ]
  },
  {
   "cell_type": "markdown",
   "metadata": {},
   "source": [
    "# Save the model"
   ]
  },
  {
   "cell_type": "markdown",
   "metadata": {},
   "source": [
    "## Save trained model for further use"
   ]
  },
  {
   "cell_type": "code",
   "execution_count": 252,
   "metadata": {},
   "outputs": [
    {
     "name": "stdout",
     "output_type": "stream",
     "text": [
      "Saved RF model size: 0.113 MB\n",
      "Saved KNN model size: 0.004 MB\n"
     ]
    }
   ],
   "source": [
    "import joblib\n",
    "import os\n",
    "\n",
    "joblib.dump(rf, \"./saved_models/random_forest.joblib\", compress=3)\n",
    "print(f\"Saved RF model size: {np.round(os.path.getsize('./saved_models/random_forest.joblib') / 1024 / 1024, 3) } MB\")\n",
    "\n",
    "joblib.dump(knn, \"./saved_models/knn.joblib\", compress=3)\n",
    "print(f\"Saved KNN model size: {np.round(os.path.getsize('./saved_models/knn.joblib') / 1024 / 1024, 3) } MB\")"
   ]
  },
  {
   "cell_type": "markdown",
   "metadata": {},
   "source": [
    "## Save the randomly splitted dataset for further use with same accuracy"
   ]
  },
  {
   "cell_type": "code",
   "execution_count": 253,
   "metadata": {},
   "outputs": [],
   "source": [
    "df_train = pd.concat([x_train, y_train], axis=1)\n",
    "df_train.to_csv(\"./saved_models/train.csv\", index=False)\n",
    "\n",
    "df_test = pd.concat([x_test, y_test], axis=1)\n",
    "df_test.to_csv(\"./saved_models/test.csv\", index=False)"
   ]
  }
 ],
 "metadata": {
  "kernelspec": {
   "display_name": "venv",
   "language": "python",
   "name": "python3"
  },
  "language_info": {
   "codemirror_mode": {
    "name": "ipython",
    "version": 3
   },
   "file_extension": ".py",
   "mimetype": "text/x-python",
   "name": "python",
   "nbconvert_exporter": "python",
   "pygments_lexer": "ipython3",
   "version": "3.11.7"
  }
 },
 "nbformat": 4,
 "nbformat_minor": 2
}
