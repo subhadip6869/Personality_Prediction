{
 "cells": [
  {
   "cell_type": "code",
   "execution_count": 286,
   "metadata": {
    "ExecuteTime": {
     "end_time": "2023-04-25T16:46:05.076619Z",
     "start_time": "2023-04-25T16:46:01.821867Z"
    }
   },
   "outputs": [],
   "source": [
    "from sklearn.ensemble import RandomForestClassifier\n",
    "from sklearn.model_selection import train_test_split\n",
    "import numpy as np\n",
    "import pandas as pd"
   ]
  },
  {
   "cell_type": "code",
   "execution_count": 287,
   "metadata": {
    "ExecuteTime": {
     "end_time": "2023-04-25T16:46:09.076845Z",
     "start_time": "2023-04-25T16:46:09.040697Z"
    }
   },
   "outputs": [
    {
     "data": {
      "text/plain": [
       "array(['letter_slant', 'line_slant', 'margin_slope', 'letter_size',\n",
       "       'word_spacing', 'personality'], dtype=object)"
      ]
     },
     "execution_count": 287,
     "metadata": {},
     "output_type": "execute_result"
    }
   ],
   "source": [
    "trainData = pd.read_csv(\"dataset/features.csv\")\n",
    "data_cols = np.array(trainData.columns)\n",
    "data_cols"
   ]
  },
  {
   "cell_type": "code",
   "execution_count": 288,
   "metadata": {
    "ExecuteTime": {
     "end_time": "2023-04-25T16:46:13.944225Z",
     "start_time": "2023-04-25T16:46:13.917319Z"
    }
   },
   "outputs": [
    {
     "data": {
      "text/html": [
       "<div>\n",
       "<style scoped>\n",
       "    .dataframe tbody tr th:only-of-type {\n",
       "        vertical-align: middle;\n",
       "    }\n",
       "\n",
       "    .dataframe tbody tr th {\n",
       "        vertical-align: top;\n",
       "    }\n",
       "\n",
       "    .dataframe thead th {\n",
       "        text-align: right;\n",
       "    }\n",
       "</style>\n",
       "<table border=\"1\" class=\"dataframe\">\n",
       "  <thead>\n",
       "    <tr style=\"text-align: right;\">\n",
       "      <th></th>\n",
       "      <th>letter_slant</th>\n",
       "      <th>line_slant</th>\n",
       "      <th>margin_slope</th>\n",
       "      <th>letter_size</th>\n",
       "      <th>word_spacing</th>\n",
       "      <th>personality</th>\n",
       "    </tr>\n",
       "  </thead>\n",
       "  <tbody>\n",
       "    <tr>\n",
       "      <th>0</th>\n",
       "      <td>2.0</td>\n",
       "      <td>-75.1</td>\n",
       "      <td>4.1</td>\n",
       "      <td>931.7</td>\n",
       "      <td>15.0</td>\n",
       "      <td>Agreeableness</td>\n",
       "    </tr>\n",
       "    <tr>\n",
       "      <th>1</th>\n",
       "      <td>-11.0</td>\n",
       "      <td>9.6</td>\n",
       "      <td>15.3</td>\n",
       "      <td>486.2</td>\n",
       "      <td>22.0</td>\n",
       "      <td>Agreeableness</td>\n",
       "    </tr>\n",
       "    <tr>\n",
       "      <th>2</th>\n",
       "      <td>18.0</td>\n",
       "      <td>-2.3</td>\n",
       "      <td>1.0</td>\n",
       "      <td>112.8</td>\n",
       "      <td>1.0</td>\n",
       "      <td>Agreeableness</td>\n",
       "    </tr>\n",
       "    <tr>\n",
       "      <th>3</th>\n",
       "      <td>6.0</td>\n",
       "      <td>-4.0</td>\n",
       "      <td>-1.1</td>\n",
       "      <td>30.6</td>\n",
       "      <td>1.0</td>\n",
       "      <td>Agreeableness</td>\n",
       "    </tr>\n",
       "    <tr>\n",
       "      <th>4</th>\n",
       "      <td>-6.0</td>\n",
       "      <td>0.0</td>\n",
       "      <td>2.2</td>\n",
       "      <td>152.9</td>\n",
       "      <td>9.0</td>\n",
       "      <td>Agreeableness</td>\n",
       "    </tr>\n",
       "  </tbody>\n",
       "</table>\n",
       "</div>"
      ],
      "text/plain": [
       "   letter_slant  line_slant  margin_slope  letter_size  word_spacing   \n",
       "0           2.0       -75.1           4.1        931.7          15.0  \\\n",
       "1         -11.0         9.6          15.3        486.2          22.0   \n",
       "2          18.0        -2.3           1.0        112.8           1.0   \n",
       "3           6.0        -4.0          -1.1         30.6           1.0   \n",
       "4          -6.0         0.0           2.2        152.9           9.0   \n",
       "\n",
       "     personality  \n",
       "0  Agreeableness  \n",
       "1  Agreeableness  \n",
       "2  Agreeableness  \n",
       "3  Agreeableness  \n",
       "4  Agreeableness  "
      ]
     },
     "execution_count": 288,
     "metadata": {},
     "output_type": "execute_result"
    }
   ],
   "source": [
    "trainData.head()"
   ]
  },
  {
   "cell_type": "code",
   "execution_count": 289,
   "metadata": {
    "ExecuteTime": {
     "end_time": "2023-04-25T16:46:17.646492Z",
     "start_time": "2023-04-25T16:46:17.621302Z"
    }
   },
   "outputs": [
    {
     "name": "stdout",
     "output_type": "stream",
     "text": [
      "<class 'pandas.core.frame.DataFrame'>\n",
      "RangeIndex: 221 entries, 0 to 220\n",
      "Data columns (total 6 columns):\n",
      " #   Column        Non-Null Count  Dtype  \n",
      "---  ------        --------------  -----  \n",
      " 0   letter_slant  221 non-null    float64\n",
      " 1   line_slant    221 non-null    float64\n",
      " 2   margin_slope  221 non-null    float64\n",
      " 3   letter_size   221 non-null    float64\n",
      " 4   word_spacing  221 non-null    float64\n",
      " 5   personality   221 non-null    object \n",
      "dtypes: float64(5), object(1)\n",
      "memory usage: 10.5+ KB\n"
     ]
    }
   ],
   "source": [
    "trainData.info()"
   ]
  },
  {
   "cell_type": "code",
   "execution_count": 290,
   "metadata": {
    "ExecuteTime": {
     "end_time": "2023-04-25T16:46:22.019884Z",
     "start_time": "2023-04-25T16:46:21.955761Z"
    }
   },
   "outputs": [
    {
     "data": {
      "text/plain": [
       "letter_slant    0\n",
       "line_slant      0\n",
       "margin_slope    0\n",
       "letter_size     0\n",
       "word_spacing    0\n",
       "personality     0\n",
       "dtype: int64"
      ]
     },
     "execution_count": 290,
     "metadata": {},
     "output_type": "execute_result"
    }
   ],
   "source": [
    "trainData.isnull().sum()"
   ]
  },
  {
   "cell_type": "code",
   "execution_count": 291,
   "metadata": {
    "ExecuteTime": {
     "end_time": "2023-04-25T16:46:37.895145Z",
     "start_time": "2023-04-25T16:46:37.843656Z"
    }
   },
   "outputs": [
    {
     "name": "stdout",
     "output_type": "stream",
     "text": [
      "<class 'pandas.core.frame.DataFrame'>\n",
      "RangeIndex: 221 entries, 0 to 220\n",
      "Data columns (total 6 columns):\n",
      " #   Column        Non-Null Count  Dtype  \n",
      "---  ------        --------------  -----  \n",
      " 0   letter_slant  221 non-null    float64\n",
      " 1   line_slant    221 non-null    float64\n",
      " 2   margin_slope  221 non-null    float64\n",
      " 3   letter_size   221 non-null    float64\n",
      " 4   word_spacing  221 non-null    float64\n",
      " 5   personality   221 non-null    object \n",
      "dtypes: float64(5), object(1)\n",
      "memory usage: 10.5+ KB\n"
     ]
    }
   ],
   "source": [
    "trainData = trainData.dropna(axis=0)\n",
    "trainData.info()"
   ]
  },
  {
   "cell_type": "code",
   "execution_count": 292,
   "metadata": {
    "ExecuteTime": {
     "end_time": "2023-04-25T16:46:42.969976Z",
     "start_time": "2023-04-25T16:46:42.944803Z"
    }
   },
   "outputs": [],
   "source": [
    "y = trainData[data_cols[-1]]\n",
    "x = trainData.drop(data_cols[-1], axis=1)"
   ]
  },
  {
   "cell_type": "code",
   "execution_count": 293,
   "metadata": {
    "ExecuteTime": {
     "end_time": "2023-04-25T16:46:46.868875Z",
     "start_time": "2023-04-25T16:46:46.846482Z"
    }
   },
   "outputs": [
    {
     "data": {
      "text/html": [
       "<div>\n",
       "<style scoped>\n",
       "    .dataframe tbody tr th:only-of-type {\n",
       "        vertical-align: middle;\n",
       "    }\n",
       "\n",
       "    .dataframe tbody tr th {\n",
       "        vertical-align: top;\n",
       "    }\n",
       "\n",
       "    .dataframe thead th {\n",
       "        text-align: right;\n",
       "    }\n",
       "</style>\n",
       "<table border=\"1\" class=\"dataframe\">\n",
       "  <thead>\n",
       "    <tr style=\"text-align: right;\">\n",
       "      <th></th>\n",
       "      <th>letter_slant</th>\n",
       "      <th>line_slant</th>\n",
       "      <th>margin_slope</th>\n",
       "      <th>letter_size</th>\n",
       "      <th>word_spacing</th>\n",
       "    </tr>\n",
       "  </thead>\n",
       "  <tbody>\n",
       "    <tr>\n",
       "      <th>0</th>\n",
       "      <td>2.0</td>\n",
       "      <td>-75.1</td>\n",
       "      <td>4.1</td>\n",
       "      <td>931.7</td>\n",
       "      <td>15.0</td>\n",
       "    </tr>\n",
       "    <tr>\n",
       "      <th>1</th>\n",
       "      <td>-11.0</td>\n",
       "      <td>9.6</td>\n",
       "      <td>15.3</td>\n",
       "      <td>486.2</td>\n",
       "      <td>22.0</td>\n",
       "    </tr>\n",
       "    <tr>\n",
       "      <th>2</th>\n",
       "      <td>18.0</td>\n",
       "      <td>-2.3</td>\n",
       "      <td>1.0</td>\n",
       "      <td>112.8</td>\n",
       "      <td>1.0</td>\n",
       "    </tr>\n",
       "    <tr>\n",
       "      <th>3</th>\n",
       "      <td>6.0</td>\n",
       "      <td>-4.0</td>\n",
       "      <td>-1.1</td>\n",
       "      <td>30.6</td>\n",
       "      <td>1.0</td>\n",
       "    </tr>\n",
       "    <tr>\n",
       "      <th>4</th>\n",
       "      <td>-6.0</td>\n",
       "      <td>0.0</td>\n",
       "      <td>2.2</td>\n",
       "      <td>152.9</td>\n",
       "      <td>9.0</td>\n",
       "    </tr>\n",
       "    <tr>\n",
       "      <th>...</th>\n",
       "      <td>...</td>\n",
       "      <td>...</td>\n",
       "      <td>...</td>\n",
       "      <td>...</td>\n",
       "      <td>...</td>\n",
       "    </tr>\n",
       "    <tr>\n",
       "      <th>216</th>\n",
       "      <td>11.0</td>\n",
       "      <td>-6.3</td>\n",
       "      <td>-6.2</td>\n",
       "      <td>190.4</td>\n",
       "      <td>9.0</td>\n",
       "    </tr>\n",
       "    <tr>\n",
       "      <th>217</th>\n",
       "      <td>5.0</td>\n",
       "      <td>-4.0</td>\n",
       "      <td>25.5</td>\n",
       "      <td>71.5</td>\n",
       "      <td>20.0</td>\n",
       "    </tr>\n",
       "    <tr>\n",
       "      <th>218</th>\n",
       "      <td>5.0</td>\n",
       "      <td>-1.1</td>\n",
       "      <td>-0.2</td>\n",
       "      <td>55.7</td>\n",
       "      <td>50.0</td>\n",
       "    </tr>\n",
       "    <tr>\n",
       "      <th>219</th>\n",
       "      <td>13.0</td>\n",
       "      <td>-5.9</td>\n",
       "      <td>-20.1</td>\n",
       "      <td>187.8</td>\n",
       "      <td>62.0</td>\n",
       "    </tr>\n",
       "    <tr>\n",
       "      <th>220</th>\n",
       "      <td>1.0</td>\n",
       "      <td>0.0</td>\n",
       "      <td>17.6</td>\n",
       "      <td>50.5</td>\n",
       "      <td>27.0</td>\n",
       "    </tr>\n",
       "  </tbody>\n",
       "</table>\n",
       "<p>221 rows × 5 columns</p>\n",
       "</div>"
      ],
      "text/plain": [
       "     letter_slant  line_slant  margin_slope  letter_size  word_spacing\n",
       "0             2.0       -75.1           4.1        931.7          15.0\n",
       "1           -11.0         9.6          15.3        486.2          22.0\n",
       "2            18.0        -2.3           1.0        112.8           1.0\n",
       "3             6.0        -4.0          -1.1         30.6           1.0\n",
       "4            -6.0         0.0           2.2        152.9           9.0\n",
       "..            ...         ...           ...          ...           ...\n",
       "216          11.0        -6.3          -6.2        190.4           9.0\n",
       "217           5.0        -4.0          25.5         71.5          20.0\n",
       "218           5.0        -1.1          -0.2         55.7          50.0\n",
       "219          13.0        -5.9         -20.1        187.8          62.0\n",
       "220           1.0         0.0          17.6         50.5          27.0\n",
       "\n",
       "[221 rows x 5 columns]"
      ]
     },
     "execution_count": 293,
     "metadata": {},
     "output_type": "execute_result"
    }
   ],
   "source": [
    "x"
   ]
  },
  {
   "cell_type": "code",
   "execution_count": 294,
   "metadata": {
    "ExecuteTime": {
     "end_time": "2023-04-25T16:46:49.710654Z",
     "start_time": "2023-04-25T16:46:49.683123Z"
    }
   },
   "outputs": [
    {
     "data": {
      "text/plain": [
       "0      Agreeableness\n",
       "1      Agreeableness\n",
       "2      Agreeableness\n",
       "3      Agreeableness\n",
       "4      Agreeableness\n",
       "           ...      \n",
       "216         Openness\n",
       "217         Openness\n",
       "218         Openness\n",
       "219         Openness\n",
       "220         Openness\n",
       "Name: personality, Length: 221, dtype: object"
      ]
     },
     "execution_count": 294,
     "metadata": {},
     "output_type": "execute_result"
    }
   ],
   "source": [
    "y"
   ]
  },
  {
   "cell_type": "code",
   "execution_count": 295,
   "metadata": {
    "ExecuteTime": {
     "end_time": "2023-04-25T16:47:03.791990Z",
     "start_time": "2023-04-25T16:47:03.780415Z"
    }
   },
   "outputs": [],
   "source": [
    "x_train, x_test, y_train, y_test = train_test_split(x, y, test_size=0.10, shuffle=True)"
   ]
  },
  {
   "cell_type": "code",
   "execution_count": 296,
   "metadata": {
    "ExecuteTime": {
     "end_time": "2023-04-25T16:47:07.444485Z",
     "start_time": "2023-04-25T16:47:07.252706Z"
    }
   },
   "outputs": [],
   "source": [
    "rf = RandomForestClassifier(n_estimators=100, criterion=\"gini\", random_state=42)\n",
    "rf_res = rf.fit(x_train, y_train)"
   ]
  },
  {
   "cell_type": "code",
   "execution_count": 297,
   "metadata": {
    "ExecuteTime": {
     "end_time": "2023-04-25T16:47:55.687500Z",
     "start_time": "2023-04-25T16:47:55.642109Z"
    }
   },
   "outputs": [
    {
     "name": "stdout",
     "output_type": "stream",
     "text": [
      "['Openness' 'Openness' 'Openness' 'Agreeableness' 'Openness' 'Openness'\n",
      " 'Openness' 'Openness' 'Openness' 'Openness' 'Openness' 'Openness'\n",
      " 'Openness' 'Openness' 'Openness' 'Openness' 'Openness' 'Openness'\n",
      " 'Openness' 'Openness' 'Neuroticism' 'Openness' 'Openness']\n"
     ]
    }
   ],
   "source": [
    "y_pred = rf.predict(x_test)\n",
    "print(y_pred)"
   ]
  },
  {
   "cell_type": "code",
   "execution_count": 298,
   "metadata": {
    "ExecuteTime": {
     "end_time": "2023-04-25T16:47:33.921406Z",
     "start_time": "2023-04-25T16:47:33.876555Z"
    }
   },
   "outputs": [
    {
     "data": {
      "text/plain": [
       "0.4782608695652174"
      ]
     },
     "execution_count": 298,
     "metadata": {},
     "output_type": "execute_result"
    }
   ],
   "source": [
    "from sklearn.metrics import accuracy_score, confusion_matrix\n",
    "accuracy = accuracy_score(y_test, y_pred)\n",
    "accuracy"
   ]
  },
  {
   "cell_type": "code",
   "execution_count": 299,
   "metadata": {},
   "outputs": [
    {
     "name": "stdout",
     "output_type": "stream",
     "text": [
      "Saved model size: 0.19 MB\n"
     ]
    }
   ],
   "source": [
    "import joblib\n",
    "import os\n",
    "joblib.dump(rf, \"./saved_models/random_forest.joblib\", compress=3)\n",
    "print(f\"Saved model size: {np.round(os.path.getsize('./saved_models/random_forest.joblib') / 1024 / 1024, 2) } MB\")"
   ]
  },
  {
   "cell_type": "code",
   "execution_count": 300,
   "metadata": {
    "ExecuteTime": {
     "end_time": "2023-04-25T16:47:38.165677Z",
     "start_time": "2023-04-25T16:47:38.141029Z"
    }
   },
   "outputs": [
    {
     "data": {
      "text/plain": [
       "array([0.16579824, 0.212602  , 0.22105842, 0.20065412, 0.19988722])"
      ]
     },
     "execution_count": 300,
     "metadata": {},
     "output_type": "execute_result"
    }
   ],
   "source": [
    "rf.feature_importances_"
   ]
  }
 ],
 "metadata": {
  "kernelspec": {
   "display_name": "venv",
   "language": "python",
   "name": "python3"
  },
  "language_info": {
   "codemirror_mode": {
    "name": "ipython",
    "version": 3
   },
   "file_extension": ".py",
   "mimetype": "text/x-python",
   "name": "python",
   "nbconvert_exporter": "python",
   "pygments_lexer": "ipython3",
   "version": "3.9.10"
  },
  "orig_nbformat": 4
 },
 "nbformat": 4,
 "nbformat_minor": 2
}
