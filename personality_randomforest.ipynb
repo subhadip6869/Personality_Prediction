{
 "cells": [
  {
   "cell_type": "code",
   "execution_count": 217,
   "metadata": {
    "ExecuteTime": {
     "end_time": "2023-04-25T16:46:05.076619Z",
     "start_time": "2023-04-25T16:46:01.821867Z"
    }
   },
   "outputs": [],
   "source": [
    "from sklearn.ensemble import RandomForestClassifier\n",
    "from sklearn.model_selection import train_test_split\n",
    "import numpy as np\n",
    "import pandas as pd"
   ]
  },
  {
   "cell_type": "code",
   "execution_count": 218,
   "metadata": {
    "ExecuteTime": {
     "end_time": "2023-04-25T16:46:09.076845Z",
     "start_time": "2023-04-25T16:46:09.040697Z"
    }
   },
   "outputs": [
    {
     "data": {
      "text/plain": [
       "array(['letter_slant', 'line_slant', 'letter_size', 'margin_slope',\n",
       "       'word_spacing', 'personality'], dtype=object)"
      ]
     },
     "execution_count": 218,
     "metadata": {},
     "output_type": "execute_result"
    }
   ],
   "source": [
    "trainData = pd.read_csv(\"dataset/my_features.csv\")\n",
    "data_cols = np.array(trainData.columns)\n",
    "data_cols"
   ]
  },
  {
   "cell_type": "code",
   "execution_count": 219,
   "metadata": {
    "ExecuteTime": {
     "end_time": "2023-04-25T16:46:13.944225Z",
     "start_time": "2023-04-25T16:46:13.917319Z"
    }
   },
   "outputs": [
    {
     "data": {
      "text/html": [
       "<div>\n",
       "<style scoped>\n",
       "    .dataframe tbody tr th:only-of-type {\n",
       "        vertical-align: middle;\n",
       "    }\n",
       "\n",
       "    .dataframe tbody tr th {\n",
       "        vertical-align: top;\n",
       "    }\n",
       "\n",
       "    .dataframe thead th {\n",
       "        text-align: right;\n",
       "    }\n",
       "</style>\n",
       "<table border=\"1\" class=\"dataframe\">\n",
       "  <thead>\n",
       "    <tr style=\"text-align: right;\">\n",
       "      <th></th>\n",
       "      <th>letter_slant</th>\n",
       "      <th>line_slant</th>\n",
       "      <th>letter_size</th>\n",
       "      <th>margin_slope</th>\n",
       "      <th>word_spacing</th>\n",
       "      <th>personality</th>\n",
       "    </tr>\n",
       "  </thead>\n",
       "  <tbody>\n",
       "    <tr>\n",
       "      <th>0</th>\n",
       "      <td>backward</td>\n",
       "      <td>upperside</td>\n",
       "      <td>1307.2</td>\n",
       "      <td>straight</td>\n",
       "      <td>small</td>\n",
       "      <td>Agreeableness</td>\n",
       "    </tr>\n",
       "    <tr>\n",
       "      <th>1</th>\n",
       "      <td>backward</td>\n",
       "      <td>upperside</td>\n",
       "      <td>932.0</td>\n",
       "      <td>right</td>\n",
       "      <td>small</td>\n",
       "      <td>Agreeableness</td>\n",
       "    </tr>\n",
       "    <tr>\n",
       "      <th>2</th>\n",
       "      <td>forward</td>\n",
       "      <td>upperside</td>\n",
       "      <td>891.4</td>\n",
       "      <td>straight</td>\n",
       "      <td>small</td>\n",
       "      <td>Agreeableness</td>\n",
       "    </tr>\n",
       "    <tr>\n",
       "      <th>3</th>\n",
       "      <td>forward</td>\n",
       "      <td>upperside</td>\n",
       "      <td>279.6</td>\n",
       "      <td>straight</td>\n",
       "      <td>small</td>\n",
       "      <td>Agreeableness</td>\n",
       "    </tr>\n",
       "    <tr>\n",
       "      <th>4</th>\n",
       "      <td>vertical</td>\n",
       "      <td>upperside</td>\n",
       "      <td>766.0</td>\n",
       "      <td>straight</td>\n",
       "      <td>small</td>\n",
       "      <td>Agreeableness</td>\n",
       "    </tr>\n",
       "  </tbody>\n",
       "</table>\n",
       "</div>"
      ],
      "text/plain": [
       "  letter_slant line_slant  letter_size margin_slope word_spacing  \\\n",
       "0     backward  upperside       1307.2     straight        small   \n",
       "1     backward  upperside        932.0        right        small   \n",
       "2      forward  upperside        891.4     straight        small   \n",
       "3      forward  upperside        279.6     straight        small   \n",
       "4     vertical  upperside        766.0     straight        small   \n",
       "\n",
       "     personality  \n",
       "0  Agreeableness  \n",
       "1  Agreeableness  \n",
       "2  Agreeableness  \n",
       "3  Agreeableness  \n",
       "4  Agreeableness  "
      ]
     },
     "execution_count": 219,
     "metadata": {},
     "output_type": "execute_result"
    }
   ],
   "source": [
    "trainData.head()"
   ]
  },
  {
   "cell_type": "code",
   "execution_count": 220,
   "metadata": {},
   "outputs": [],
   "source": [
    "letter_slant_mapping = {'backward': -1, 'forward': 1, 'vertical': 0}\n",
    "line_slant_mapping = {'lowerside': -1, 'baseline': 0, 'upperside': 1}\n",
    "margin_slope_mapping = {'left': -1, 'straight': 0, 'right': 1}\n",
    "word_spacing_mapping = {'small': -1, 'medium': 0, 'large': 1}"
   ]
  },
  {
   "cell_type": "code",
   "execution_count": 221,
   "metadata": {},
   "outputs": [],
   "source": [
    "trainData[\"letter_slant\"] = trainData[\"letter_slant\"].map(letter_slant_mapping)\n",
    "trainData[\"line_slant\"] = trainData[\"line_slant\"].map(line_slant_mapping)\n",
    "trainData[\"margin_slope\"] = trainData[\"margin_slope\"].map(margin_slope_mapping)\n",
    "trainData[\"word_spacing\"] = trainData[\"word_spacing\"].map(word_spacing_mapping)"
   ]
  },
  {
   "cell_type": "code",
   "execution_count": 222,
   "metadata": {},
   "outputs": [
    {
     "data": {
      "text/html": [
       "<div>\n",
       "<style scoped>\n",
       "    .dataframe tbody tr th:only-of-type {\n",
       "        vertical-align: middle;\n",
       "    }\n",
       "\n",
       "    .dataframe tbody tr th {\n",
       "        vertical-align: top;\n",
       "    }\n",
       "\n",
       "    .dataframe thead th {\n",
       "        text-align: right;\n",
       "    }\n",
       "</style>\n",
       "<table border=\"1\" class=\"dataframe\">\n",
       "  <thead>\n",
       "    <tr style=\"text-align: right;\">\n",
       "      <th></th>\n",
       "      <th>letter_slant</th>\n",
       "      <th>line_slant</th>\n",
       "      <th>letter_size</th>\n",
       "      <th>margin_slope</th>\n",
       "      <th>word_spacing</th>\n",
       "      <th>personality</th>\n",
       "    </tr>\n",
       "  </thead>\n",
       "  <tbody>\n",
       "    <tr>\n",
       "      <th>0</th>\n",
       "      <td>-1</td>\n",
       "      <td>1</td>\n",
       "      <td>1307.2</td>\n",
       "      <td>0</td>\n",
       "      <td>-1</td>\n",
       "      <td>Agreeableness</td>\n",
       "    </tr>\n",
       "    <tr>\n",
       "      <th>1</th>\n",
       "      <td>-1</td>\n",
       "      <td>1</td>\n",
       "      <td>932.0</td>\n",
       "      <td>1</td>\n",
       "      <td>-1</td>\n",
       "      <td>Agreeableness</td>\n",
       "    </tr>\n",
       "    <tr>\n",
       "      <th>2</th>\n",
       "      <td>1</td>\n",
       "      <td>1</td>\n",
       "      <td>891.4</td>\n",
       "      <td>0</td>\n",
       "      <td>-1</td>\n",
       "      <td>Agreeableness</td>\n",
       "    </tr>\n",
       "    <tr>\n",
       "      <th>3</th>\n",
       "      <td>1</td>\n",
       "      <td>1</td>\n",
       "      <td>279.6</td>\n",
       "      <td>0</td>\n",
       "      <td>-1</td>\n",
       "      <td>Agreeableness</td>\n",
       "    </tr>\n",
       "    <tr>\n",
       "      <th>4</th>\n",
       "      <td>0</td>\n",
       "      <td>1</td>\n",
       "      <td>766.0</td>\n",
       "      <td>0</td>\n",
       "      <td>-1</td>\n",
       "      <td>Agreeableness</td>\n",
       "    </tr>\n",
       "  </tbody>\n",
       "</table>\n",
       "</div>"
      ],
      "text/plain": [
       "   letter_slant  line_slant  letter_size  margin_slope  word_spacing  \\\n",
       "0            -1           1       1307.2             0            -1   \n",
       "1            -1           1        932.0             1            -1   \n",
       "2             1           1        891.4             0            -1   \n",
       "3             1           1        279.6             0            -1   \n",
       "4             0           1        766.0             0            -1   \n",
       "\n",
       "     personality  \n",
       "0  Agreeableness  \n",
       "1  Agreeableness  \n",
       "2  Agreeableness  \n",
       "3  Agreeableness  \n",
       "4  Agreeableness  "
      ]
     },
     "execution_count": 222,
     "metadata": {},
     "output_type": "execute_result"
    }
   ],
   "source": [
    "trainData.head()"
   ]
  },
  {
   "cell_type": "code",
   "execution_count": 223,
   "metadata": {
    "ExecuteTime": {
     "end_time": "2023-04-25T16:46:17.646492Z",
     "start_time": "2023-04-25T16:46:17.621302Z"
    }
   },
   "outputs": [
    {
     "name": "stdout",
     "output_type": "stream",
     "text": [
      "<class 'pandas.core.frame.DataFrame'>\n",
      "RangeIndex: 221 entries, 0 to 220\n",
      "Data columns (total 6 columns):\n",
      " #   Column        Non-Null Count  Dtype  \n",
      "---  ------        --------------  -----  \n",
      " 0   letter_slant  221 non-null    int64  \n",
      " 1   line_slant    221 non-null    int64  \n",
      " 2   letter_size   221 non-null    float64\n",
      " 3   margin_slope  221 non-null    int64  \n",
      " 4   word_spacing  221 non-null    int64  \n",
      " 5   personality   221 non-null    object \n",
      "dtypes: float64(1), int64(4), object(1)\n",
      "memory usage: 10.5+ KB\n"
     ]
    }
   ],
   "source": [
    "trainData.info()"
   ]
  },
  {
   "cell_type": "code",
   "execution_count": 224,
   "metadata": {
    "ExecuteTime": {
     "end_time": "2023-04-25T16:46:22.019884Z",
     "start_time": "2023-04-25T16:46:21.955761Z"
    }
   },
   "outputs": [
    {
     "data": {
      "text/plain": [
       "letter_slant    0\n",
       "line_slant      0\n",
       "letter_size     0\n",
       "margin_slope    0\n",
       "word_spacing    0\n",
       "personality     0\n",
       "dtype: int64"
      ]
     },
     "execution_count": 224,
     "metadata": {},
     "output_type": "execute_result"
    }
   ],
   "source": [
    "trainData.isnull().sum()"
   ]
  },
  {
   "cell_type": "code",
   "execution_count": 225,
   "metadata": {
    "ExecuteTime": {
     "end_time": "2023-04-25T16:46:37.895145Z",
     "start_time": "2023-04-25T16:46:37.843656Z"
    }
   },
   "outputs": [
    {
     "name": "stdout",
     "output_type": "stream",
     "text": [
      "<class 'pandas.core.frame.DataFrame'>\n",
      "RangeIndex: 221 entries, 0 to 220\n",
      "Data columns (total 6 columns):\n",
      " #   Column        Non-Null Count  Dtype  \n",
      "---  ------        --------------  -----  \n",
      " 0   letter_slant  221 non-null    int64  \n",
      " 1   line_slant    221 non-null    int64  \n",
      " 2   letter_size   221 non-null    float64\n",
      " 3   margin_slope  221 non-null    int64  \n",
      " 4   word_spacing  221 non-null    int64  \n",
      " 5   personality   221 non-null    object \n",
      "dtypes: float64(1), int64(4), object(1)\n",
      "memory usage: 10.5+ KB\n"
     ]
    }
   ],
   "source": [
    "trainData = trainData.dropna(axis=0)\n",
    "trainData.info()"
   ]
  },
  {
   "cell_type": "code",
   "execution_count": 226,
   "metadata": {},
   "outputs": [],
   "source": [
    "aggreableness_data = trainData[trainData[\"personality\"] == \"Agreeableness\"]\n",
    "conscientiousness_data = trainData[trainData[\"personality\"] == \"Conscientiousness\"]\n",
    "extraversion_data = trainData[trainData[\"personality\"] == \"Extraversion\"]\n",
    "neuroticism_data = trainData[trainData[\"personality\"] == \"Neuroticism\"]\n",
    "openness_data = trainData[trainData[\"personality\"] == \"Openness\"]\n"
   ]
  },
  {
   "cell_type": "code",
   "execution_count": 227,
   "metadata": {
    "ExecuteTime": {
     "end_time": "2023-04-25T16:46:42.969976Z",
     "start_time": "2023-04-25T16:46:42.944803Z"
    }
   },
   "outputs": [],
   "source": [
    "aggreableness_x = aggreableness_data.drop(data_cols[-1], axis=1)\n",
    "aggreableness_y = aggreableness_data[data_cols[-1]]\n",
    "\n",
    "conscientiousness_x = conscientiousness_data.drop(data_cols[-1], axis=1)\n",
    "conscientiousness_y = conscientiousness_data[data_cols[-1]]\n",
    "\n",
    "extraversion_x = extraversion_data.drop(data_cols[-1], axis=1)\n",
    "extraversion_y = extraversion_data[data_cols[-1]]\n",
    "\n",
    "neuroticism_x = neuroticism_data.drop(data_cols[-1], axis=1)\n",
    "neuroticism_y = neuroticism_data[data_cols[-1]]\n",
    "\n",
    "openness_x = openness_data.drop(data_cols[-1], axis=1)\n",
    "openness_y = openness_data[data_cols[-1]]"
   ]
  },
  {
   "cell_type": "code",
   "execution_count": 228,
   "metadata": {},
   "outputs": [],
   "source": [
    "test_ratio = 0.1\n",
    "\n",
    "aggreableness_x_train, aggreableness_x_test, aggreableness_y_train, aggreableness_y_test = train_test_split(aggreableness_x, aggreableness_y, test_size=test_ratio, shuffle=True)\n",
    "\n",
    "conscientiousness_x_train, conscientiousness_x_test, conscientiousness_y_train, conscientiousness_y_test = train_test_split(conscientiousness_x, conscientiousness_y, test_size=test_ratio, shuffle=True)\n",
    "\n",
    "extraversion_x_train, extraversion_x_test, extraversion_y_train, extraversion_y_test = train_test_split(extraversion_x, extraversion_y, test_size=test_ratio, shuffle=True)\n",
    "\n",
    "neuroticism_x_train, neuroticism_x_test, neuroticism_y_train, neuroticism_y_test = train_test_split(neuroticism_x, neuroticism_y, test_size=test_ratio, shuffle=True)\n",
    "\n",
    "openness_x_train, openness_x_test, openness_y_train, openness_y_test = train_test_split(openness_x, openness_y, test_size=test_ratio, shuffle=True)\n",
    "\n",
    "x_train = pd.concat([aggreableness_x_train, conscientiousness_x_train, extraversion_x_train, neuroticism_x_train, openness_x_train], ignore_index=True)\n",
    "y_train = pd.concat([aggreableness_y_train, conscientiousness_y_train, extraversion_y_train, neuroticism_y_train, openness_y_train], ignore_index=True)\n",
    "\n",
    "x_test = pd.concat([aggreableness_x_test, conscientiousness_x_test, extraversion_x_test, neuroticism_x_test, openness_x_test], ignore_index=True)\n",
    "y_test = pd.concat([aggreableness_y_test, conscientiousness_y_test, extraversion_y_test, neuroticism_y_test, openness_y_test], ignore_index=True)"
   ]
  },
  {
   "cell_type": "code",
   "execution_count": 229,
   "metadata": {},
   "outputs": [
    {
     "name": "stdout",
     "output_type": "stream",
     "text": [
      "(197, 24)\n",
      "Aggreableness: (38, 34, 4)\n",
      "Conscientiousness: (35, 31, 4)\n",
      "Extraversion: (10, 9, 1)\n",
      "Neuroticism: (44, 39, 5)\n",
      "Openness: (94, 84, 10)\n"
     ]
    }
   ],
   "source": [
    "print(f\"{x_train.__len__(), x_test.__len__()}\")\n",
    "print(f\"Aggreableness: {aggreableness_x.__len__(), aggreableness_x_train.__len__(), aggreableness_x_test.__len__()}\")\n",
    "print(f\"Conscientiousness: {conscientiousness_x.__len__(), conscientiousness_x_train.__len__(), conscientiousness_x_test.__len__()}\")\n",
    "print(f\"Extraversion: {extraversion_x.__len__(), extraversion_x_train.__len__(), extraversion_x_test.__len__()}\")\n",
    "print(f\"Neuroticism: {neuroticism_x.__len__(), neuroticism_x_train.__len__(), neuroticism_x_test.__len__()}\")\n",
    "print(f\"Openness: {openness_x.__len__(), openness_x_train.__len__(), openness_x_test.__len__()}\")"
   ]
  },
  {
   "cell_type": "code",
   "execution_count": 230,
   "metadata": {
    "ExecuteTime": {
     "end_time": "2023-04-25T16:47:07.444485Z",
     "start_time": "2023-04-25T16:47:07.252706Z"
    }
   },
   "outputs": [
    {
     "name": "stdout",
     "output_type": "stream",
     "text": [
      "['Conscientiousness' 'Agreeableness' 'Openness' 'Agreeableness'\n",
      " 'Neuroticism' 'Agreeableness' 'Conscientiousness' 'Agreeableness'\n",
      " 'Neuroticism' 'Neuroticism' 'Openness' 'Agreeableness' 'Openness'\n",
      " 'Neuroticism' 'Conscientiousness' 'Openness' 'Conscientiousness'\n",
      " 'Openness' 'Openness' 'Openness' 'Neuroticism' 'Openness' 'Openness'\n",
      " 'Openness']\n"
     ]
    }
   ],
   "source": [
    "rf = RandomForestClassifier(n_estimators=100, criterion=\"gini\", random_state=42)\n",
    "rf_res = rf.fit(x_train, y_train)\n",
    "\n",
    "y_pred = rf.predict(x_test)\n",
    "print(y_pred)"
   ]
  },
  {
   "cell_type": "code",
   "execution_count": 231,
   "metadata": {
    "ExecuteTime": {
     "end_time": "2023-04-25T16:47:33.921406Z",
     "start_time": "2023-04-25T16:47:33.876555Z"
    }
   },
   "outputs": [
    {
     "data": {
      "text/plain": [
       "0.5"
      ]
     },
     "execution_count": 231,
     "metadata": {},
     "output_type": "execute_result"
    }
   ],
   "source": [
    "from sklearn.metrics import accuracy_score, confusion_matrix, ConfusionMatrixDisplay\n",
    "accuracy = accuracy_score(y_test, y_pred)\n",
    "accuracy"
   ]
  },
  {
   "cell_type": "code",
   "execution_count": 232,
   "metadata": {},
   "outputs": [
    {
     "name": "stdout",
     "output_type": "stream",
     "text": [
      "Saved model size: 0.27 MB\n"
     ]
    }
   ],
   "source": [
    "import joblib\n",
    "import os\n",
    "joblib.dump(rf, \"./saved_models/random_forest.joblib\", compress=3)\n",
    "print(f\"Saved model size: {np.round(os.path.getsize('./saved_models/random_forest.joblib') / 1024 / 1024, 2) } MB\")"
   ]
  },
  {
   "cell_type": "code",
   "execution_count": 233,
   "metadata": {
    "ExecuteTime": {
     "end_time": "2023-04-25T16:47:38.165677Z",
     "start_time": "2023-04-25T16:47:38.141029Z"
    }
   },
   "outputs": [
    {
     "data": {
      "text/plain": [
       "array([0.1074813 , 0.0823544 , 0.63586135, 0.0948122 , 0.07949076])"
      ]
     },
     "execution_count": 233,
     "metadata": {},
     "output_type": "execute_result"
    }
   ],
   "source": [
    "rf.feature_importances_"
   ]
  },
  {
   "cell_type": "code",
   "execution_count": 234,
   "metadata": {},
   "outputs": [
    {
     "data": {
      "text/plain": [
       "<sklearn.metrics._plot.confusion_matrix.ConfusionMatrixDisplay at 0x1a00568ba10>"
      ]
     },
     "execution_count": 234,
     "metadata": {},
     "output_type": "execute_result"
    },
    {
     "data": {
      "image/png": "[encoded data removed]",
      "text/plain": [
       "<Figure size 640x480 with 2 Axes>"
      ]
     },
     "metadata": {},
     "output_type": "display_data"
    }
   ],
   "source": [
    "cm = confusion_matrix(y_test, y_pred, labels=rf.classes_)\n",
    "disp = ConfusionMatrixDisplay(confusion_matrix=cm, display_labels=rf.classes_)\n",
    "disp.plot()"
   ]
  }
 ],
 "metadata": {
  "kernelspec": {
   "display_name": "venv",
   "language": "python",
   "name": "python3"
  },
  "language_info": {
   "codemirror_mode": {
    "name": "ipython",
    "version": 3
   },
   "file_extension": ".py",
   "mimetype": "text/x-python",
   "name": "python",
   "nbconvert_exporter": "python",
   "pygments_lexer": "ipython3",
   "version": "3.11.7"
  },
  "orig_nbformat": 4
 },
 "nbformat": 4,
 "nbformat_minor": 2
}
