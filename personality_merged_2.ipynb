{
 "cells": [
  {
   "cell_type": "code",
   "execution_count": 300,
   "metadata": {},
   "outputs": [],
   "source": [
    "from sklearn.neighbors import KNeighborsClassifier\n",
    "from sklearn.ensemble import RandomForestClassifier\n",
    "from sklearn.model_selection import train_test_split, cross_val_score\n",
    "import numpy as np\n",
    "import pandas as pd\n",
    "from sklearn.metrics import accuracy_score,confusion_matrix, ConfusionMatrixDisplay"
   ]
  },
  {
   "cell_type": "code",
   "execution_count": 301,
   "metadata": {},
   "outputs": [],
   "source": [
    "df =  pd.concat([pd.read_csv(r\"dataset\\my_test_features.csv\"),\n",
    "                 pd.read_csv(r\"dataset\\my_train_features.csv\")])"
   ]
  },
  {
   "cell_type": "code",
   "execution_count": 302,
   "metadata": {},
   "outputs": [
    {
     "data": {
      "text/html": [
       "<div>\n",
       "<style scoped>\n",
       "    .dataframe tbody tr th:only-of-type {\n",
       "        vertical-align: middle;\n",
       "    }\n",
       "\n",
       "    .dataframe tbody tr th {\n",
       "        vertical-align: top;\n",
       "    }\n",
       "\n",
       "    .dataframe thead th {\n",
       "        text-align: right;\n",
       "    }\n",
       "</style>\n",
       "<table border=\"1\" class=\"dataframe\">\n",
       "  <thead>\n",
       "    <tr style=\"text-align: right;\">\n",
       "      <th></th>\n",
       "      <th>letter_slant</th>\n",
       "      <th>line_slant</th>\n",
       "      <th>letter_size</th>\n",
       "      <th>margin_slope</th>\n",
       "      <th>word_spacing</th>\n",
       "      <th>personality</th>\n",
       "    </tr>\n",
       "  </thead>\n",
       "  <tbody>\n",
       "    <tr>\n",
       "      <th>0</th>\n",
       "      <td>backward</td>\n",
       "      <td>upperside</td>\n",
       "      <td>1197.3</td>\n",
       "      <td>left</td>\n",
       "      <td>small</td>\n",
       "      <td>Agreeableness</td>\n",
       "    </tr>\n",
       "    <tr>\n",
       "      <th>1</th>\n",
       "      <td>vertical</td>\n",
       "      <td>baseline</td>\n",
       "      <td>706.1</td>\n",
       "      <td>right</td>\n",
       "      <td>small</td>\n",
       "      <td>Agreeableness</td>\n",
       "    </tr>\n",
       "    <tr>\n",
       "      <th>2</th>\n",
       "      <td>backward</td>\n",
       "      <td>upperside</td>\n",
       "      <td>1604.0</td>\n",
       "      <td>right</td>\n",
       "      <td>small</td>\n",
       "      <td>Agreeableness</td>\n",
       "    </tr>\n",
       "    <tr>\n",
       "      <th>3</th>\n",
       "      <td>vertical</td>\n",
       "      <td>lowerside</td>\n",
       "      <td>1214.3</td>\n",
       "      <td>right</td>\n",
       "      <td>medium</td>\n",
       "      <td>Agreeableness</td>\n",
       "    </tr>\n",
       "    <tr>\n",
       "      <th>4</th>\n",
       "      <td>backward</td>\n",
       "      <td>upperside</td>\n",
       "      <td>1046.6</td>\n",
       "      <td>left</td>\n",
       "      <td>small</td>\n",
       "      <td>Agreeableness</td>\n",
       "    </tr>\n",
       "  </tbody>\n",
       "</table>\n",
       "</div>"
      ],
      "text/plain": [
       "  letter_slant line_slant  letter_size margin_slope word_spacing  \\\n",
       "0     backward  upperside       1197.3         left        small   \n",
       "1     vertical   baseline        706.1        right        small   \n",
       "2     backward  upperside       1604.0        right        small   \n",
       "3     vertical  lowerside       1214.3        right       medium   \n",
       "4     backward  upperside       1046.6         left        small   \n",
       "\n",
       "     personality  \n",
       "0  Agreeableness  \n",
       "1  Agreeableness  \n",
       "2  Agreeableness  \n",
       "3  Agreeableness  \n",
       "4  Agreeableness  "
      ]
     },
     "execution_count": 302,
     "metadata": {},
     "output_type": "execute_result"
    }
   ],
   "source": [
    "df.head()"
   ]
  },
  {
   "cell_type": "code",
   "execution_count": 303,
   "metadata": {},
   "outputs": [],
   "source": [
    "letter_slant_mapping = {'backward': -1, 'forward': 1, 'vertical': 0}\n",
    "line_slant_mapping = {'lowerside': -1, 'baseline': 0, 'upperside': 1}\n",
    "margin_slope_mapping = {'left': -1, 'straight': 0, 'right': 1}\n",
    "word_spacing_mapping = {'small': -1, 'medium': 0, 'large': 1}"
   ]
  },
  {
   "cell_type": "code",
   "execution_count": 304,
   "metadata": {},
   "outputs": [],
   "source": [
    "df[\"letter_slant\"] = df[\"letter_slant\"].map(letter_slant_mapping)\n",
    "df[\"line_slant\"] = df[\"line_slant\"].map(line_slant_mapping)\n",
    "df[\"margin_slope\"] = df[\"margin_slope\"].map(margin_slope_mapping)\n",
    "df[\"word_spacing\"] = df[\"word_spacing\"].map(word_spacing_mapping)"
   ]
  },
  {
   "cell_type": "code",
   "execution_count": 305,
   "metadata": {},
   "outputs": [
    {
     "data": {
      "text/html": [
       "<div>\n",
       "<style scoped>\n",
       "    .dataframe tbody tr th:only-of-type {\n",
       "        vertical-align: middle;\n",
       "    }\n",
       "\n",
       "    .dataframe tbody tr th {\n",
       "        vertical-align: top;\n",
       "    }\n",
       "\n",
       "    .dataframe thead th {\n",
       "        text-align: right;\n",
       "    }\n",
       "</style>\n",
       "<table border=\"1\" class=\"dataframe\">\n",
       "  <thead>\n",
       "    <tr style=\"text-align: right;\">\n",
       "      <th></th>\n",
       "      <th>letter_slant</th>\n",
       "      <th>line_slant</th>\n",
       "      <th>letter_size</th>\n",
       "      <th>margin_slope</th>\n",
       "      <th>word_spacing</th>\n",
       "      <th>personality</th>\n",
       "    </tr>\n",
       "  </thead>\n",
       "  <tbody>\n",
       "    <tr>\n",
       "      <th>0</th>\n",
       "      <td>-1</td>\n",
       "      <td>1</td>\n",
       "      <td>1197.3</td>\n",
       "      <td>-1</td>\n",
       "      <td>-1</td>\n",
       "      <td>Agreeableness</td>\n",
       "    </tr>\n",
       "    <tr>\n",
       "      <th>1</th>\n",
       "      <td>0</td>\n",
       "      <td>0</td>\n",
       "      <td>706.1</td>\n",
       "      <td>1</td>\n",
       "      <td>-1</td>\n",
       "      <td>Agreeableness</td>\n",
       "    </tr>\n",
       "    <tr>\n",
       "      <th>2</th>\n",
       "      <td>-1</td>\n",
       "      <td>1</td>\n",
       "      <td>1604.0</td>\n",
       "      <td>1</td>\n",
       "      <td>-1</td>\n",
       "      <td>Agreeableness</td>\n",
       "    </tr>\n",
       "    <tr>\n",
       "      <th>3</th>\n",
       "      <td>0</td>\n",
       "      <td>-1</td>\n",
       "      <td>1214.3</td>\n",
       "      <td>1</td>\n",
       "      <td>0</td>\n",
       "      <td>Agreeableness</td>\n",
       "    </tr>\n",
       "    <tr>\n",
       "      <th>4</th>\n",
       "      <td>-1</td>\n",
       "      <td>1</td>\n",
       "      <td>1046.6</td>\n",
       "      <td>-1</td>\n",
       "      <td>-1</td>\n",
       "      <td>Agreeableness</td>\n",
       "    </tr>\n",
       "  </tbody>\n",
       "</table>\n",
       "</div>"
      ],
      "text/plain": [
       "   letter_slant  line_slant  letter_size  margin_slope  word_spacing  \\\n",
       "0            -1           1       1197.3            -1            -1   \n",
       "1             0           0        706.1             1            -1   \n",
       "2            -1           1       1604.0             1            -1   \n",
       "3             0          -1       1214.3             1             0   \n",
       "4            -1           1       1046.6            -1            -1   \n",
       "\n",
       "     personality  \n",
       "0  Agreeableness  \n",
       "1  Agreeableness  \n",
       "2  Agreeableness  \n",
       "3  Agreeableness  \n",
       "4  Agreeableness  "
      ]
     },
     "execution_count": 305,
     "metadata": {},
     "output_type": "execute_result"
    }
   ],
   "source": [
    "df.head()"
   ]
  },
  {
   "cell_type": "code",
   "execution_count": 306,
   "metadata": {},
   "outputs": [
    {
     "name": "stdout",
     "output_type": "stream",
     "text": [
      "<class 'pandas.core.frame.DataFrame'>\n",
      "Index: 221 entries, 0 to 176\n",
      "Data columns (total 6 columns):\n",
      " #   Column        Non-Null Count  Dtype  \n",
      "---  ------        --------------  -----  \n",
      " 0   letter_slant  221 non-null    int64  \n",
      " 1   line_slant    221 non-null    int64  \n",
      " 2   letter_size   221 non-null    float64\n",
      " 3   margin_slope  221 non-null    int64  \n",
      " 4   word_spacing  221 non-null    int64  \n",
      " 5   personality   221 non-null    object \n",
      "dtypes: float64(1), int64(4), object(1)\n",
      "memory usage: 12.1+ KB\n"
     ]
    }
   ],
   "source": [
    "df.info()"
   ]
  },
  {
   "cell_type": "code",
   "execution_count": 307,
   "metadata": {},
   "outputs": [
    {
     "data": {
      "text/plain": [
       "letter_slant    0\n",
       "line_slant      0\n",
       "letter_size     0\n",
       "margin_slope    0\n",
       "word_spacing    0\n",
       "personality     0\n",
       "dtype: int64"
      ]
     },
     "execution_count": 307,
     "metadata": {},
     "output_type": "execute_result"
    }
   ],
   "source": [
    "df.isnull().sum()"
   ]
  },
  {
   "cell_type": "code",
   "execution_count": 308,
   "metadata": {},
   "outputs": [],
   "source": [
    "df.dropna(inplace=True)"
   ]
  },
  {
   "cell_type": "code",
   "execution_count": 309,
   "metadata": {},
   "outputs": [
    {
     "name": "stdout",
     "output_type": "stream",
     "text": [
      "<class 'pandas.core.frame.DataFrame'>\n",
      "Index: 221 entries, 0 to 176\n",
      "Data columns (total 6 columns):\n",
      " #   Column        Non-Null Count  Dtype  \n",
      "---  ------        --------------  -----  \n",
      " 0   letter_slant  221 non-null    int64  \n",
      " 1   line_slant    221 non-null    int64  \n",
      " 2   letter_size   221 non-null    float64\n",
      " 3   margin_slope  221 non-null    int64  \n",
      " 4   word_spacing  221 non-null    int64  \n",
      " 5   personality   221 non-null    object \n",
      "dtypes: float64(1), int64(4), object(1)\n",
      "memory usage: 12.1+ KB\n"
     ]
    }
   ],
   "source": [
    "df.info()"
   ]
  },
  {
   "cell_type": "code",
   "execution_count": 310,
   "metadata": {},
   "outputs": [],
   "source": [
    "# X = df.drop(\"personality\",axis=1)\n",
    "# y = df[\"personality\"]\n",
    "\n",
    "# X_train, X_test, y_train, y_test = train_test_split(X, y, test_size=0.1, shuffle=True)\n",
    "# print(f\"{X_train.shape, y_train.shape, X_test.shape, y_test.shape}\")"
   ]
  },
  {
   "cell_type": "code",
   "execution_count": 311,
   "metadata": {},
   "outputs": [],
   "source": [
    "aggreableness_data = df[df[\"personality\"] == \"Agreeableness\"]\n",
    "conscientiousness_data = df[df[\"personality\"] == \"Conscientiousness\"]\n",
    "extraversion_data = df[df[\"personality\"] == \"Extraversion\"]\n",
    "openness_data = df[df[\"personality\"] == \"Openness\"]\n",
    "neuroticism_data = df[df[\"personality\"] == \"Neuroticism\"]"
   ]
  },
  {
   "cell_type": "code",
   "execution_count": 312,
   "metadata": {},
   "outputs": [],
   "source": [
    "aggreableness_x = aggreableness_data.drop(\"personality\", axis=1)\n",
    "aggreableness_y = aggreableness_data[\"personality\"]\n",
    "\n",
    "conscientiousness_x = conscientiousness_data.drop(\"personality\", axis=1)\n",
    "conscientiousness_y = conscientiousness_data[\"personality\"]\n",
    "\n",
    "extraversion_x = extraversion_data.drop(\"personality\", axis=1)\n",
    "extraversion_y = extraversion_data[\"personality\"]\n",
    "\n",
    "openness_x = openness_data.drop(\"personality\", axis=1)\n",
    "openness_y = openness_data[\"personality\"]\n",
    "\n",
    "neuroticism_x = neuroticism_data.drop(\"personality\", axis=1)\n",
    "neuroticism_y = neuroticism_data[\"personality\"]"
   ]
  },
  {
   "cell_type": "code",
   "execution_count": 313,
   "metadata": {},
   "outputs": [],
   "source": [
    "aggreableness_x_train, aggreableness_x_test, aggreableness_y_train, aggreableness_y_test = train_test_split(aggreableness_x, aggreableness_y, test_size=0.1, shuffle=True)\n",
    "\n",
    "conscientiousness_x_train, conscientiousness_x_test, conscientiousness_y_train, conscientiousness_y_test = train_test_split(conscientiousness_x, conscientiousness_y, test_size=0.1, shuffle=True)\n",
    "\n",
    "extraversion_x_train, extraversion_x_test, extraversion_y_train, extraversion_y_test = train_test_split(extraversion_x, extraversion_y, test_size=0.1, shuffle=True)\n",
    "\n",
    "openness_x_train, openness_x_test, openness_y_train, openness_y_test = train_test_split(openness_x, openness_y, test_size=0.1, shuffle=True)\n",
    "\n",
    "neuroticism_x_train, neuroticism_x_test, neuroticism_y_train, neuroticism_y_test = train_test_split(neuroticism_x, neuroticism_y, test_size=0.1, shuffle=True)"
   ]
  },
  {
   "cell_type": "code",
   "execution_count": 314,
   "metadata": {},
   "outputs": [],
   "source": [
    "X_train = pd.concat([\n",
    "    aggreableness_x_train, \n",
    "    conscientiousness_x_train, \n",
    "    extraversion_x_train, \n",
    "    neuroticism_x_train, \n",
    "    openness_x_train\n",
    "])\n",
    "\n",
    "y_train = pd.concat([\n",
    "    aggreableness_y_train, \n",
    "    conscientiousness_y_train, \n",
    "    extraversion_y_train, \n",
    "    neuroticism_y_train, \n",
    "    openness_y_train\n",
    "])\n",
    "\n",
    "X_test = pd.concat([\n",
    "    aggreableness_x_test, \n",
    "    conscientiousness_x_test, \n",
    "    extraversion_x_test, \n",
    "    neuroticism_x_test, \n",
    "    openness_x_test\n",
    "])\n",
    "\n",
    "y_test = pd.concat([\n",
    "    aggreableness_y_test, \n",
    "    conscientiousness_y_test, \n",
    "    extraversion_y_test, \n",
    "    neuroticism_y_test, \n",
    "    openness_y_test\n",
    "])"
   ]
  },
  {
   "cell_type": "code",
   "execution_count": 315,
   "metadata": {},
   "outputs": [
    {
     "name": "stdout",
     "output_type": "stream",
     "text": [
      "((197, 5), (197,), (24, 5), (24,))\n"
     ]
    }
   ],
   "source": [
    "print(f\"{X_train.shape, y_train.shape, X_test.shape, y_test.shape}\")"
   ]
  },
  {
   "cell_type": "code",
   "execution_count": 316,
   "metadata": {},
   "outputs": [
    {
     "data": {
      "text/plain": [
       "array(['Agreeableness', 'Neuroticism', 'Agreeableness', 'Neuroticism',\n",
       "       'Openness', 'Extraversion', 'Conscientiousness', 'Neuroticism',\n",
       "       'Openness', 'Neuroticism', 'Extraversion', 'Neuroticism',\n",
       "       'Agreeableness', 'Agreeableness', 'Openness', 'Neuroticism',\n",
       "       'Neuroticism', 'Openness', 'Openness', 'Openness',\n",
       "       'Conscientiousness', 'Neuroticism', 'Openness', 'Agreeableness'],\n",
       "      dtype=object)"
      ]
     },
     "execution_count": 316,
     "metadata": {},
     "output_type": "execute_result"
    }
   ],
   "source": [
    "rf = RandomForestClassifier(n_estimators=100, criterion=\"gini\", random_state=42)\n",
    "rf.fit(X_train, y_train)\n",
    "\n",
    "y_pred_rf = rf.predict(X_test)\n",
    "y_pred_rf"
   ]
  },
  {
   "cell_type": "code",
   "execution_count": 317,
   "metadata": {},
   "outputs": [
    {
     "name": "stdout",
     "output_type": "stream",
     "text": [
      "Accuracy for Random Forest: 41.67%\n"
     ]
    }
   ],
   "source": [
    "print(f\"Accuracy for Random Forest: {round(accuracy_score(y_test, y_pred_rf) * 100, 2)}%\")"
   ]
  },
  {
   "cell_type": "code",
   "execution_count": 318,
   "metadata": {},
   "outputs": [
    {
     "name": "stdout",
     "output_type": "stream",
     "text": [
      "Best accuracy 54.17% for KNN with k = 13\n"
     ]
    }
   ],
   "source": [
    "accuracies = []\n",
    "for i in range(1, X_train.shape[0] + 1):\n",
    "    knn = KNeighborsClassifier(n_neighbors=i)\n",
    "    knn.fit(X_train, y_train)\n",
    "    y_pred = knn.predict(X_test)\n",
    "    accuracies.append(accuracy_score(y_test, y_pred))\n",
    "max_accuracy_knn = max(accuracies)\n",
    "max_index_knn = accuracies.index(max_accuracy_knn)\n",
    "print(f\"Best accuracy {round(max_accuracy_knn * 100, 2)}% for KNN with k = {max_index_knn + 1}\")"
   ]
  },
  {
   "cell_type": "code",
   "execution_count": 319,
   "metadata": {},
   "outputs": [
    {
     "data": {
      "text/plain": [
       "array(['Agreeableness', 'Neuroticism', 'Openness', 'Conscientiousness',\n",
       "       'Conscientiousness', 'Agreeableness', 'Openness', 'Openness',\n",
       "       'Openness', 'Conscientiousness', 'Neuroticism', 'Neuroticism',\n",
       "       'Agreeableness', 'Agreeableness', 'Openness', 'Openness',\n",
       "       'Openness', 'Agreeableness', 'Openness', 'Openness', 'Openness',\n",
       "       'Openness', 'Openness', 'Openness'], dtype=object)"
      ]
     },
     "execution_count": 319,
     "metadata": {},
     "output_type": "execute_result"
    }
   ],
   "source": [
    "knn = KNeighborsClassifier(n_neighbors=max_index_knn + 1)\n",
    "knn.fit(X_train, y_train)\n",
    "y_pred_knn = knn.predict(X_test)\n",
    "y_pred_knn"
   ]
  },
  {
   "cell_type": "code",
   "execution_count": 320,
   "metadata": {},
   "outputs": [
    {
     "name": "stdout",
     "output_type": "stream",
     "text": [
      "Accuracy for KNN: 54.17%\n"
     ]
    }
   ],
   "source": [
    "print(f\"Accuracy for KNN: {round(accuracy_score(y_test, y_pred_knn) * 100, 2)}%\")"
   ]
  },
  {
   "cell_type": "code",
   "execution_count": 321,
   "metadata": {},
   "outputs": [
    {
     "name": "stdout",
     "output_type": "stream",
     "text": [
      "Random forest model saved: 0.27 MB\n",
      "KNN model saved: 0.0 MB\n"
     ]
    }
   ],
   "source": [
    "import joblib\n",
    "import os\n",
    "joblib.dump(rf, \"./saved_models/type2/rf.joblib\", compress=3)\n",
    "print(f\"Random forest model saved: {np.round(os.path.getsize('./saved_models/type2/rf.joblib') / 1024 / 1024, 2) } MB\")\n",
    "joblib.dump(knn, \"./saved_models/type2/knn.joblib\", compress=3)\n",
    "print(f\"KNN model saved: {np.round(os.path.getsize('./saved_models/type2/knn.joblib') / 1024 / 1024, 2) } MB\")\n",
    "\n",
    "df_train_save = pd.concat([X_train, y_train], axis=1)\n",
    "df_train_save.to_csv(\"./saved_models/type2/train.csv\", index=False)\n",
    "df_test_save = pd.concat([X_test, y_test], axis=1)\n",
    "df_test_save.to_csv(\"./saved_models/type2/test.csv\", index=False)"
   ]
  },
  {
   "cell_type": "code",
   "execution_count": 322,
   "metadata": {},
   "outputs": [
    {
     "data": {
      "image/png": "[encoded data removed]",
      "text/plain": [
       "<Figure size 1000x500 with 4 Axes>"
      ]
     },
     "metadata": {},
     "output_type": "display_data"
    }
   ],
   "source": [
    "import matplotlib.pyplot as plt\n",
    "\n",
    "cm_rf = confusion_matrix(y_test, y_pred_rf)\n",
    "cm_knn = confusion_matrix(y_test, y_pred_knn)\n",
    "\n",
    "fig, (ax1, ax2) = plt.subplots(1, 2, figsize=(10, 5))\n",
    "\n",
    "disp1 = ConfusionMatrixDisplay(confusion_matrix=cm_rf, display_labels=rf.classes_)\n",
    "disp1.plot(ax=ax1, xticks_rotation=\"vertical\")\n",
    "ax1.set_title(f\"Random Forest (Accuracy: {round(accuracy_score(y_test, y_pred_rf) * 100, 2)}%)\")\n",
    "\n",
    "disp2 = ConfusionMatrixDisplay(confusion_matrix=cm_knn, display_labels=knn.classes_)\n",
    "disp2.plot(ax=ax2, xticks_rotation=\"vertical\")\n",
    "ax2.set_title(f\"KNN (Accuracy: {round(accuracy_score(y_test, y_pred_knn) * 100, 2)}%)\")\n",
    "\n",
    "plt.tight_layout()\n",
    "plt.show()\n"
   ]
  }
 ],
 "metadata": {
  "kernelspec": {
   "display_name": "venv",
   "language": "python",
   "name": "python3"
  },
  "language_info": {
   "codemirror_mode": {
    "name": "ipython",
    "version": 3
   },
   "file_extension": ".py",
   "mimetype": "text/x-python",
   "name": "python",
   "nbconvert_exporter": "python",
   "pygments_lexer": "ipython3",
   "version": "3.11.7"
  }
 },
 "nbformat": 4,
 "nbformat_minor": 2
}
