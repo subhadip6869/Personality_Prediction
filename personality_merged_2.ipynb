{
 "cells": [
  {
   "cell_type": "markdown",
   "metadata": {},
   "source": [
    "# Package import"
   ]
  },
  {
   "cell_type": "code",
   "execution_count": null,
   "metadata": {},
   "outputs": [],
   "source": [
    "from sklearn.neighbors import KNeighborsClassifier\n",
    "from sklearn.ensemble import RandomForestClassifier\n",
    "from sklearn.model_selection import train_test_split, cross_val_score\n",
    "import numpy as np\n",
    "import pandas as pd\n",
    "from sklearn.metrics import accuracy_score,confusion_matrix, ConfusionMatrixDisplay"
   ]
  },
  {
   "cell_type": "markdown",
   "metadata": {},
   "source": [
    "# Reading dataset"
   ]
  },
  {
   "cell_type": "code",
   "execution_count": null,
   "metadata": {},
   "outputs": [],
   "source": [
    "df =  pd.concat([pd.read_csv(r\"dataset\\my_test_features.csv\"),\n",
    "                 pd.read_csv(r\"dataset\\my_train_features.csv\")])"
   ]
  },
  {
   "cell_type": "code",
   "execution_count": null,
   "metadata": {},
   "outputs": [],
   "source": [
    "df.head()"
   ]
  },
  {
   "cell_type": "markdown",
   "metadata": {},
   "source": [
    "# Data encoding"
   ]
  },
  {
   "cell_type": "code",
   "execution_count": null,
   "metadata": {},
   "outputs": [],
   "source": [
    "letter_slant_mapping = {'backward': -1, 'forward': 1, 'vertical': 0}\n",
    "line_slant_mapping = {'lowerside': -1, 'baseline': 0, 'upperside': 1}\n",
    "margin_slope_mapping = {'left': -1, 'straight': 0, 'right': 1}\n",
    "word_spacing_mapping = {'small': -1, 'medium': 0, 'large': 1}"
   ]
  },
  {
   "cell_type": "code",
   "execution_count": null,
   "metadata": {},
   "outputs": [],
   "source": [
    "df[\"letter_slant\"] = df[\"letter_slant\"].map(letter_slant_mapping)\n",
    "df[\"line_slant\"] = df[\"line_slant\"].map(line_slant_mapping)\n",
    "df[\"margin_slope\"] = df[\"margin_slope\"].map(margin_slope_mapping)\n",
    "df[\"word_spacing\"] = df[\"word_spacing\"].map(word_spacing_mapping)"
   ]
  },
  {
   "cell_type": "code",
   "execution_count": null,
   "metadata": {},
   "outputs": [],
   "source": [
    "df.head()"
   ]
  },
  {
   "cell_type": "markdown",
   "metadata": {},
   "source": [
    "# Data cleaning"
   ]
  },
  {
   "cell_type": "markdown",
   "metadata": {},
   "source": [
    "## Removing null values"
   ]
  },
  {
   "cell_type": "code",
   "execution_count": null,
   "metadata": {},
   "outputs": [],
   "source": [
    "df.info()"
   ]
  },
  {
   "cell_type": "code",
   "execution_count": null,
   "metadata": {},
   "outputs": [],
   "source": [
    "df.isnull().sum()"
   ]
  },
  {
   "cell_type": "code",
   "execution_count": null,
   "metadata": {},
   "outputs": [],
   "source": [
    "df.dropna(inplace=True)"
   ]
  },
  {
   "cell_type": "code",
   "execution_count": null,
   "metadata": {},
   "outputs": [],
   "source": [
    "df.info()"
   ]
  },
  {
   "cell_type": "code",
   "execution_count": null,
   "metadata": {},
   "outputs": [],
   "source": [
    "# X = df.drop(\"personality\",axis=1)\n",
    "# y = df[\"personality\"]\n",
    "\n",
    "# X_train, X_test, y_train, y_test = train_test_split(X, y, test_size=0.1, shuffle=True)\n",
    "# print(f\"{X_train.shape, y_train.shape, X_test.shape, y_test.shape}\")"
   ]
  },
  {
   "cell_type": "markdown",
   "metadata": {},
   "source": [
    "## Splitting each personality into separate dataframe"
   ]
  },
  {
   "cell_type": "code",
   "execution_count": null,
   "metadata": {},
   "outputs": [],
   "source": [
    "aggreableness_data = df[df[\"personality\"] == \"Agreeableness\"]\n",
    "conscientiousness_data = df[df[\"personality\"] == \"Conscientiousness\"]\n",
    "extraversion_data = df[df[\"personality\"] == \"Extraversion\"]\n",
    "openness_data = df[df[\"personality\"] == \"Openness\"]\n",
    "neuroticism_data = df[df[\"personality\"] == \"Neuroticism\"]"
   ]
  },
  {
   "cell_type": "markdown",
   "metadata": {},
   "source": [
    "## Splitting features & classes for each dataframe (based on personality)"
   ]
  },
  {
   "cell_type": "code",
   "execution_count": null,
   "metadata": {},
   "outputs": [],
   "source": [
    "aggreableness_x = aggreableness_data.drop(\"personality\", axis=1)\n",
    "aggreableness_y = aggreableness_data[\"personality\"]\n",
    "\n",
    "conscientiousness_x = conscientiousness_data.drop(\"personality\", axis=1)\n",
    "conscientiousness_y = conscientiousness_data[\"personality\"]\n",
    "\n",
    "extraversion_x = extraversion_data.drop(\"personality\", axis=1)\n",
    "extraversion_y = extraversion_data[\"personality\"]\n",
    "\n",
    "openness_x = openness_data.drop(\"personality\", axis=1)\n",
    "openness_y = openness_data[\"personality\"]\n",
    "\n",
    "neuroticism_x = neuroticism_data.drop(\"personality\", axis=1)\n",
    "neuroticism_y = neuroticism_data[\"personality\"]"
   ]
  },
  {
   "cell_type": "markdown",
   "metadata": {},
   "source": [
    "## Splitting each dataframe info train & test data at 9:1\n",
    "so that we can get data from each classes at same ratio (9:1) and no class got missed during random split"
   ]
  },
  {
   "cell_type": "code",
   "execution_count": null,
   "metadata": {},
   "outputs": [],
   "source": [
    "aggreableness_x_train, aggreableness_x_test, aggreableness_y_train, aggreableness_y_test = train_test_split(aggreableness_x, aggreableness_y, test_size=0.1, shuffle=True)\n",
    "\n",
    "conscientiousness_x_train, conscientiousness_x_test, conscientiousness_y_train, conscientiousness_y_test = train_test_split(conscientiousness_x, conscientiousness_y, test_size=0.1, shuffle=True)\n",
    "\n",
    "extraversion_x_train, extraversion_x_test, extraversion_y_train, extraversion_y_test = train_test_split(extraversion_x, extraversion_y, test_size=0.1, shuffle=True)\n",
    "\n",
    "openness_x_train, openness_x_test, openness_y_train, openness_y_test = train_test_split(openness_x, openness_y, test_size=0.1, shuffle=True)\n",
    "\n",
    "neuroticism_x_train, neuroticism_x_test, neuroticism_y_train, neuroticism_y_test = train_test_split(neuroticism_x, neuroticism_y, test_size=0.1, shuffle=True)"
   ]
  },
  {
   "cell_type": "markdown",
   "metadata": {},
   "source": [
    "## Merging train & test data from each classes into single train & test data"
   ]
  },
  {
   "cell_type": "code",
   "execution_count": null,
   "metadata": {},
   "outputs": [],
   "source": [
    "X_train = pd.concat([\n",
    "    aggreableness_x_train, \n",
    "    conscientiousness_x_train, \n",
    "    extraversion_x_train, \n",
    "    neuroticism_x_train, \n",
    "    openness_x_train\n",
    "])\n",
    "\n",
    "y_train = pd.concat([\n",
    "    aggreableness_y_train, \n",
    "    conscientiousness_y_train, \n",
    "    extraversion_y_train, \n",
    "    neuroticism_y_train, \n",
    "    openness_y_train\n",
    "])\n",
    "\n",
    "X_test = pd.concat([\n",
    "    aggreableness_x_test, \n",
    "    conscientiousness_x_test, \n",
    "    extraversion_x_test, \n",
    "    neuroticism_x_test, \n",
    "    openness_x_test\n",
    "])\n",
    "\n",
    "y_test = pd.concat([\n",
    "    aggreableness_y_test, \n",
    "    conscientiousness_y_test, \n",
    "    extraversion_y_test, \n",
    "    neuroticism_y_test, \n",
    "    openness_y_test\n",
    "])"
   ]
  },
  {
   "cell_type": "code",
   "execution_count": null,
   "metadata": {},
   "outputs": [],
   "source": [
    "print(f\"{X_train.shape, y_train.shape, X_test.shape, y_test.shape}\")"
   ]
  },
  {
   "cell_type": "markdown",
   "metadata": {},
   "source": [
    "# Training Models"
   ]
  },
  {
   "cell_type": "markdown",
   "metadata": {},
   "source": [
    "## Random Forest"
   ]
  },
  {
   "cell_type": "code",
   "execution_count": null,
   "metadata": {},
   "outputs": [],
   "source": [
    "rf = RandomForestClassifier(n_estimators=100, criterion=\"gini\", random_state=42)\n",
    "rf.fit(X_train, y_train)\n",
    "\n",
    "y_pred_rf = rf.predict(X_test)\n",
    "y_pred_rf"
   ]
  },
  {
   "cell_type": "markdown",
   "metadata": {},
   "source": [
    "## KNN"
   ]
  },
  {
   "cell_type": "markdown",
   "metadata": {},
   "source": [
    "### Finding optimum number of neighbors (k)"
   ]
  },
  {
   "cell_type": "code",
   "execution_count": null,
   "metadata": {},
   "outputs": [],
   "source": [
    "accuracies = []\n",
    "for i in range(1, X_train.shape[0] + 1):\n",
    "    knn = KNeighborsClassifier(n_neighbors=i)\n",
    "    knn.fit(X_train, y_train)\n",
    "    y_pred = knn.predict(X_test)\n",
    "    accuracies.append(accuracy_score(y_test, y_pred))\n",
    "max_accuracy_knn = max(accuracies)\n",
    "max_index_knn = accuracies.index(max_accuracy_knn)\n",
    "print(f\"Best accuracy {round(max_accuracy_knn * 100, 2)}% for KNN with k = {max_index_knn + 1}\")"
   ]
  },
  {
   "cell_type": "markdown",
   "metadata": {},
   "source": [
    "### Training the KNN model"
   ]
  },
  {
   "cell_type": "code",
   "execution_count": null,
   "metadata": {},
   "outputs": [],
   "source": [
    "knn = KNeighborsClassifier(n_neighbors=max_index_knn + 1)\n",
    "knn.fit(X_train, y_train)\n",
    "y_pred_knn = knn.predict(X_test)\n",
    "y_pred_knn"
   ]
  },
  {
   "cell_type": "markdown",
   "metadata": {},
   "source": [
    "# Output"
   ]
  },
  {
   "cell_type": "markdown",
   "metadata": {},
   "source": [
    "## Accuracy score"
   ]
  },
  {
   "cell_type": "markdown",
   "metadata": {},
   "source": [
    "### Accuracy for Random Forest"
   ]
  },
  {
   "cell_type": "code",
   "execution_count": null,
   "metadata": {},
   "outputs": [],
   "source": [
    "print(f\"Accuracy for Random Forest: {round(accuracy_score(y_test, y_pred_rf) * 100, 2)}%\")"
   ]
  },
  {
   "cell_type": "markdown",
   "metadata": {},
   "source": [
    "### Accuracy for KNN"
   ]
  },
  {
   "cell_type": "code",
   "execution_count": null,
   "metadata": {},
   "outputs": [],
   "source": [
    "print(f\"Accuracy for KNN: {round(accuracy_score(y_test, y_pred_knn) * 100, 2)}%\")"
   ]
  },
  {
   "cell_type": "markdown",
   "metadata": {},
   "source": [
    "## Confusion Matrix"
   ]
  },
  {
   "cell_type": "code",
   "execution_count": null,
   "metadata": {},
   "outputs": [],
   "source": [
    "import matplotlib.pyplot as plt\n",
    "\n",
    "cm_rf = confusion_matrix(y_test, y_pred_rf)\n",
    "cm_knn = confusion_matrix(y_test, y_pred_knn)\n",
    "\n",
    "fig, (ax1, ax2) = plt.subplots(1, 2, figsize=(10, 5))\n",
    "\n",
    "disp1 = ConfusionMatrixDisplay(confusion_matrix=cm_rf, display_labels=rf.classes_)\n",
    "disp1.plot(ax=ax1, xticks_rotation=\"vertical\")\n",
    "ax1.set_title(f\"Random Forest (Accuracy: {round(accuracy_score(y_test, y_pred_rf) * 100, 2)}%)\")\n",
    "\n",
    "disp2 = ConfusionMatrixDisplay(confusion_matrix=cm_knn, display_labels=knn.classes_)\n",
    "disp2.plot(ax=ax2, xticks_rotation=\"vertical\")\n",
    "ax2.set_title(f\"KNN (Accuracy: {round(accuracy_score(y_test, y_pred_knn) * 100, 2)}%)\")\n",
    "\n",
    "fig.suptitle(\"Confusion matrices\")\n",
    "plt.tight_layout()\n",
    "plt.show()\n"
   ]
  },
  {
   "cell_type": "markdown",
   "metadata": {},
   "source": [
    "## Assessment metrics"
   ]
  },
  {
   "cell_type": "code",
   "execution_count": null,
   "metadata": {},
   "outputs": [],
   "source": [
    "from sklearn.metrics import classification_report"
   ]
  },
  {
   "cell_type": "markdown",
   "metadata": {},
   "source": [
    "### Random Forest"
   ]
  },
  {
   "cell_type": "code",
   "execution_count": null,
   "metadata": {},
   "outputs": [],
   "source": [
    "report1 = classification_report(y_test, y_pred_rf, output_dict=True)\n",
    "report1_df = pd.DataFrame(report1).transpose()\n",
    "report1_df"
   ]
  },
  {
   "cell_type": "markdown",
   "metadata": {},
   "source": [
    "### KNN"
   ]
  },
  {
   "cell_type": "code",
   "execution_count": null,
   "metadata": {},
   "outputs": [],
   "source": [
    "report2 = classification_report(y_test, y_pred_knn, output_dict=True)\n",
    "report2_df = pd.DataFrame(report2).transpose()\n",
    "report2_df"
   ]
  },
  {
   "cell_type": "markdown",
   "metadata": {},
   "source": [
    "# Saving the trained model & currently splitted train & test data for further use"
   ]
  },
  {
   "cell_type": "code",
   "execution_count": null,
   "metadata": {},
   "outputs": [],
   "source": [
    "import joblib\n",
    "import os\n",
    "joblib.dump(rf, \"./saved_models/type2/rf.joblib\", compress=3)\n",
    "print(f\"Random forest model saved: {np.round(os.path.getsize('./saved_models/type2/rf.joblib') / 1024 / 1024, 2) } MB\")\n",
    "joblib.dump(knn, \"./saved_models/type2/knn.joblib\", compress=3)\n",
    "print(f\"KNN model saved: {np.round(os.path.getsize('./saved_models/type2/knn.joblib') / 1024 / 1024, 2) } MB\")\n",
    "\n",
    "df_train_save = pd.concat([X_train, y_train], axis=1)\n",
    "df_train_save.to_csv(\"./saved_models/type2/train.csv\", index=False)\n",
    "df_test_save = pd.concat([X_test, y_test], axis=1)\n",
    "df_test_save.to_csv(\"./saved_models/type2/test.csv\", index=False)"
   ]
  }
 ],
 "metadata": {
  "kernelspec": {
   "display_name": "venv",
   "language": "python",
   "name": "python3"
  },
  "language_info": {
   "codemirror_mode": {
    "name": "ipython",
    "version": 3
   },
   "file_extension": ".py",
   "mimetype": "text/x-python",
   "name": "python",
   "nbconvert_exporter": "python",
   "pygments_lexer": "ipython3",
   "version": "3.11.7"
  }
 },
 "nbformat": 4,
 "nbformat_minor": 2
}
