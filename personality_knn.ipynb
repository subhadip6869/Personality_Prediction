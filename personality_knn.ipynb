{
 "cells": [
  {
   "cell_type": "code",
   "execution_count": 1072,
   "metadata": {},
   "outputs": [],
   "source": [
    "from sklearn.neighbors import KNeighborsClassifier\n",
    "from sklearn.model_selection import train_test_split\n",
    "import numpy as np\n",
    "import pandas as pd\n",
    "from sklearn.metrics import accuracy_score,confusion_matrix"
   ]
  },
  {
   "cell_type": "code",
   "execution_count": 1073,
   "metadata": {},
   "outputs": [
    {
     "data": {
      "text/plain": [
       "array(['letter_slant', 'line_slant', 'letter_size', 'margin_slope',\n",
       "       'word_spacing', 'personality'], dtype=object)"
      ]
     },
     "execution_count": 1073,
     "metadata": {},
     "output_type": "execute_result"
    }
   ],
   "source": [
    "trainData = pd.read_csv(\"dataset/my_features.csv\")\n",
    "data_cols = np.array(trainData.columns)\n",
    "data_cols"
   ]
  },
  {
   "cell_type": "code",
   "execution_count": 1074,
   "metadata": {},
   "outputs": [
    {
     "data": {
      "text/html": [
       "<div>\n",
       "<style scoped>\n",
       "    .dataframe tbody tr th:only-of-type {\n",
       "        vertical-align: middle;\n",
       "    }\n",
       "\n",
       "    .dataframe tbody tr th {\n",
       "        vertical-align: top;\n",
       "    }\n",
       "\n",
       "    .dataframe thead th {\n",
       "        text-align: right;\n",
       "    }\n",
       "</style>\n",
       "<table border=\"1\" class=\"dataframe\">\n",
       "  <thead>\n",
       "    <tr style=\"text-align: right;\">\n",
       "      <th></th>\n",
       "      <th>letter_slant</th>\n",
       "      <th>line_slant</th>\n",
       "      <th>letter_size</th>\n",
       "      <th>margin_slope</th>\n",
       "      <th>word_spacing</th>\n",
       "      <th>personality</th>\n",
       "    </tr>\n",
       "  </thead>\n",
       "  <tbody>\n",
       "    <tr>\n",
       "      <th>0</th>\n",
       "      <td>backward</td>\n",
       "      <td>upperside</td>\n",
       "      <td>1307.2</td>\n",
       "      <td>straight</td>\n",
       "      <td>small</td>\n",
       "      <td>Agreeableness</td>\n",
       "    </tr>\n",
       "    <tr>\n",
       "      <th>1</th>\n",
       "      <td>backward</td>\n",
       "      <td>upperside</td>\n",
       "      <td>932.0</td>\n",
       "      <td>right</td>\n",
       "      <td>small</td>\n",
       "      <td>Agreeableness</td>\n",
       "    </tr>\n",
       "    <tr>\n",
       "      <th>2</th>\n",
       "      <td>forward</td>\n",
       "      <td>upperside</td>\n",
       "      <td>891.4</td>\n",
       "      <td>straight</td>\n",
       "      <td>small</td>\n",
       "      <td>Agreeableness</td>\n",
       "    </tr>\n",
       "    <tr>\n",
       "      <th>3</th>\n",
       "      <td>forward</td>\n",
       "      <td>upperside</td>\n",
       "      <td>279.6</td>\n",
       "      <td>straight</td>\n",
       "      <td>small</td>\n",
       "      <td>Agreeableness</td>\n",
       "    </tr>\n",
       "    <tr>\n",
       "      <th>4</th>\n",
       "      <td>vertical</td>\n",
       "      <td>upperside</td>\n",
       "      <td>766.0</td>\n",
       "      <td>straight</td>\n",
       "      <td>small</td>\n",
       "      <td>Agreeableness</td>\n",
       "    </tr>\n",
       "  </tbody>\n",
       "</table>\n",
       "</div>"
      ],
      "text/plain": [
       "  letter_slant line_slant  letter_size margin_slope word_spacing  \\\n",
       "0     backward  upperside       1307.2     straight        small   \n",
       "1     backward  upperside        932.0        right        small   \n",
       "2      forward  upperside        891.4     straight        small   \n",
       "3      forward  upperside        279.6     straight        small   \n",
       "4     vertical  upperside        766.0     straight        small   \n",
       "\n",
       "     personality  \n",
       "0  Agreeableness  \n",
       "1  Agreeableness  \n",
       "2  Agreeableness  \n",
       "3  Agreeableness  \n",
       "4  Agreeableness  "
      ]
     },
     "execution_count": 1074,
     "metadata": {},
     "output_type": "execute_result"
    }
   ],
   "source": [
    "trainData.head()"
   ]
  },
  {
   "cell_type": "code",
   "execution_count": 1075,
   "metadata": {},
   "outputs": [],
   "source": [
    "letter_slant_mapping = {'backward': -1, 'forward': 1, 'vertical': 0}\n",
    "line_slant_mapping = {'lowerside': -1, 'baseline': 0, 'upperside': 1}\n",
    "margin_slope_mapping = {'left': -1, 'straight': 0, 'right': 1}\n",
    "word_spacing_mapping = {'small': -1, 'medium': 0, 'large': 1}"
   ]
  },
  {
   "cell_type": "code",
   "execution_count": 1076,
   "metadata": {},
   "outputs": [],
   "source": [
    "trainData[\"letter_slant\"] = trainData[\"letter_slant\"].map(letter_slant_mapping)\n",
    "trainData[\"line_slant\"] = trainData[\"line_slant\"].map(line_slant_mapping)\n",
    "trainData[\"margin_slope\"] = trainData[\"margin_slope\"].map(margin_slope_mapping)\n",
    "trainData[\"word_spacing\"] = trainData[\"word_spacing\"].map(word_spacing_mapping)"
   ]
  },
  {
   "cell_type": "code",
   "execution_count": 1077,
   "metadata": {},
   "outputs": [
    {
     "data": {
      "text/html": [
       "<div>\n",
       "<style scoped>\n",
       "    .dataframe tbody tr th:only-of-type {\n",
       "        vertical-align: middle;\n",
       "    }\n",
       "\n",
       "    .dataframe tbody tr th {\n",
       "        vertical-align: top;\n",
       "    }\n",
       "\n",
       "    .dataframe thead th {\n",
       "        text-align: right;\n",
       "    }\n",
       "</style>\n",
       "<table border=\"1\" class=\"dataframe\">\n",
       "  <thead>\n",
       "    <tr style=\"text-align: right;\">\n",
       "      <th></th>\n",
       "      <th>letter_slant</th>\n",
       "      <th>line_slant</th>\n",
       "      <th>letter_size</th>\n",
       "      <th>margin_slope</th>\n",
       "      <th>word_spacing</th>\n",
       "      <th>personality</th>\n",
       "    </tr>\n",
       "  </thead>\n",
       "  <tbody>\n",
       "    <tr>\n",
       "      <th>0</th>\n",
       "      <td>-1</td>\n",
       "      <td>1</td>\n",
       "      <td>1307.2</td>\n",
       "      <td>0</td>\n",
       "      <td>-1</td>\n",
       "      <td>Agreeableness</td>\n",
       "    </tr>\n",
       "    <tr>\n",
       "      <th>1</th>\n",
       "      <td>-1</td>\n",
       "      <td>1</td>\n",
       "      <td>932.0</td>\n",
       "      <td>1</td>\n",
       "      <td>-1</td>\n",
       "      <td>Agreeableness</td>\n",
       "    </tr>\n",
       "    <tr>\n",
       "      <th>2</th>\n",
       "      <td>1</td>\n",
       "      <td>1</td>\n",
       "      <td>891.4</td>\n",
       "      <td>0</td>\n",
       "      <td>-1</td>\n",
       "      <td>Agreeableness</td>\n",
       "    </tr>\n",
       "    <tr>\n",
       "      <th>3</th>\n",
       "      <td>1</td>\n",
       "      <td>1</td>\n",
       "      <td>279.6</td>\n",
       "      <td>0</td>\n",
       "      <td>-1</td>\n",
       "      <td>Agreeableness</td>\n",
       "    </tr>\n",
       "    <tr>\n",
       "      <th>4</th>\n",
       "      <td>0</td>\n",
       "      <td>1</td>\n",
       "      <td>766.0</td>\n",
       "      <td>0</td>\n",
       "      <td>-1</td>\n",
       "      <td>Agreeableness</td>\n",
       "    </tr>\n",
       "  </tbody>\n",
       "</table>\n",
       "</div>"
      ],
      "text/plain": [
       "   letter_slant  line_slant  letter_size  margin_slope  word_spacing  \\\n",
       "0            -1           1       1307.2             0            -1   \n",
       "1            -1           1        932.0             1            -1   \n",
       "2             1           1        891.4             0            -1   \n",
       "3             1           1        279.6             0            -1   \n",
       "4             0           1        766.0             0            -1   \n",
       "\n",
       "     personality  \n",
       "0  Agreeableness  \n",
       "1  Agreeableness  \n",
       "2  Agreeableness  \n",
       "3  Agreeableness  \n",
       "4  Agreeableness  "
      ]
     },
     "execution_count": 1077,
     "metadata": {},
     "output_type": "execute_result"
    }
   ],
   "source": [
    "trainData.head()"
   ]
  },
  {
   "cell_type": "code",
   "execution_count": 1078,
   "metadata": {},
   "outputs": [
    {
     "name": "stdout",
     "output_type": "stream",
     "text": [
      "<class 'pandas.core.frame.DataFrame'>\n",
      "RangeIndex: 221 entries, 0 to 220\n",
      "Data columns (total 6 columns):\n",
      " #   Column        Non-Null Count  Dtype  \n",
      "---  ------        --------------  -----  \n",
      " 0   letter_slant  221 non-null    int64  \n",
      " 1   line_slant    221 non-null    int64  \n",
      " 2   letter_size   221 non-null    float64\n",
      " 3   margin_slope  221 non-null    int64  \n",
      " 4   word_spacing  221 non-null    int64  \n",
      " 5   personality   221 non-null    object \n",
      "dtypes: float64(1), int64(4), object(1)\n",
      "memory usage: 10.5+ KB\n"
     ]
    }
   ],
   "source": [
    "trainData.info()"
   ]
  },
  {
   "cell_type": "code",
   "execution_count": 1079,
   "metadata": {},
   "outputs": [
    {
     "data": {
      "text/plain": [
       "letter_slant    0\n",
       "line_slant      0\n",
       "letter_size     0\n",
       "margin_slope    0\n",
       "word_spacing    0\n",
       "personality     0\n",
       "dtype: int64"
      ]
     },
     "execution_count": 1079,
     "metadata": {},
     "output_type": "execute_result"
    }
   ],
   "source": [
    "trainData.isnull().sum()"
   ]
  },
  {
   "cell_type": "code",
   "execution_count": 1080,
   "metadata": {},
   "outputs": [
    {
     "name": "stdout",
     "output_type": "stream",
     "text": [
      "<class 'pandas.core.frame.DataFrame'>\n",
      "RangeIndex: 221 entries, 0 to 220\n",
      "Data columns (total 6 columns):\n",
      " #   Column        Non-Null Count  Dtype  \n",
      "---  ------        --------------  -----  \n",
      " 0   letter_slant  221 non-null    int64  \n",
      " 1   line_slant    221 non-null    int64  \n",
      " 2   letter_size   221 non-null    float64\n",
      " 3   margin_slope  221 non-null    int64  \n",
      " 4   word_spacing  221 non-null    int64  \n",
      " 5   personality   221 non-null    object \n",
      "dtypes: float64(1), int64(4), object(1)\n",
      "memory usage: 10.5+ KB\n"
     ]
    }
   ],
   "source": [
    "trainData = trainData.dropna(axis=0)\n",
    "trainData.info()"
   ]
  },
  {
   "cell_type": "code",
   "execution_count": 1081,
   "metadata": {},
   "outputs": [],
   "source": [
    "aggreableness_data = trainData[trainData[\"personality\"] == \"Agreeableness\"]\n",
    "conscientiousness_data = trainData[trainData[\"personality\"] == \"Conscientiousness\"]\n",
    "extraversion_data = trainData[trainData[\"personality\"] == \"Extraversion\"]\n",
    "neuroticism_data = trainData[trainData[\"personality\"] == \"Neuroticism\"]\n",
    "openness_data = trainData[trainData[\"personality\"] == \"Openness\"]"
   ]
  },
  {
   "cell_type": "code",
   "execution_count": 1082,
   "metadata": {},
   "outputs": [],
   "source": [
    "aggreableness_x = aggreableness_data.drop(data_cols[-1], axis=1)\n",
    "aggreableness_y = aggreableness_data[data_cols[-1]]\n",
    "\n",
    "conscientiousness_x = conscientiousness_data.drop(data_cols[-1], axis=1)\n",
    "conscientiousness_y = conscientiousness_data[data_cols[-1]]\n",
    "\n",
    "extraversion_x = extraversion_data.drop(data_cols[-1], axis=1)\n",
    "extraversion_y = extraversion_data[data_cols[-1]]\n",
    "\n",
    "neuroticism_x = neuroticism_data.drop(data_cols[-1], axis=1)\n",
    "neuroticism_y = neuroticism_data[data_cols[-1]]\n",
    "\n",
    "openness_x = openness_data.drop(data_cols[-1], axis=1)\n",
    "openness_y = openness_data[data_cols[-1]]"
   ]
  },
  {
   "cell_type": "code",
   "execution_count": 1083,
   "metadata": {},
   "outputs": [],
   "source": [
    "test_ratio = 0.1\n",
    "\n",
    "aggreableness_x_train, aggreableness_x_test, aggreableness_y_train, aggreableness_y_test = train_test_split(aggreableness_x, aggreableness_y, test_size=test_ratio, shuffle=True)\n",
    "\n",
    "conscientiousness_x_train, conscientiousness_x_test, conscientiousness_y_train, conscientiousness_y_test = train_test_split(conscientiousness_x, conscientiousness_y, test_size=test_ratio, shuffle=True)\n",
    "\n",
    "extraversion_x_train, extraversion_x_test, extraversion_y_train, extraversion_y_test = train_test_split(extraversion_x, extraversion_y, test_size=test_ratio, shuffle=True)\n",
    "\n",
    "neuroticism_x_train, neuroticism_x_test, neuroticism_y_train, neuroticism_y_test = train_test_split(neuroticism_x, neuroticism_y, test_size=test_ratio, shuffle=True)\n",
    "\n",
    "openness_x_train, openness_x_test, openness_y_train, openness_y_test = train_test_split(openness_x, openness_y, test_size=test_ratio, shuffle=True)\n",
    "\n",
    "x_train = pd.concat([aggreableness_x_train, conscientiousness_x_train, extraversion_x_train, neuroticism_x_train, openness_x_train], ignore_index=True)\n",
    "y_train = pd.concat([aggreableness_y_train, conscientiousness_y_train, extraversion_y_train, neuroticism_y_train, openness_y_train], ignore_index=True)\n",
    "\n",
    "x_test = pd.concat([aggreableness_x_test, conscientiousness_x_test, extraversion_x_test, neuroticism_x_test, openness_x_test], ignore_index=True)\n",
    "y_test = pd.concat([aggreableness_y_test, conscientiousness_y_test, extraversion_y_test, neuroticism_y_test, openness_y_test], ignore_index=True)"
   ]
  },
  {
   "cell_type": "code",
   "execution_count": 1084,
   "metadata": {},
   "outputs": [
    {
     "name": "stdout",
     "output_type": "stream",
     "text": [
      "((197, 5), (24, 5), (197,), (24,))\n",
      "Aggreableness: ((38, 5), (34, 5), (4, 5))\n",
      "Conscientiousness: ((35, 5), (31, 5), (4, 5))\n",
      "Extraversion: ((10, 5), (9, 5), (1, 5))\n",
      "Neuroticism: ((44, 5), (39, 5), (5, 5))\n",
      "Openness: ((94, 5), (84, 5), (10, 5))\n"
     ]
    }
   ],
   "source": [
    "print(f\"{x_train.shape, x_test.shape, y_train.shape, y_test.shape}\")\n",
    "print(f\"Aggreableness: {aggreableness_x.shape, aggreableness_x_train.shape, aggreableness_x_test.shape}\")\n",
    "print(f\"Conscientiousness: {conscientiousness_x.shape, conscientiousness_x_train.shape, conscientiousness_x_test.shape}\")\n",
    "print(f\"Extraversion: {extraversion_x.shape, extraversion_x_train.shape, extraversion_x_test.shape}\")\n",
    "print(f\"Neuroticism: {neuroticism_x.shape, neuroticism_x_train.shape, neuroticism_x_test.shape}\")\n",
    "print(f\"Openness: {openness_x.shape, openness_x_train.shape, openness_x_test.shape}\")"
   ]
  },
  {
   "cell_type": "code",
   "execution_count": 1085,
   "metadata": {},
   "outputs": [],
   "source": [
    "accuracies = []\n",
    "for i in range(1, x_train.shape[0] + 1):\n",
    "    knn = KNeighborsClassifier(n_neighbors=i)\n",
    "    knn.fit(x_train, y_train)\n",
    "    y_pred = knn.predict(x_test)\n",
    "    accuracies.append(accuracy_score(y_test, y_pred))"
   ]
  },
  {
   "cell_type": "code",
   "execution_count": 1086,
   "metadata": {},
   "outputs": [
    {
     "data": {
      "text/plain": [
       "[0.16666666666666666,\n",
       " 0.20833333333333334,\n",
       " 0.25,\n",
       " 0.25,\n",
       " 0.25,\n",
       " 0.2916666666666667,\n",
       " 0.25,\n",
       " 0.2916666666666667,\n",
       " 0.3333333333333333,\n",
       " 0.2916666666666667,\n",
       " 0.3333333333333333,\n",
       " 0.3333333333333333,\n",
       " 0.3333333333333333,\n",
       " 0.375,\n",
       " 0.4166666666666667,\n",
       " 0.4583333333333333,\n",
       " 0.5416666666666666,\n",
       " 0.5833333333333334,\n",
       " 0.5416666666666666,\n",
       " 0.5416666666666666,\n",
       " 0.5,\n",
       " 0.5,\n",
       " 0.5,\n",
       " 0.375,\n",
       " 0.4583333333333333,\n",
       " 0.4166666666666667,\n",
       " 0.4166666666666667,\n",
       " 0.4166666666666667,\n",
       " 0.4166666666666667,\n",
       " 0.4166666666666667,\n",
       " 0.4166666666666667,\n",
       " 0.4166666666666667,\n",
       " 0.4166666666666667,\n",
       " 0.4166666666666667,\n",
       " 0.4166666666666667,\n",
       " 0.4166666666666667,\n",
       " 0.4583333333333333,\n",
       " 0.4166666666666667,\n",
       " 0.4583333333333333,\n",
       " 0.4583333333333333,\n",
       " 0.4583333333333333,\n",
       " 0.4583333333333333,\n",
       " 0.4166666666666667,\n",
       " 0.4583333333333333,\n",
       " 0.4166666666666667,\n",
       " 0.4166666666666667,\n",
       " 0.4166666666666667,\n",
       " 0.4166666666666667,\n",
       " 0.4166666666666667,\n",
       " 0.4166666666666667,\n",
       " 0.4166666666666667,\n",
       " 0.4166666666666667,\n",
       " 0.4166666666666667,\n",
       " 0.4166666666666667,\n",
       " 0.4166666666666667,\n",
       " 0.4166666666666667,\n",
       " 0.4166666666666667,\n",
       " 0.4166666666666667,\n",
       " 0.4166666666666667,\n",
       " 0.4166666666666667,\n",
       " 0.4166666666666667,\n",
       " 0.4166666666666667,\n",
       " 0.4166666666666667,\n",
       " 0.4166666666666667,\n",
       " 0.4166666666666667,\n",
       " 0.4166666666666667,\n",
       " 0.4166666666666667,\n",
       " 0.4166666666666667,\n",
       " 0.4166666666666667,\n",
       " 0.4166666666666667,\n",
       " 0.4166666666666667,\n",
       " 0.4166666666666667,\n",
       " 0.4166666666666667,\n",
       " 0.4166666666666667,\n",
       " 0.4166666666666667,\n",
       " 0.4166666666666667,\n",
       " 0.4166666666666667,\n",
       " 0.4166666666666667,\n",
       " 0.4166666666666667,\n",
       " 0.4166666666666667,\n",
       " 0.4166666666666667,\n",
       " 0.4166666666666667,\n",
       " 0.4166666666666667,\n",
       " 0.4166666666666667,\n",
       " 0.4166666666666667,\n",
       " 0.4166666666666667,\n",
       " 0.4166666666666667,\n",
       " 0.4166666666666667,\n",
       " 0.4166666666666667,\n",
       " 0.4166666666666667,\n",
       " 0.4166666666666667,\n",
       " 0.4166666666666667,\n",
       " 0.4166666666666667,\n",
       " 0.4166666666666667,\n",
       " 0.4166666666666667,\n",
       " 0.4166666666666667,\n",
       " 0.4166666666666667,\n",
       " 0.4166666666666667,\n",
       " 0.4166666666666667,\n",
       " 0.4166666666666667,\n",
       " 0.4166666666666667,\n",
       " 0.4166666666666667,\n",
       " 0.4166666666666667,\n",
       " 0.4166666666666667,\n",
       " 0.4166666666666667,\n",
       " 0.4166666666666667,\n",
       " 0.4166666666666667,\n",
       " 0.4166666666666667,\n",
       " 0.4166666666666667,\n",
       " 0.4166666666666667,\n",
       " 0.4166666666666667,\n",
       " 0.4166666666666667,\n",
       " 0.4166666666666667,\n",
       " 0.4166666666666667,\n",
       " 0.4166666666666667,\n",
       " 0.4166666666666667,\n",
       " 0.4166666666666667,\n",
       " 0.4166666666666667,\n",
       " 0.4166666666666667,\n",
       " 0.4166666666666667,\n",
       " 0.4166666666666667,\n",
       " 0.4166666666666667,\n",
       " 0.4166666666666667,\n",
       " 0.4166666666666667,\n",
       " 0.4166666666666667,\n",
       " 0.4166666666666667,\n",
       " 0.4166666666666667,\n",
       " 0.4166666666666667,\n",
       " 0.4166666666666667,\n",
       " 0.4166666666666667,\n",
       " 0.4166666666666667,\n",
       " 0.4166666666666667,\n",
       " 0.4166666666666667,\n",
       " 0.4166666666666667,\n",
       " 0.4166666666666667,\n",
       " 0.4166666666666667,\n",
       " 0.4166666666666667,\n",
       " 0.4166666666666667,\n",
       " 0.4166666666666667,\n",
       " 0.4166666666666667,\n",
       " 0.4166666666666667,\n",
       " 0.4166666666666667,\n",
       " 0.4166666666666667,\n",
       " 0.4166666666666667,\n",
       " 0.4166666666666667,\n",
       " 0.4166666666666667,\n",
       " 0.4166666666666667,\n",
       " 0.4166666666666667,\n",
       " 0.4166666666666667,\n",
       " 0.4166666666666667,\n",
       " 0.4166666666666667,\n",
       " 0.4166666666666667,\n",
       " 0.4166666666666667,\n",
       " 0.4166666666666667,\n",
       " 0.4166666666666667,\n",
       " 0.4166666666666667,\n",
       " 0.4166666666666667,\n",
       " 0.4166666666666667,\n",
       " 0.4166666666666667,\n",
       " 0.4166666666666667,\n",
       " 0.4166666666666667,\n",
       " 0.4166666666666667,\n",
       " 0.4166666666666667,\n",
       " 0.4166666666666667,\n",
       " 0.4166666666666667,\n",
       " 0.4166666666666667,\n",
       " 0.4166666666666667,\n",
       " 0.4166666666666667,\n",
       " 0.4166666666666667,\n",
       " 0.4166666666666667,\n",
       " 0.4166666666666667,\n",
       " 0.4166666666666667,\n",
       " 0.4166666666666667,\n",
       " 0.4166666666666667,\n",
       " 0.4166666666666667,\n",
       " 0.4166666666666667,\n",
       " 0.4166666666666667,\n",
       " 0.4166666666666667,\n",
       " 0.4166666666666667,\n",
       " 0.4166666666666667,\n",
       " 0.4166666666666667,\n",
       " 0.4166666666666667,\n",
       " 0.4166666666666667,\n",
       " 0.4166666666666667,\n",
       " 0.4166666666666667,\n",
       " 0.4166666666666667,\n",
       " 0.4166666666666667,\n",
       " 0.4166666666666667,\n",
       " 0.4166666666666667,\n",
       " 0.4166666666666667,\n",
       " 0.4166666666666667,\n",
       " 0.4166666666666667,\n",
       " 0.4166666666666667,\n",
       " 0.4166666666666667,\n",
       " 0.4166666666666667,\n",
       " 0.4166666666666667,\n",
       " 0.4166666666666667]"
      ]
     },
     "execution_count": 1086,
     "metadata": {},
     "output_type": "execute_result"
    }
   ],
   "source": [
    "accuracies"
   ]
  },
  {
   "cell_type": "code",
   "execution_count": 1087,
   "metadata": {},
   "outputs": [
    {
     "data": {
      "text/plain": [
       "0.5833333333333334"
      ]
     },
     "execution_count": 1087,
     "metadata": {},
     "output_type": "execute_result"
    }
   ],
   "source": [
    "max_accuracy = max(accuracies)\n",
    "max_accuracy"
   ]
  },
  {
   "cell_type": "code",
   "execution_count": 1088,
   "metadata": {},
   "outputs": [],
   "source": [
    "max_index = accuracies.index(max_accuracy)"
   ]
  },
  {
   "cell_type": "code",
   "execution_count": 1089,
   "metadata": {},
   "outputs": [
    {
     "data": {
      "text/plain": [
       "array(['Openness', 'Openness', 'Openness', 'Agreeableness',\n",
       "       'Conscientiousness', 'Conscientiousness', 'Neuroticism',\n",
       "       'Openness', 'Openness', 'Agreeableness', 'Openness', 'Neuroticism',\n",
       "       'Neuroticism', 'Openness', 'Openness', 'Openness', 'Openness',\n",
       "       'Openness', 'Openness', 'Openness', 'Openness',\n",
       "       'Conscientiousness', 'Openness', 'Openness'], dtype=object)"
      ]
     },
     "execution_count": 1089,
     "metadata": {},
     "output_type": "execute_result"
    }
   ],
   "source": [
    "# k = int(input(\"Enter number of neighbours: \"))\n",
    "knn = KNeighborsClassifier(n_neighbors=max_index+1)\n",
    "knn.fit(x_train, y_train)\n",
    "\n",
    "y_pred = knn.predict(x_test)\n",
    "y_pred"
   ]
  },
  {
   "cell_type": "code",
   "execution_count": 1090,
   "metadata": {},
   "outputs": [
    {
     "data": {
      "text/plain": [
       "0.5833333333333334"
      ]
     },
     "execution_count": 1090,
     "metadata": {},
     "output_type": "execute_result"
    }
   ],
   "source": [
    "accuracy = accuracy_score(y_test, y_pred)\n",
    "accuracy"
   ]
  },
  {
   "cell_type": "code",
   "execution_count": 1091,
   "metadata": {},
   "outputs": [
    {
     "name": "stdout",
     "output_type": "stream",
     "text": [
      "Saved model size: 0.003 MB\n"
     ]
    }
   ],
   "source": [
    "import joblib\n",
    "import os\n",
    "joblib.dump(knn, \"./saved_models/knn1.joblib\", compress=3)\n",
    "print(f\"Saved model size: {np.round(os.path.getsize('./saved_models/knn1.joblib') / 1024 / 1024, 3) } MB\")"
   ]
  },
  {
   "cell_type": "code",
   "execution_count": 1092,
   "metadata": {},
   "outputs": [
    {
     "data": {
      "text/plain": [
       "0.5833333333333334"
      ]
     },
     "execution_count": 1092,
     "metadata": {},
     "output_type": "execute_result"
    }
   ],
   "source": [
    "loaded_knn = joblib.load(\"./saved_models/knn1.joblib\")\n",
    "loaded_predict = loaded_knn.predict(x_test)\n",
    "accuracy_score(y_test, loaded_predict)"
   ]
  }
 ],
 "metadata": {
  "kernelspec": {
   "display_name": "Python 3.9.10 ('venv': venv)",
   "language": "python",
   "name": "python3"
  },
  "language_info": {
   "codemirror_mode": {
    "name": "ipython",
    "version": 3
   },
   "file_extension": ".py",
   "mimetype": "text/x-python",
   "name": "python",
   "nbconvert_exporter": "python",
   "pygments_lexer": "ipython3",
   "version": "3.11.7"
  },
  "orig_nbformat": 4,
  "vscode": {
   "interpreter": {
    "hash": "5794f32bc3fd030b4be08307c2472b272d703b5ecbda5eb84f6d8098e90e68d3"
   }
  }
 },
 "nbformat": 4,
 "nbformat_minor": 2
}
