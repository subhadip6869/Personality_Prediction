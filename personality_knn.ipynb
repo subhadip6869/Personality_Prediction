{
 "cells": [
  {
   "cell_type": "code",
   "execution_count": 41,
   "metadata": {},
   "outputs": [],
   "source": [
    "import numpy as np\n",
    "import pandas as pd\n",
    "from sklearn.model_selection import train_test_split\n",
    "from sklearn.neighbors import KNeighborsClassifier\n",
    "from sklearn.metrics import accuracy_score,confusion_matrix"
   ]
  },
  {
   "cell_type": "code",
   "execution_count": 42,
   "metadata": {},
   "outputs": [
    {
     "data": {
      "text/plain": [
       "array(['letter_slant', 'line_slant', 'margin_slope', 'letter_size',\n",
       "       'word_spacing', 'personality'], dtype=object)"
      ]
     },
     "execution_count": 42,
     "metadata": {},
     "output_type": "execute_result"
    }
   ],
   "source": [
    "trainData = pd.read_csv(\"dataset/features.csv\")\n",
    "data_cols = np.array(trainData.columns)\n",
    "data_cols"
   ]
  },
  {
   "cell_type": "code",
   "execution_count": 43,
   "metadata": {},
   "outputs": [
    {
     "data": {
      "text/html": [
       "<div>\n",
       "<style scoped>\n",
       "    .dataframe tbody tr th:only-of-type {\n",
       "        vertical-align: middle;\n",
       "    }\n",
       "\n",
       "    .dataframe tbody tr th {\n",
       "        vertical-align: top;\n",
       "    }\n",
       "\n",
       "    .dataframe thead th {\n",
       "        text-align: right;\n",
       "    }\n",
       "</style>\n",
       "<table border=\"1\" class=\"dataframe\">\n",
       "  <thead>\n",
       "    <tr style=\"text-align: right;\">\n",
       "      <th></th>\n",
       "      <th>letter_slant</th>\n",
       "      <th>line_slant</th>\n",
       "      <th>margin_slope</th>\n",
       "      <th>letter_size</th>\n",
       "      <th>word_spacing</th>\n",
       "      <th>personality</th>\n",
       "    </tr>\n",
       "  </thead>\n",
       "  <tbody>\n",
       "    <tr>\n",
       "      <th>0</th>\n",
       "      <td>2.0</td>\n",
       "      <td>-75.1</td>\n",
       "      <td>4.1</td>\n",
       "      <td>931.7</td>\n",
       "      <td>15.0</td>\n",
       "      <td>Agreeableness</td>\n",
       "    </tr>\n",
       "    <tr>\n",
       "      <th>1</th>\n",
       "      <td>-11.0</td>\n",
       "      <td>9.6</td>\n",
       "      <td>15.3</td>\n",
       "      <td>486.2</td>\n",
       "      <td>22.0</td>\n",
       "      <td>Agreeableness</td>\n",
       "    </tr>\n",
       "    <tr>\n",
       "      <th>2</th>\n",
       "      <td>18.0</td>\n",
       "      <td>-2.3</td>\n",
       "      <td>1.0</td>\n",
       "      <td>112.8</td>\n",
       "      <td>1.0</td>\n",
       "      <td>Agreeableness</td>\n",
       "    </tr>\n",
       "    <tr>\n",
       "      <th>3</th>\n",
       "      <td>6.0</td>\n",
       "      <td>-4.0</td>\n",
       "      <td>-1.1</td>\n",
       "      <td>30.6</td>\n",
       "      <td>1.0</td>\n",
       "      <td>Agreeableness</td>\n",
       "    </tr>\n",
       "    <tr>\n",
       "      <th>4</th>\n",
       "      <td>-6.0</td>\n",
       "      <td>0.0</td>\n",
       "      <td>2.2</td>\n",
       "      <td>152.9</td>\n",
       "      <td>9.0</td>\n",
       "      <td>Agreeableness</td>\n",
       "    </tr>\n",
       "  </tbody>\n",
       "</table>\n",
       "</div>"
      ],
      "text/plain": [
       "   letter_slant  line_slant  margin_slope  letter_size  word_spacing   \n",
       "0           2.0       -75.1           4.1        931.7          15.0  \\\n",
       "1         -11.0         9.6          15.3        486.2          22.0   \n",
       "2          18.0        -2.3           1.0        112.8           1.0   \n",
       "3           6.0        -4.0          -1.1         30.6           1.0   \n",
       "4          -6.0         0.0           2.2        152.9           9.0   \n",
       "\n",
       "     personality  \n",
       "0  Agreeableness  \n",
       "1  Agreeableness  \n",
       "2  Agreeableness  \n",
       "3  Agreeableness  \n",
       "4  Agreeableness  "
      ]
     },
     "execution_count": 43,
     "metadata": {},
     "output_type": "execute_result"
    }
   ],
   "source": [
    "trainData.head()"
   ]
  },
  {
   "cell_type": "code",
   "execution_count": 44,
   "metadata": {},
   "outputs": [
    {
     "name": "stdout",
     "output_type": "stream",
     "text": [
      "<class 'pandas.core.frame.DataFrame'>\n",
      "RangeIndex: 221 entries, 0 to 220\n",
      "Data columns (total 6 columns):\n",
      " #   Column        Non-Null Count  Dtype  \n",
      "---  ------        --------------  -----  \n",
      " 0   letter_slant  221 non-null    float64\n",
      " 1   line_slant    221 non-null    float64\n",
      " 2   margin_slope  221 non-null    float64\n",
      " 3   letter_size   221 non-null    float64\n",
      " 4   word_spacing  221 non-null    float64\n",
      " 5   personality   221 non-null    object \n",
      "dtypes: float64(5), object(1)\n",
      "memory usage: 10.5+ KB\n"
     ]
    }
   ],
   "source": [
    "trainData.info()"
   ]
  },
  {
   "cell_type": "code",
   "execution_count": 45,
   "metadata": {},
   "outputs": [
    {
     "data": {
      "text/plain": [
       "letter_slant    0\n",
       "line_slant      0\n",
       "margin_slope    0\n",
       "letter_size     0\n",
       "word_spacing    0\n",
       "personality     0\n",
       "dtype: int64"
      ]
     },
     "execution_count": 45,
     "metadata": {},
     "output_type": "execute_result"
    }
   ],
   "source": [
    "trainData.isnull().sum()"
   ]
  },
  {
   "cell_type": "code",
   "execution_count": 46,
   "metadata": {},
   "outputs": [
    {
     "name": "stdout",
     "output_type": "stream",
     "text": [
      "<class 'pandas.core.frame.DataFrame'>\n",
      "RangeIndex: 221 entries, 0 to 220\n",
      "Data columns (total 6 columns):\n",
      " #   Column        Non-Null Count  Dtype  \n",
      "---  ------        --------------  -----  \n",
      " 0   letter_slant  221 non-null    float64\n",
      " 1   line_slant    221 non-null    float64\n",
      " 2   margin_slope  221 non-null    float64\n",
      " 3   letter_size   221 non-null    float64\n",
      " 4   word_spacing  221 non-null    float64\n",
      " 5   personality   221 non-null    object \n",
      "dtypes: float64(5), object(1)\n",
      "memory usage: 10.5+ KB\n"
     ]
    }
   ],
   "source": [
    "trainData = trainData.dropna(axis=0)\n",
    "trainData.info()"
   ]
  },
  {
   "cell_type": "code",
   "execution_count": 47,
   "metadata": {},
   "outputs": [],
   "source": [
    "y = trainData[data_cols[-1]]\n",
    "x = trainData.drop(data_cols[-1], axis=1)"
   ]
  },
  {
   "cell_type": "code",
   "execution_count": 48,
   "metadata": {},
   "outputs": [
    {
     "data": {
      "text/html": [
       "<div>\n",
       "<style scoped>\n",
       "    .dataframe tbody tr th:only-of-type {\n",
       "        vertical-align: middle;\n",
       "    }\n",
       "\n",
       "    .dataframe tbody tr th {\n",
       "        vertical-align: top;\n",
       "    }\n",
       "\n",
       "    .dataframe thead th {\n",
       "        text-align: right;\n",
       "    }\n",
       "</style>\n",
       "<table border=\"1\" class=\"dataframe\">\n",
       "  <thead>\n",
       "    <tr style=\"text-align: right;\">\n",
       "      <th></th>\n",
       "      <th>letter_slant</th>\n",
       "      <th>line_slant</th>\n",
       "      <th>margin_slope</th>\n",
       "      <th>letter_size</th>\n",
       "      <th>word_spacing</th>\n",
       "    </tr>\n",
       "  </thead>\n",
       "  <tbody>\n",
       "    <tr>\n",
       "      <th>0</th>\n",
       "      <td>2.0</td>\n",
       "      <td>-75.1</td>\n",
       "      <td>4.1</td>\n",
       "      <td>931.7</td>\n",
       "      <td>15.0</td>\n",
       "    </tr>\n",
       "    <tr>\n",
       "      <th>1</th>\n",
       "      <td>-11.0</td>\n",
       "      <td>9.6</td>\n",
       "      <td>15.3</td>\n",
       "      <td>486.2</td>\n",
       "      <td>22.0</td>\n",
       "    </tr>\n",
       "    <tr>\n",
       "      <th>2</th>\n",
       "      <td>18.0</td>\n",
       "      <td>-2.3</td>\n",
       "      <td>1.0</td>\n",
       "      <td>112.8</td>\n",
       "      <td>1.0</td>\n",
       "    </tr>\n",
       "    <tr>\n",
       "      <th>3</th>\n",
       "      <td>6.0</td>\n",
       "      <td>-4.0</td>\n",
       "      <td>-1.1</td>\n",
       "      <td>30.6</td>\n",
       "      <td>1.0</td>\n",
       "    </tr>\n",
       "    <tr>\n",
       "      <th>4</th>\n",
       "      <td>-6.0</td>\n",
       "      <td>0.0</td>\n",
       "      <td>2.2</td>\n",
       "      <td>152.9</td>\n",
       "      <td>9.0</td>\n",
       "    </tr>\n",
       "    <tr>\n",
       "      <th>...</th>\n",
       "      <td>...</td>\n",
       "      <td>...</td>\n",
       "      <td>...</td>\n",
       "      <td>...</td>\n",
       "      <td>...</td>\n",
       "    </tr>\n",
       "    <tr>\n",
       "      <th>216</th>\n",
       "      <td>11.0</td>\n",
       "      <td>-6.3</td>\n",
       "      <td>-6.2</td>\n",
       "      <td>190.4</td>\n",
       "      <td>9.0</td>\n",
       "    </tr>\n",
       "    <tr>\n",
       "      <th>217</th>\n",
       "      <td>5.0</td>\n",
       "      <td>-4.0</td>\n",
       "      <td>25.5</td>\n",
       "      <td>71.5</td>\n",
       "      <td>20.0</td>\n",
       "    </tr>\n",
       "    <tr>\n",
       "      <th>218</th>\n",
       "      <td>5.0</td>\n",
       "      <td>-1.1</td>\n",
       "      <td>-0.2</td>\n",
       "      <td>55.7</td>\n",
       "      <td>50.0</td>\n",
       "    </tr>\n",
       "    <tr>\n",
       "      <th>219</th>\n",
       "      <td>13.0</td>\n",
       "      <td>-5.9</td>\n",
       "      <td>-20.1</td>\n",
       "      <td>187.8</td>\n",
       "      <td>62.0</td>\n",
       "    </tr>\n",
       "    <tr>\n",
       "      <th>220</th>\n",
       "      <td>1.0</td>\n",
       "      <td>0.0</td>\n",
       "      <td>17.6</td>\n",
       "      <td>50.5</td>\n",
       "      <td>27.0</td>\n",
       "    </tr>\n",
       "  </tbody>\n",
       "</table>\n",
       "<p>221 rows × 5 columns</p>\n",
       "</div>"
      ],
      "text/plain": [
       "     letter_slant  line_slant  margin_slope  letter_size  word_spacing\n",
       "0             2.0       -75.1           4.1        931.7          15.0\n",
       "1           -11.0         9.6          15.3        486.2          22.0\n",
       "2            18.0        -2.3           1.0        112.8           1.0\n",
       "3             6.0        -4.0          -1.1         30.6           1.0\n",
       "4            -6.0         0.0           2.2        152.9           9.0\n",
       "..            ...         ...           ...          ...           ...\n",
       "216          11.0        -6.3          -6.2        190.4           9.0\n",
       "217           5.0        -4.0          25.5         71.5          20.0\n",
       "218           5.0        -1.1          -0.2         55.7          50.0\n",
       "219          13.0        -5.9         -20.1        187.8          62.0\n",
       "220           1.0         0.0          17.6         50.5          27.0\n",
       "\n",
       "[221 rows x 5 columns]"
      ]
     },
     "execution_count": 48,
     "metadata": {},
     "output_type": "execute_result"
    }
   ],
   "source": [
    "x"
   ]
  },
  {
   "cell_type": "code",
   "execution_count": 49,
   "metadata": {},
   "outputs": [
    {
     "data": {
      "text/plain": [
       "0      Agreeableness\n",
       "1      Agreeableness\n",
       "2      Agreeableness\n",
       "3      Agreeableness\n",
       "4      Agreeableness\n",
       "           ...      \n",
       "216         Openness\n",
       "217         Openness\n",
       "218         Openness\n",
       "219         Openness\n",
       "220         Openness\n",
       "Name: personality, Length: 221, dtype: object"
      ]
     },
     "execution_count": 49,
     "metadata": {},
     "output_type": "execute_result"
    }
   ],
   "source": [
    "y"
   ]
  },
  {
   "cell_type": "code",
   "execution_count": 50,
   "metadata": {},
   "outputs": [],
   "source": [
    "x_train, x_test, y_train, y_test = train_test_split(x, y, test_size=0.10)"
   ]
  },
  {
   "cell_type": "code",
   "execution_count": 51,
   "metadata": {},
   "outputs": [
    {
     "name": "stdout",
     "output_type": "stream",
     "text": [
      "Train: (198, 5)\n",
      "Test: (23, 5)\n"
     ]
    }
   ],
   "source": [
    "print(f\"Train: {x_train.shape}\")\n",
    "print(f\"Test: {x_test.shape}\")"
   ]
  },
  {
   "cell_type": "code",
   "execution_count": 52,
   "metadata": {},
   "outputs": [],
   "source": [
    "accuracies = []\n",
    "for i in range(1, x_train.shape[0] + 1):\n",
    "    knn = KNeighborsClassifier(n_neighbors=i)\n",
    "    knn.fit(x_train, y_train)\n",
    "    y_pred = knn.predict(x_test)\n",
    "    accuracies.append(accuracy_score(y_test, y_pred))"
   ]
  },
  {
   "cell_type": "code",
   "execution_count": 53,
   "metadata": {},
   "outputs": [
    {
     "data": {
      "text/plain": [
       "[0.30434782608695654,\n",
       " 0.30434782608695654,\n",
       " 0.34782608695652173,\n",
       " 0.34782608695652173,\n",
       " 0.43478260869565216,\n",
       " 0.5217391304347826,\n",
       " 0.5217391304347826,\n",
       " 0.6086956521739131,\n",
       " 0.5217391304347826,\n",
       " 0.4782608695652174,\n",
       " 0.391304347826087,\n",
       " 0.4782608695652174,\n",
       " 0.5217391304347826,\n",
       " 0.30434782608695654,\n",
       " 0.34782608695652173,\n",
       " 0.391304347826087,\n",
       " 0.391304347826087,\n",
       " 0.391304347826087,\n",
       " 0.391304347826087,\n",
       " 0.34782608695652173,\n",
       " 0.34782608695652173,\n",
       " 0.391304347826087,\n",
       " 0.43478260869565216,\n",
       " 0.43478260869565216,\n",
       " 0.43478260869565216,\n",
       " 0.43478260869565216,\n",
       " 0.43478260869565216,\n",
       " 0.43478260869565216,\n",
       " 0.391304347826087,\n",
       " 0.391304347826087,\n",
       " 0.43478260869565216,\n",
       " 0.43478260869565216,\n",
       " 0.391304347826087,\n",
       " 0.391304347826087,\n",
       " 0.391304347826087,\n",
       " 0.391304347826087,\n",
       " 0.391304347826087,\n",
       " 0.391304347826087,\n",
       " 0.391304347826087,\n",
       " 0.391304347826087,\n",
       " 0.391304347826087,\n",
       " 0.391304347826087,\n",
       " 0.391304347826087,\n",
       " 0.391304347826087,\n",
       " 0.391304347826087,\n",
       " 0.391304347826087,\n",
       " 0.391304347826087,\n",
       " 0.391304347826087,\n",
       " 0.391304347826087,\n",
       " 0.391304347826087,\n",
       " 0.391304347826087,\n",
       " 0.391304347826087,\n",
       " 0.391304347826087,\n",
       " 0.391304347826087,\n",
       " 0.391304347826087,\n",
       " 0.391304347826087,\n",
       " 0.391304347826087,\n",
       " 0.391304347826087,\n",
       " 0.391304347826087,\n",
       " 0.391304347826087,\n",
       " 0.391304347826087,\n",
       " 0.391304347826087,\n",
       " 0.391304347826087,\n",
       " 0.391304347826087,\n",
       " 0.391304347826087,\n",
       " 0.391304347826087,\n",
       " 0.391304347826087,\n",
       " 0.391304347826087,\n",
       " 0.391304347826087,\n",
       " 0.391304347826087,\n",
       " 0.391304347826087,\n",
       " 0.391304347826087,\n",
       " 0.391304347826087,\n",
       " 0.391304347826087,\n",
       " 0.391304347826087,\n",
       " 0.391304347826087,\n",
       " 0.391304347826087,\n",
       " 0.391304347826087,\n",
       " 0.391304347826087,\n",
       " 0.391304347826087,\n",
       " 0.391304347826087,\n",
       " 0.391304347826087,\n",
       " 0.391304347826087,\n",
       " 0.391304347826087,\n",
       " 0.391304347826087,\n",
       " 0.391304347826087,\n",
       " 0.391304347826087,\n",
       " 0.391304347826087,\n",
       " 0.391304347826087,\n",
       " 0.391304347826087,\n",
       " 0.391304347826087,\n",
       " 0.391304347826087,\n",
       " 0.391304347826087,\n",
       " 0.391304347826087,\n",
       " 0.391304347826087,\n",
       " 0.391304347826087,\n",
       " 0.391304347826087,\n",
       " 0.391304347826087,\n",
       " 0.391304347826087,\n",
       " 0.391304347826087,\n",
       " 0.391304347826087,\n",
       " 0.391304347826087,\n",
       " 0.391304347826087,\n",
       " 0.391304347826087,\n",
       " 0.391304347826087,\n",
       " 0.391304347826087,\n",
       " 0.391304347826087,\n",
       " 0.391304347826087,\n",
       " 0.391304347826087,\n",
       " 0.391304347826087,\n",
       " 0.391304347826087,\n",
       " 0.391304347826087,\n",
       " 0.391304347826087,\n",
       " 0.391304347826087,\n",
       " 0.391304347826087,\n",
       " 0.391304347826087,\n",
       " 0.391304347826087,\n",
       " 0.391304347826087,\n",
       " 0.391304347826087,\n",
       " 0.391304347826087,\n",
       " 0.391304347826087,\n",
       " 0.391304347826087,\n",
       " 0.391304347826087,\n",
       " 0.391304347826087,\n",
       " 0.391304347826087,\n",
       " 0.391304347826087,\n",
       " 0.391304347826087,\n",
       " 0.391304347826087,\n",
       " 0.391304347826087,\n",
       " 0.391304347826087,\n",
       " 0.391304347826087,\n",
       " 0.391304347826087,\n",
       " 0.391304347826087,\n",
       " 0.391304347826087,\n",
       " 0.391304347826087,\n",
       " 0.391304347826087,\n",
       " 0.391304347826087,\n",
       " 0.391304347826087,\n",
       " 0.391304347826087,\n",
       " 0.391304347826087,\n",
       " 0.391304347826087,\n",
       " 0.391304347826087,\n",
       " 0.391304347826087,\n",
       " 0.391304347826087,\n",
       " 0.391304347826087,\n",
       " 0.391304347826087,\n",
       " 0.391304347826087,\n",
       " 0.391304347826087,\n",
       " 0.391304347826087,\n",
       " 0.391304347826087,\n",
       " 0.391304347826087,\n",
       " 0.391304347826087,\n",
       " 0.391304347826087,\n",
       " 0.391304347826087,\n",
       " 0.391304347826087,\n",
       " 0.391304347826087,\n",
       " 0.391304347826087,\n",
       " 0.391304347826087,\n",
       " 0.391304347826087,\n",
       " 0.391304347826087,\n",
       " 0.391304347826087,\n",
       " 0.391304347826087,\n",
       " 0.391304347826087,\n",
       " 0.391304347826087,\n",
       " 0.391304347826087,\n",
       " 0.391304347826087,\n",
       " 0.391304347826087,\n",
       " 0.391304347826087,\n",
       " 0.391304347826087,\n",
       " 0.391304347826087,\n",
       " 0.391304347826087,\n",
       " 0.391304347826087,\n",
       " 0.391304347826087,\n",
       " 0.391304347826087,\n",
       " 0.391304347826087,\n",
       " 0.391304347826087,\n",
       " 0.391304347826087,\n",
       " 0.391304347826087,\n",
       " 0.391304347826087,\n",
       " 0.391304347826087,\n",
       " 0.391304347826087,\n",
       " 0.391304347826087,\n",
       " 0.391304347826087,\n",
       " 0.391304347826087,\n",
       " 0.391304347826087,\n",
       " 0.391304347826087,\n",
       " 0.391304347826087,\n",
       " 0.391304347826087,\n",
       " 0.391304347826087,\n",
       " 0.391304347826087,\n",
       " 0.391304347826087,\n",
       " 0.391304347826087,\n",
       " 0.391304347826087,\n",
       " 0.391304347826087,\n",
       " 0.391304347826087,\n",
       " 0.391304347826087,\n",
       " 0.391304347826087,\n",
       " 0.391304347826087]"
      ]
     },
     "execution_count": 53,
     "metadata": {},
     "output_type": "execute_result"
    }
   ],
   "source": [
    "accuracies"
   ]
  },
  {
   "cell_type": "code",
   "execution_count": 54,
   "metadata": {},
   "outputs": [
    {
     "data": {
      "text/plain": [
       "0.6086956521739131"
      ]
     },
     "execution_count": 54,
     "metadata": {},
     "output_type": "execute_result"
    }
   ],
   "source": [
    "max_accuracy = max(accuracies)\n",
    "max_accuracy"
   ]
  },
  {
   "cell_type": "code",
   "execution_count": 55,
   "metadata": {},
   "outputs": [],
   "source": [
    "max_index = accuracies.index(max_accuracy)"
   ]
  },
  {
   "cell_type": "code",
   "execution_count": 56,
   "metadata": {},
   "outputs": [
    {
     "data": {
      "text/html": [
       "<style>#sk-container-id-3 {color: black;background-color: white;}#sk-container-id-3 pre{padding: 0;}#sk-container-id-3 div.sk-toggleable {background-color: white;}#sk-container-id-3 label.sk-toggleable__label {cursor: pointer;display: block;width: 100%;margin-bottom: 0;padding: 0.3em;box-sizing: border-box;text-align: center;}#sk-container-id-3 label.sk-toggleable__label-arrow:before {content: \"▸\";float: left;margin-right: 0.25em;color: #696969;}#sk-container-id-3 label.sk-toggleable__label-arrow:hover:before {color: black;}#sk-container-id-3 div.sk-estimator:hover label.sk-toggleable__label-arrow:before {color: black;}#sk-container-id-3 div.sk-toggleable__content {max-height: 0;max-width: 0;overflow: hidden;text-align: left;background-color: #f0f8ff;}#sk-container-id-3 div.sk-toggleable__content pre {margin: 0.2em;color: black;border-radius: 0.25em;background-color: #f0f8ff;}#sk-container-id-3 input.sk-toggleable__control:checked~div.sk-toggleable__content {max-height: 200px;max-width: 100%;overflow: auto;}#sk-container-id-3 input.sk-toggleable__control:checked~label.sk-toggleable__label-arrow:before {content: \"▾\";}#sk-container-id-3 div.sk-estimator input.sk-toggleable__control:checked~label.sk-toggleable__label {background-color: #d4ebff;}#sk-container-id-3 div.sk-label input.sk-toggleable__control:checked~label.sk-toggleable__label {background-color: #d4ebff;}#sk-container-id-3 input.sk-hidden--visually {border: 0;clip: rect(1px 1px 1px 1px);clip: rect(1px, 1px, 1px, 1px);height: 1px;margin: -1px;overflow: hidden;padding: 0;position: absolute;width: 1px;}#sk-container-id-3 div.sk-estimator {font-family: monospace;background-color: #f0f8ff;border: 1px dotted black;border-radius: 0.25em;box-sizing: border-box;margin-bottom: 0.5em;}#sk-container-id-3 div.sk-estimator:hover {background-color: #d4ebff;}#sk-container-id-3 div.sk-parallel-item::after {content: \"\";width: 100%;border-bottom: 1px solid gray;flex-grow: 1;}#sk-container-id-3 div.sk-label:hover label.sk-toggleable__label {background-color: #d4ebff;}#sk-container-id-3 div.sk-serial::before {content: \"\";position: absolute;border-left: 1px solid gray;box-sizing: border-box;top: 0;bottom: 0;left: 50%;z-index: 0;}#sk-container-id-3 div.sk-serial {display: flex;flex-direction: column;align-items: center;background-color: white;padding-right: 0.2em;padding-left: 0.2em;position: relative;}#sk-container-id-3 div.sk-item {position: relative;z-index: 1;}#sk-container-id-3 div.sk-parallel {display: flex;align-items: stretch;justify-content: center;background-color: white;position: relative;}#sk-container-id-3 div.sk-item::before, #sk-container-id-3 div.sk-parallel-item::before {content: \"\";position: absolute;border-left: 1px solid gray;box-sizing: border-box;top: 0;bottom: 0;left: 50%;z-index: -1;}#sk-container-id-3 div.sk-parallel-item {display: flex;flex-direction: column;z-index: 1;position: relative;background-color: white;}#sk-container-id-3 div.sk-parallel-item:first-child::after {align-self: flex-end;width: 50%;}#sk-container-id-3 div.sk-parallel-item:last-child::after {align-self: flex-start;width: 50%;}#sk-container-id-3 div.sk-parallel-item:only-child::after {width: 0;}#sk-container-id-3 div.sk-dashed-wrapped {border: 1px dashed gray;margin: 0 0.4em 0.5em 0.4em;box-sizing: border-box;padding-bottom: 0.4em;background-color: white;}#sk-container-id-3 div.sk-label label {font-family: monospace;font-weight: bold;display: inline-block;line-height: 1.2em;}#sk-container-id-3 div.sk-label-container {text-align: center;}#sk-container-id-3 div.sk-container {/* jupyter's `normalize.less` sets `[hidden] { display: none; }` but bootstrap.min.css set `[hidden] { display: none !important; }` so we also need the `!important` here to be able to override the default hidden behavior on the sphinx rendered scikit-learn.org. See: https://github.com/scikit-learn/scikit-learn/issues/21755 */display: inline-block !important;position: relative;}#sk-container-id-3 div.sk-text-repr-fallback {display: none;}</style><div id=\"sk-container-id-3\" class=\"sk-top-container\"><div class=\"sk-text-repr-fallback\"><pre>KNeighborsClassifier(n_neighbors=8)</pre><b>In a Jupyter environment, please rerun this cell to show the HTML representation or trust the notebook. <br />On GitHub, the HTML representation is unable to render, please try loading this page with nbviewer.org.</b></div><div class=\"sk-container\" hidden><div class=\"sk-item\"><div class=\"sk-estimator sk-toggleable\"><input class=\"sk-toggleable__control sk-hidden--visually\" id=\"sk-estimator-id-3\" type=\"checkbox\" checked><label for=\"sk-estimator-id-3\" class=\"sk-toggleable__label sk-toggleable__label-arrow\">KNeighborsClassifier</label><div class=\"sk-toggleable__content\"><pre>KNeighborsClassifier(n_neighbors=8)</pre></div></div></div></div></div>"
      ],
      "text/plain": [
       "KNeighborsClassifier(n_neighbors=8)"
      ]
     },
     "execution_count": 56,
     "metadata": {},
     "output_type": "execute_result"
    }
   ],
   "source": [
    "# k = int(input(\"Enter number of neighbours: \"))\n",
    "knn = KNeighborsClassifier(n_neighbors=max_index+1)\n",
    "knn.fit(x_train, y_train)"
   ]
  },
  {
   "cell_type": "code",
   "execution_count": 57,
   "metadata": {},
   "outputs": [
    {
     "data": {
      "text/plain": [
       "array(['Openness', 'Openness', 'Openness', 'Conscientiousness',\n",
       "       'Openness', 'Openness', 'Openness', 'Agreeableness', 'Openness',\n",
       "       'Openness', 'Agreeableness', 'Openness', 'Openness', 'Openness',\n",
       "       'Openness', 'Neuroticism', 'Neuroticism', 'Openness', 'Openness',\n",
       "       'Openness', 'Openness', 'Agreeableness', 'Conscientiousness'],\n",
       "      dtype=object)"
      ]
     },
     "execution_count": 57,
     "metadata": {},
     "output_type": "execute_result"
    }
   ],
   "source": [
    "y_pred = knn.predict(x_test)\n",
    "y_pred"
   ]
  },
  {
   "cell_type": "code",
   "execution_count": 58,
   "metadata": {},
   "outputs": [
    {
     "data": {
      "text/plain": [
       "0.6086956521739131"
      ]
     },
     "execution_count": 58,
     "metadata": {},
     "output_type": "execute_result"
    }
   ],
   "source": [
    "accuracy = accuracy_score(y_test, y_pred)\n",
    "accuracy"
   ]
  },
  {
   "cell_type": "code",
   "execution_count": 59,
   "metadata": {},
   "outputs": [
    {
     "name": "stdout",
     "output_type": "stream",
     "text": [
      "Saved model size: 0.005 MB\n"
     ]
    }
   ],
   "source": [
    "import joblib\n",
    "import os\n",
    "joblib.dump(knn, \"./saved_models/knn1.joblib\", compress=3)\n",
    "print(f\"Saved model size: {np.round(os.path.getsize('./saved_models/knn1.joblib') / 1024 / 1024, 3) } MB\")"
   ]
  },
  {
   "cell_type": "code",
   "execution_count": 60,
   "metadata": {},
   "outputs": [
    {
     "data": {
      "text/plain": [
       "0.6086956521739131"
      ]
     },
     "execution_count": 60,
     "metadata": {},
     "output_type": "execute_result"
    }
   ],
   "source": [
    "loaded_knn = joblib.load(\"./saved_models/knn1.joblib\")\n",
    "loaded_predict = loaded_knn.predict(x_test)\n",
    "accuracy_score(y_test, loaded_predict)"
   ]
  }
 ],
 "metadata": {
  "kernelspec": {
   "display_name": "Python 3.9.10 ('venv': venv)",
   "language": "python",
   "name": "python3"
  },
  "language_info": {
   "codemirror_mode": {
    "name": "ipython",
    "version": 3
   },
   "file_extension": ".py",
   "mimetype": "text/x-python",
   "name": "python",
   "nbconvert_exporter": "python",
   "pygments_lexer": "ipython3",
   "version": "3.10.6"
  },
  "orig_nbformat": 4,
  "vscode": {
   "interpreter": {
    "hash": "5794f32bc3fd030b4be08307c2472b272d703b5ecbda5eb84f6d8098e90e68d3"
   }
  }
 },
 "nbformat": 4,
 "nbformat_minor": 2
}
