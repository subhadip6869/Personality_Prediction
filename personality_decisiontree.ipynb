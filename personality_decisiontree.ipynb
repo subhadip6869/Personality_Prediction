{
 "cells": [
  {
   "cell_type": "code",
   "execution_count": 1,
   "metadata": {
    "ExecuteTime": {
     "end_time": "2023-04-25T16:46:05.076619Z",
     "start_time": "2023-04-25T16:46:01.821867Z"
    }
   },
   "outputs": [],
   "source": [
    "from sklearn import tree\n",
    "from sklearn.tree import DecisionTreeClassifier\n",
    "import matplotlib.pyplot as plt\n",
    "import pandas as pd\n",
    "import sys"
   ]
  },
  {
   "cell_type": "code",
   "execution_count": 2,
   "metadata": {
    "ExecuteTime": {
     "end_time": "2023-04-25T16:46:09.076845Z",
     "start_time": "2023-04-25T16:46:09.040697Z"
    }
   },
   "outputs": [],
   "source": [
    "df_train = pd.read_csv(\"./dataset/train_features.csv\")\n",
    "df_test = pd.read_csv(\"./dataset/test_features.csv\")"
   ]
  },
  {
   "cell_type": "code",
   "execution_count": 3,
   "metadata": {
    "ExecuteTime": {
     "end_time": "2023-04-25T16:46:13.944225Z",
     "start_time": "2023-04-25T16:46:13.917319Z"
    }
   },
   "outputs": [
    {
     "data": {
      "text/html": [
       "<div>\n",
       "<style scoped>\n",
       "    .dataframe tbody tr th:only-of-type {\n",
       "        vertical-align: middle;\n",
       "    }\n",
       "\n",
       "    .dataframe tbody tr th {\n",
       "        vertical-align: top;\n",
       "    }\n",
       "\n",
       "    .dataframe thead th {\n",
       "        text-align: right;\n",
       "    }\n",
       "</style>\n",
       "<table border=\"1\" class=\"dataframe\">\n",
       "  <thead>\n",
       "    <tr style=\"text-align: right;\">\n",
       "      <th></th>\n",
       "      <th>letter_slant</th>\n",
       "      <th>line_slant</th>\n",
       "      <th>letter_size</th>\n",
       "      <th>word_spacing</th>\n",
       "      <th>personality</th>\n",
       "    </tr>\n",
       "  </thead>\n",
       "  <tbody>\n",
       "    <tr>\n",
       "      <th>0</th>\n",
       "      <td>2.0</td>\n",
       "      <td>-75.1</td>\n",
       "      <td>931.7</td>\n",
       "      <td>15.0</td>\n",
       "      <td>Agreeableness</td>\n",
       "    </tr>\n",
       "    <tr>\n",
       "      <th>1</th>\n",
       "      <td>-11.0</td>\n",
       "      <td>9.6</td>\n",
       "      <td>486.2</td>\n",
       "      <td>22.0</td>\n",
       "      <td>Agreeableness</td>\n",
       "    </tr>\n",
       "    <tr>\n",
       "      <th>2</th>\n",
       "      <td>18.0</td>\n",
       "      <td>-2.3</td>\n",
       "      <td>112.8</td>\n",
       "      <td>1.0</td>\n",
       "      <td>Agreeableness</td>\n",
       "    </tr>\n",
       "    <tr>\n",
       "      <th>3</th>\n",
       "      <td>6.0</td>\n",
       "      <td>-4.0</td>\n",
       "      <td>30.6</td>\n",
       "      <td>1.0</td>\n",
       "      <td>Agreeableness</td>\n",
       "    </tr>\n",
       "    <tr>\n",
       "      <th>4</th>\n",
       "      <td>-6.0</td>\n",
       "      <td>0.0</td>\n",
       "      <td>152.9</td>\n",
       "      <td>9.0</td>\n",
       "      <td>Agreeableness</td>\n",
       "    </tr>\n",
       "    <tr>\n",
       "      <th>...</th>\n",
       "      <td>...</td>\n",
       "      <td>...</td>\n",
       "      <td>...</td>\n",
       "      <td>...</td>\n",
       "      <td>...</td>\n",
       "    </tr>\n",
       "    <tr>\n",
       "      <th>172</th>\n",
       "      <td>11.0</td>\n",
       "      <td>-86.2</td>\n",
       "      <td>488.9</td>\n",
       "      <td>10.0</td>\n",
       "      <td>Openness</td>\n",
       "    </tr>\n",
       "    <tr>\n",
       "      <th>173</th>\n",
       "      <td>6.0</td>\n",
       "      <td>0.0</td>\n",
       "      <td>74.0</td>\n",
       "      <td>20.5</td>\n",
       "      <td>Openness</td>\n",
       "    </tr>\n",
       "    <tr>\n",
       "      <th>174</th>\n",
       "      <td>9.0</td>\n",
       "      <td>-11.0</td>\n",
       "      <td>808.8</td>\n",
       "      <td>25.0</td>\n",
       "      <td>Openness</td>\n",
       "    </tr>\n",
       "    <tr>\n",
       "      <th>175</th>\n",
       "      <td>8.0</td>\n",
       "      <td>-4.8</td>\n",
       "      <td>364.3</td>\n",
       "      <td>12.0</td>\n",
       "      <td>Openness</td>\n",
       "    </tr>\n",
       "    <tr>\n",
       "      <th>176</th>\n",
       "      <td>-8.0</td>\n",
       "      <td>6.9</td>\n",
       "      <td>309.4</td>\n",
       "      <td>7.0</td>\n",
       "      <td>Openness</td>\n",
       "    </tr>\n",
       "  </tbody>\n",
       "</table>\n",
       "<p>177 rows × 5 columns</p>\n",
       "</div>"
      ],
      "text/plain": [
       "     letter_slant  line_slant  letter_size  word_spacing    personality\n",
       "0             2.0       -75.1        931.7          15.0  Agreeableness\n",
       "1           -11.0         9.6        486.2          22.0  Agreeableness\n",
       "2            18.0        -2.3        112.8           1.0  Agreeableness\n",
       "3             6.0        -4.0         30.6           1.0  Agreeableness\n",
       "4            -6.0         0.0        152.9           9.0  Agreeableness\n",
       "..            ...         ...          ...           ...            ...\n",
       "172          11.0       -86.2        488.9          10.0       Openness\n",
       "173           6.0         0.0         74.0          20.5       Openness\n",
       "174           9.0       -11.0        808.8          25.0       Openness\n",
       "175           8.0        -4.8        364.3          12.0       Openness\n",
       "176          -8.0         6.9        309.4           7.0       Openness\n",
       "\n",
       "[177 rows x 5 columns]"
      ]
     },
     "execution_count": 3,
     "metadata": {},
     "output_type": "execute_result"
    }
   ],
   "source": [
    "df_train"
   ]
  },
  {
   "cell_type": "code",
   "execution_count": 4,
   "metadata": {
    "ExecuteTime": {
     "end_time": "2023-04-25T16:46:17.646492Z",
     "start_time": "2023-04-25T16:46:17.621302Z"
    }
   },
   "outputs": [
    {
     "data": {
      "text/html": [
       "<div>\n",
       "<style scoped>\n",
       "    .dataframe tbody tr th:only-of-type {\n",
       "        vertical-align: middle;\n",
       "    }\n",
       "\n",
       "    .dataframe tbody tr th {\n",
       "        vertical-align: top;\n",
       "    }\n",
       "\n",
       "    .dataframe thead th {\n",
       "        text-align: right;\n",
       "    }\n",
       "</style>\n",
       "<table border=\"1\" class=\"dataframe\">\n",
       "  <thead>\n",
       "    <tr style=\"text-align: right;\">\n",
       "      <th></th>\n",
       "      <th>letter_slant</th>\n",
       "      <th>line_slant</th>\n",
       "      <th>letter_size</th>\n",
       "      <th>word_spacing</th>\n",
       "      <th>personality</th>\n",
       "    </tr>\n",
       "  </thead>\n",
       "  <tbody>\n",
       "    <tr>\n",
       "      <th>0</th>\n",
       "      <td>0.0</td>\n",
       "      <td>1.0</td>\n",
       "      <td>421.2</td>\n",
       "      <td>14.0</td>\n",
       "      <td>Agreeableness</td>\n",
       "    </tr>\n",
       "    <tr>\n",
       "      <th>1</th>\n",
       "      <td>-3.0</td>\n",
       "      <td>1.8</td>\n",
       "      <td>94.8</td>\n",
       "      <td>22.0</td>\n",
       "      <td>Agreeableness</td>\n",
       "    </tr>\n",
       "    <tr>\n",
       "      <th>2</th>\n",
       "      <td>10.0</td>\n",
       "      <td>-1.9</td>\n",
       "      <td>1397.6</td>\n",
       "      <td>39.0</td>\n",
       "      <td>Agreeableness</td>\n",
       "    </tr>\n",
       "    <tr>\n",
       "      <th>3</th>\n",
       "      <td>0.0</td>\n",
       "      <td>2.8</td>\n",
       "      <td>84.2</td>\n",
       "      <td>71.0</td>\n",
       "      <td>Agreeableness</td>\n",
       "    </tr>\n",
       "    <tr>\n",
       "      <th>4</th>\n",
       "      <td>-2.0</td>\n",
       "      <td>-87.0</td>\n",
       "      <td>763.3</td>\n",
       "      <td>18.0</td>\n",
       "      <td>Agreeableness</td>\n",
       "    </tr>\n",
       "    <tr>\n",
       "      <th>5</th>\n",
       "      <td>2.0</td>\n",
       "      <td>0.0</td>\n",
       "      <td>93.7</td>\n",
       "      <td>46.5</td>\n",
       "      <td>Agreeableness</td>\n",
       "    </tr>\n",
       "    <tr>\n",
       "      <th>6</th>\n",
       "      <td>-4.0</td>\n",
       "      <td>3.1</td>\n",
       "      <td>466.8</td>\n",
       "      <td>45.0</td>\n",
       "      <td>Agreeableness</td>\n",
       "    </tr>\n",
       "    <tr>\n",
       "      <th>7</th>\n",
       "      <td>4.0</td>\n",
       "      <td>-3.0</td>\n",
       "      <td>121.8</td>\n",
       "      <td>43.0</td>\n",
       "      <td>Agreeableness</td>\n",
       "    </tr>\n",
       "    <tr>\n",
       "      <th>8</th>\n",
       "      <td>9.0</td>\n",
       "      <td>-1.9</td>\n",
       "      <td>2373.9</td>\n",
       "      <td>50.5</td>\n",
       "      <td>Conscientiousness</td>\n",
       "    </tr>\n",
       "    <tr>\n",
       "      <th>9</th>\n",
       "      <td>-10.0</td>\n",
       "      <td>2.1</td>\n",
       "      <td>1322.6</td>\n",
       "      <td>31.0</td>\n",
       "      <td>Conscientiousness</td>\n",
       "    </tr>\n",
       "    <tr>\n",
       "      <th>10</th>\n",
       "      <td>12.0</td>\n",
       "      <td>-11.9</td>\n",
       "      <td>259.7</td>\n",
       "      <td>14.0</td>\n",
       "      <td>Conscientiousness</td>\n",
       "    </tr>\n",
       "    <tr>\n",
       "      <th>11</th>\n",
       "      <td>8.0</td>\n",
       "      <td>-2.3</td>\n",
       "      <td>627.5</td>\n",
       "      <td>33.0</td>\n",
       "      <td>Conscientiousness</td>\n",
       "    </tr>\n",
       "    <tr>\n",
       "      <th>12</th>\n",
       "      <td>6.0</td>\n",
       "      <td>-1.9</td>\n",
       "      <td>77.8</td>\n",
       "      <td>42.0</td>\n",
       "      <td>Conscientiousness</td>\n",
       "    </tr>\n",
       "    <tr>\n",
       "      <th>13</th>\n",
       "      <td>4.0</td>\n",
       "      <td>-2.9</td>\n",
       "      <td>84.6</td>\n",
       "      <td>25.0</td>\n",
       "      <td>Conscientiousness</td>\n",
       "    </tr>\n",
       "    <tr>\n",
       "      <th>14</th>\n",
       "      <td>-4.0</td>\n",
       "      <td>3.8</td>\n",
       "      <td>107.0</td>\n",
       "      <td>60.0</td>\n",
       "      <td>Conscientiousness</td>\n",
       "    </tr>\n",
       "    <tr>\n",
       "      <th>15</th>\n",
       "      <td>-5.0</td>\n",
       "      <td>1.1</td>\n",
       "      <td>79.9</td>\n",
       "      <td>55.0</td>\n",
       "      <td>Conscientiousness</td>\n",
       "    </tr>\n",
       "    <tr>\n",
       "      <th>16</th>\n",
       "      <td>12.0</td>\n",
       "      <td>-0.9</td>\n",
       "      <td>336.1</td>\n",
       "      <td>10.0</td>\n",
       "      <td>Extraversion</td>\n",
       "    </tr>\n",
       "    <tr>\n",
       "      <th>17</th>\n",
       "      <td>-6.0</td>\n",
       "      <td>2.7</td>\n",
       "      <td>174.9</td>\n",
       "      <td>43.0</td>\n",
       "      <td>Extraversion</td>\n",
       "    </tr>\n",
       "    <tr>\n",
       "      <th>18</th>\n",
       "      <td>-8.0</td>\n",
       "      <td>-83.3</td>\n",
       "      <td>682.9</td>\n",
       "      <td>22.0</td>\n",
       "      <td>Neuroticism</td>\n",
       "    </tr>\n",
       "    <tr>\n",
       "      <th>19</th>\n",
       "      <td>1.0</td>\n",
       "      <td>-0.8</td>\n",
       "      <td>368.3</td>\n",
       "      <td>12.0</td>\n",
       "      <td>Neuroticism</td>\n",
       "    </tr>\n",
       "    <tr>\n",
       "      <th>20</th>\n",
       "      <td>12.0</td>\n",
       "      <td>-6.8</td>\n",
       "      <td>658.5</td>\n",
       "      <td>31.0</td>\n",
       "      <td>Neuroticism</td>\n",
       "    </tr>\n",
       "    <tr>\n",
       "      <th>21</th>\n",
       "      <td>-5.0</td>\n",
       "      <td>4.1</td>\n",
       "      <td>375.7</td>\n",
       "      <td>9.0</td>\n",
       "      <td>Neuroticism</td>\n",
       "    </tr>\n",
       "    <tr>\n",
       "      <th>22</th>\n",
       "      <td>-3.0</td>\n",
       "      <td>1.9</td>\n",
       "      <td>72.7</td>\n",
       "      <td>26.5</td>\n",
       "      <td>Neuroticism</td>\n",
       "    </tr>\n",
       "    <tr>\n",
       "      <th>23</th>\n",
       "      <td>5.0</td>\n",
       "      <td>-2.2</td>\n",
       "      <td>77.8</td>\n",
       "      <td>80.0</td>\n",
       "      <td>Neuroticism</td>\n",
       "    </tr>\n",
       "    <tr>\n",
       "      <th>24</th>\n",
       "      <td>2.0</td>\n",
       "      <td>1.1</td>\n",
       "      <td>92.8</td>\n",
       "      <td>53.0</td>\n",
       "      <td>Neuroticism</td>\n",
       "    </tr>\n",
       "    <tr>\n",
       "      <th>25</th>\n",
       "      <td>4.0</td>\n",
       "      <td>-4.1</td>\n",
       "      <td>104.1</td>\n",
       "      <td>61.5</td>\n",
       "      <td>Neuroticism</td>\n",
       "    </tr>\n",
       "    <tr>\n",
       "      <th>26</th>\n",
       "      <td>-8.0</td>\n",
       "      <td>4.2</td>\n",
       "      <td>182.3</td>\n",
       "      <td>27.0</td>\n",
       "      <td>Openness</td>\n",
       "    </tr>\n",
       "    <tr>\n",
       "      <th>27</th>\n",
       "      <td>5.0</td>\n",
       "      <td>-1.1</td>\n",
       "      <td>141.9</td>\n",
       "      <td>17.0</td>\n",
       "      <td>Openness</td>\n",
       "    </tr>\n",
       "    <tr>\n",
       "      <th>28</th>\n",
       "      <td>-1.0</td>\n",
       "      <td>-1.1</td>\n",
       "      <td>278.9</td>\n",
       "      <td>47.0</td>\n",
       "      <td>Openness</td>\n",
       "    </tr>\n",
       "    <tr>\n",
       "      <th>29</th>\n",
       "      <td>-7.0</td>\n",
       "      <td>2.2</td>\n",
       "      <td>198.4</td>\n",
       "      <td>45.5</td>\n",
       "      <td>Openness</td>\n",
       "    </tr>\n",
       "    <tr>\n",
       "      <th>30</th>\n",
       "      <td>9.0</td>\n",
       "      <td>-2.0</td>\n",
       "      <td>362.2</td>\n",
       "      <td>16.0</td>\n",
       "      <td>Openness</td>\n",
       "    </tr>\n",
       "    <tr>\n",
       "      <th>31</th>\n",
       "      <td>13.0</td>\n",
       "      <td>0.0</td>\n",
       "      <td>1547.2</td>\n",
       "      <td>32.0</td>\n",
       "      <td>Openness</td>\n",
       "    </tr>\n",
       "    <tr>\n",
       "      <th>32</th>\n",
       "      <td>-5.0</td>\n",
       "      <td>1.0</td>\n",
       "      <td>533.9</td>\n",
       "      <td>22.0</td>\n",
       "      <td>Openness</td>\n",
       "    </tr>\n",
       "    <tr>\n",
       "      <th>33</th>\n",
       "      <td>-10.0</td>\n",
       "      <td>0.0</td>\n",
       "      <td>74.3</td>\n",
       "      <td>33.0</td>\n",
       "      <td>Openness</td>\n",
       "    </tr>\n",
       "    <tr>\n",
       "      <th>34</th>\n",
       "      <td>-10.0</td>\n",
       "      <td>0.0</td>\n",
       "      <td>245.4</td>\n",
       "      <td>11.0</td>\n",
       "      <td>Openness</td>\n",
       "    </tr>\n",
       "    <tr>\n",
       "      <th>35</th>\n",
       "      <td>9.0</td>\n",
       "      <td>0.0</td>\n",
       "      <td>434.0</td>\n",
       "      <td>12.0</td>\n",
       "      <td>Openness</td>\n",
       "    </tr>\n",
       "    <tr>\n",
       "      <th>36</th>\n",
       "      <td>-16.0</td>\n",
       "      <td>13.8</td>\n",
       "      <td>557.8</td>\n",
       "      <td>19.0</td>\n",
       "      <td>Openness</td>\n",
       "    </tr>\n",
       "    <tr>\n",
       "      <th>37</th>\n",
       "      <td>10.0</td>\n",
       "      <td>0.9</td>\n",
       "      <td>281.7</td>\n",
       "      <td>27.0</td>\n",
       "      <td>Openness</td>\n",
       "    </tr>\n",
       "    <tr>\n",
       "      <th>38</th>\n",
       "      <td>-4.0</td>\n",
       "      <td>6.2</td>\n",
       "      <td>488.1</td>\n",
       "      <td>31.5</td>\n",
       "      <td>Openness</td>\n",
       "    </tr>\n",
       "    <tr>\n",
       "      <th>39</th>\n",
       "      <td>11.0</td>\n",
       "      <td>-6.3</td>\n",
       "      <td>190.4</td>\n",
       "      <td>9.0</td>\n",
       "      <td>Openness</td>\n",
       "    </tr>\n",
       "    <tr>\n",
       "      <th>40</th>\n",
       "      <td>5.0</td>\n",
       "      <td>-4.0</td>\n",
       "      <td>71.5</td>\n",
       "      <td>20.0</td>\n",
       "      <td>Openness</td>\n",
       "    </tr>\n",
       "    <tr>\n",
       "      <th>41</th>\n",
       "      <td>5.0</td>\n",
       "      <td>-1.1</td>\n",
       "      <td>55.7</td>\n",
       "      <td>50.0</td>\n",
       "      <td>Openness</td>\n",
       "    </tr>\n",
       "    <tr>\n",
       "      <th>42</th>\n",
       "      <td>13.0</td>\n",
       "      <td>-5.9</td>\n",
       "      <td>187.8</td>\n",
       "      <td>62.0</td>\n",
       "      <td>Openness</td>\n",
       "    </tr>\n",
       "    <tr>\n",
       "      <th>43</th>\n",
       "      <td>1.0</td>\n",
       "      <td>0.0</td>\n",
       "      <td>50.5</td>\n",
       "      <td>27.0</td>\n",
       "      <td>Openness</td>\n",
       "    </tr>\n",
       "  </tbody>\n",
       "</table>\n",
       "</div>"
      ],
      "text/plain": [
       "    letter_slant  line_slant  letter_size  word_spacing        personality\n",
       "0            0.0         1.0        421.2          14.0      Agreeableness\n",
       "1           -3.0         1.8         94.8          22.0      Agreeableness\n",
       "2           10.0        -1.9       1397.6          39.0      Agreeableness\n",
       "3            0.0         2.8         84.2          71.0      Agreeableness\n",
       "4           -2.0       -87.0        763.3          18.0      Agreeableness\n",
       "5            2.0         0.0         93.7          46.5      Agreeableness\n",
       "6           -4.0         3.1        466.8          45.0      Agreeableness\n",
       "7            4.0        -3.0        121.8          43.0      Agreeableness\n",
       "8            9.0        -1.9       2373.9          50.5  Conscientiousness\n",
       "9          -10.0         2.1       1322.6          31.0  Conscientiousness\n",
       "10          12.0       -11.9        259.7          14.0  Conscientiousness\n",
       "11           8.0        -2.3        627.5          33.0  Conscientiousness\n",
       "12           6.0        -1.9         77.8          42.0  Conscientiousness\n",
       "13           4.0        -2.9         84.6          25.0  Conscientiousness\n",
       "14          -4.0         3.8        107.0          60.0  Conscientiousness\n",
       "15          -5.0         1.1         79.9          55.0  Conscientiousness\n",
       "16          12.0        -0.9        336.1          10.0       Extraversion\n",
       "17          -6.0         2.7        174.9          43.0       Extraversion\n",
       "18          -8.0       -83.3        682.9          22.0        Neuroticism\n",
       "19           1.0        -0.8        368.3          12.0        Neuroticism\n",
       "20          12.0        -6.8        658.5          31.0        Neuroticism\n",
       "21          -5.0         4.1        375.7           9.0        Neuroticism\n",
       "22          -3.0         1.9         72.7          26.5        Neuroticism\n",
       "23           5.0        -2.2         77.8          80.0        Neuroticism\n",
       "24           2.0         1.1         92.8          53.0        Neuroticism\n",
       "25           4.0        -4.1        104.1          61.5        Neuroticism\n",
       "26          -8.0         4.2        182.3          27.0           Openness\n",
       "27           5.0        -1.1        141.9          17.0           Openness\n",
       "28          -1.0        -1.1        278.9          47.0           Openness\n",
       "29          -7.0         2.2        198.4          45.5           Openness\n",
       "30           9.0        -2.0        362.2          16.0           Openness\n",
       "31          13.0         0.0       1547.2          32.0           Openness\n",
       "32          -5.0         1.0        533.9          22.0           Openness\n",
       "33         -10.0         0.0         74.3          33.0           Openness\n",
       "34         -10.0         0.0        245.4          11.0           Openness\n",
       "35           9.0         0.0        434.0          12.0           Openness\n",
       "36         -16.0        13.8        557.8          19.0           Openness\n",
       "37          10.0         0.9        281.7          27.0           Openness\n",
       "38          -4.0         6.2        488.1          31.5           Openness\n",
       "39          11.0        -6.3        190.4           9.0           Openness\n",
       "40           5.0        -4.0         71.5          20.0           Openness\n",
       "41           5.0        -1.1         55.7          50.0           Openness\n",
       "42          13.0        -5.9        187.8          62.0           Openness\n",
       "43           1.0         0.0         50.5          27.0           Openness"
      ]
     },
     "execution_count": 4,
     "metadata": {},
     "output_type": "execute_result"
    }
   ],
   "source": [
    "df_test"
   ]
  },
  {
   "cell_type": "code",
   "execution_count": 5,
   "metadata": {
    "ExecuteTime": {
     "end_time": "2023-04-25T16:46:22.019884Z",
     "start_time": "2023-04-25T16:46:21.955761Z"
    }
   },
   "outputs": [
    {
     "name": "stdout",
     "output_type": "stream",
     "text": [
      "<class 'pandas.core.frame.DataFrame'>\n",
      "RangeIndex: 177 entries, 0 to 176\n",
      "Data columns (total 5 columns):\n",
      " #   Column        Non-Null Count  Dtype  \n",
      "---  ------        --------------  -----  \n",
      " 0   letter_slant  177 non-null    float64\n",
      " 1   line_slant    177 non-null    float64\n",
      " 2   letter_size   177 non-null    float64\n",
      " 3   word_spacing  177 non-null    float64\n",
      " 4   personality   177 non-null    object \n",
      "dtypes: float64(4), object(1)\n",
      "memory usage: 7.0+ KB\n",
      "None\n",
      "<class 'pandas.core.frame.DataFrame'>\n",
      "RangeIndex: 44 entries, 0 to 43\n",
      "Data columns (total 5 columns):\n",
      " #   Column        Non-Null Count  Dtype  \n",
      "---  ------        --------------  -----  \n",
      " 0   letter_slant  44 non-null     float64\n",
      " 1   line_slant    44 non-null     float64\n",
      " 2   letter_size   44 non-null     float64\n",
      " 3   word_spacing  44 non-null     float64\n",
      " 4   personality   44 non-null     object \n",
      "dtypes: float64(4), object(1)\n",
      "memory usage: 1.8+ KB\n",
      "None\n"
     ]
    }
   ],
   "source": [
    "print(df_train.info())\n",
    "print(df_test.info())"
   ]
  },
  {
   "cell_type": "code",
   "execution_count": 6,
   "metadata": {
    "ExecuteTime": {
     "end_time": "2023-04-25T16:46:37.895145Z",
     "start_time": "2023-04-25T16:46:37.843656Z"
    }
   },
   "outputs": [
    {
     "data": {
      "text/plain": [
       "letter_slant    0\n",
       "line_slant      0\n",
       "letter_size     0\n",
       "word_spacing    0\n",
       "personality     0\n",
       "dtype: int64"
      ]
     },
     "execution_count": 6,
     "metadata": {},
     "output_type": "execute_result"
    }
   ],
   "source": [
    "df_train.isnull().sum()"
   ]
  },
  {
   "cell_type": "code",
   "execution_count": 7,
   "metadata": {
    "ExecuteTime": {
     "end_time": "2023-04-25T16:46:42.969976Z",
     "start_time": "2023-04-25T16:46:42.944803Z"
    }
   },
   "outputs": [
    {
     "data": {
      "text/plain": [
       "letter_slant    0\n",
       "line_slant      0\n",
       "letter_size     0\n",
       "word_spacing    0\n",
       "personality     0\n",
       "dtype: int64"
      ]
     },
     "execution_count": 7,
     "metadata": {},
     "output_type": "execute_result"
    }
   ],
   "source": [
    "df_test.isnull().sum()"
   ]
  },
  {
   "cell_type": "code",
   "execution_count": 8,
   "metadata": {
    "ExecuteTime": {
     "end_time": "2023-04-25T16:46:46.868875Z",
     "start_time": "2023-04-25T16:46:46.846482Z"
    }
   },
   "outputs": [],
   "source": [
    "df_train.dropna(inplace=True)\n",
    "df_test.dropna(inplace=True)"
   ]
  },
  {
   "cell_type": "code",
   "execution_count": 9,
   "metadata": {
    "ExecuteTime": {
     "end_time": "2023-04-25T16:46:49.710654Z",
     "start_time": "2023-04-25T16:46:49.683123Z"
    }
   },
   "outputs": [
    {
     "name": "stdout",
     "output_type": "stream",
     "text": [
      "<class 'pandas.core.frame.DataFrame'>\n",
      "RangeIndex: 177 entries, 0 to 176\n",
      "Data columns (total 5 columns):\n",
      " #   Column        Non-Null Count  Dtype  \n",
      "---  ------        --------------  -----  \n",
      " 0   letter_slant  177 non-null    float64\n",
      " 1   line_slant    177 non-null    float64\n",
      " 2   letter_size   177 non-null    float64\n",
      " 3   word_spacing  177 non-null    float64\n",
      " 4   personality   177 non-null    object \n",
      "dtypes: float64(4), object(1)\n",
      "memory usage: 7.0+ KB\n",
      "None\n",
      "<class 'pandas.core.frame.DataFrame'>\n",
      "RangeIndex: 44 entries, 0 to 43\n",
      "Data columns (total 5 columns):\n",
      " #   Column        Non-Null Count  Dtype  \n",
      "---  ------        --------------  -----  \n",
      " 0   letter_slant  44 non-null     float64\n",
      " 1   line_slant    44 non-null     float64\n",
      " 2   letter_size   44 non-null     float64\n",
      " 3   word_spacing  44 non-null     float64\n",
      " 4   personality   44 non-null     object \n",
      "dtypes: float64(4), object(1)\n",
      "memory usage: 1.8+ KB\n",
      "None\n"
     ]
    }
   ],
   "source": [
    "print(df_train.info())\n",
    "print(df_test.info())"
   ]
  },
  {
   "cell_type": "code",
   "execution_count": 10,
   "metadata": {
    "ExecuteTime": {
     "end_time": "2023-04-25T16:47:03.791990Z",
     "start_time": "2023-04-25T16:47:03.780415Z"
    }
   },
   "outputs": [],
   "source": [
    "x_train = df_train.drop('personality', axis=1)\n",
    "y_train = df_train['personality']\n",
    "x_test = df_test.drop('personality', axis=1)\n",
    "y_test = df_test['personality']"
   ]
  },
  {
   "cell_type": "code",
   "execution_count": 11,
   "metadata": {
    "ExecuteTime": {
     "end_time": "2023-04-25T16:47:07.444485Z",
     "start_time": "2023-04-25T16:47:07.252706Z"
    }
   },
   "outputs": [],
   "source": [
    "dtree = DecisionTreeClassifier()\n",
    "dtree_res = dtree.fit(x_train, y_train)"
   ]
  },
  {
   "cell_type": "code",
   "execution_count": 12,
   "metadata": {
    "ExecuteTime": {
     "end_time": "2023-04-25T16:47:55.687500Z",
     "start_time": "2023-04-25T16:47:55.642109Z"
    }
   },
   "outputs": [
    {
     "name": "stdout",
     "output_type": "stream",
     "text": [
      "['Openness' 'Neuroticism' 'Openness' 'Agreeableness' 'Neuroticism'\n",
      " 'Openness' 'Openness' 'Conscientiousness' 'Openness' 'Agreeableness'\n",
      " 'Openness' 'Neuroticism' 'Neuroticism' 'Neuroticism' 'Agreeableness'\n",
      " 'Agreeableness' 'Agreeableness' 'Openness' 'Conscientiousness'\n",
      " 'Conscientiousness' 'Neuroticism' 'Conscientiousness' 'Neuroticism'\n",
      " 'Openness' 'Agreeableness' 'Conscientiousness' 'Openness' 'Openness'\n",
      " 'Openness' 'Openness' 'Openness' 'Openness' 'Conscientiousness'\n",
      " 'Extraversion' 'Extraversion' 'Openness' 'Agreeableness'\n",
      " 'Conscientiousness' 'Neuroticism' 'Neuroticism' 'Neuroticism' 'Openness'\n",
      " 'Openness' 'Agreeableness']\n"
     ]
    }
   ],
   "source": [
    "y_pred = dtree.predict(x_test)\n",
    "print(y_pred)"
   ]
  },
  {
   "cell_type": "code",
   "execution_count": 13,
   "metadata": {
    "ExecuteTime": {
     "end_time": "2023-04-25T16:47:33.921406Z",
     "start_time": "2023-04-25T16:47:33.876555Z"
    }
   },
   "outputs": [
    {
     "data": {
      "text/plain": [
       "0.2727272727272727"
      ]
     },
     "execution_count": 13,
     "metadata": {},
     "output_type": "execute_result"
    }
   ],
   "source": [
    "from sklearn.metrics import accuracy_score, confusion_matrix\n",
    "accuracy = accuracy_score(y_test, y_pred)\n",
    "accuracy"
   ]
  },
  {
   "cell_type": "code",
   "execution_count": 14,
   "metadata": {
    "ExecuteTime": {
     "end_time": "2023-04-25T16:47:38.165677Z",
     "start_time": "2023-04-25T16:47:38.141029Z"
    }
   },
   "outputs": [
    {
     "data": {
      "text/plain": [
       "array([0.23488388, 0.30663976, 0.25341676, 0.2050596 ])"
      ]
     },
     "execution_count": 14,
     "metadata": {},
     "output_type": "execute_result"
    }
   ],
   "source": [
    "dtree.feature_importances_"
   ]
  },
  {
   "cell_type": "code",
   "execution_count": 15,
   "metadata": {},
   "outputs": [
    {
     "data": {
      "image/png": "[encoded data removed]",
      "text/plain": [
       "<Figure size 640x480 with 1 Axes>"
      ]
     },
     "metadata": {},
     "output_type": "display_data"
    }
   ],
   "source": [
    "tree.plot_tree(dtree_res, feature_names=list(df_test.columns))\n",
    "# plt.savefig(sys.stdout.buffer)\n",
    "sys.stdout.flush()"
   ]
  }
 ],
 "metadata": {
  "kernelspec": {
   "display_name": "venv",
   "language": "python",
   "name": "python3"
  },
  "language_info": {
   "codemirror_mode": {
    "name": "ipython",
    "version": 3
   },
   "file_extension": ".py",
   "mimetype": "text/x-python",
   "name": "python",
   "nbconvert_exporter": "python",
   "pygments_lexer": "ipython3",
   "version": "3.10.6"
  },
  "orig_nbformat": 4
 },
 "nbformat": 4,
 "nbformat_minor": 2
}
