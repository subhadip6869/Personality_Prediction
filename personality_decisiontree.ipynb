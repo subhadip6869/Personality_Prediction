{
 "cells": [
  {
   "cell_type": "code",
   "execution_count": 1,
   "metadata": {
    "ExecuteTime": {
     "end_time": "2023-04-25T16:46:05.076619Z",
     "start_time": "2023-04-25T16:46:01.821867Z"
    }
   },
   "outputs": [],
   "source": [
    "from sklearn import tree\n",
    "from sklearn.tree import DecisionTreeClassifier\n",
    "import matplotlib.pyplot as plt\n",
    "import pandas as pd\n",
    "import sys"
   ]
  },
  {
   "cell_type": "code",
   "execution_count": 2,
   "metadata": {
    "ExecuteTime": {
     "end_time": "2023-04-25T16:46:09.076845Z",
     "start_time": "2023-04-25T16:46:09.040697Z"
    }
   },
   "outputs": [],
   "source": [
    "df_train = pd.read_csv(\"./dataset/train_features.csv\")\n",
    "df_test = pd.read_csv(\"./dataset/test_features.csv\")"
   ]
  },
  {
   "cell_type": "code",
   "execution_count": 3,
   "metadata": {
    "ExecuteTime": {
     "end_time": "2023-04-25T16:46:13.944225Z",
     "start_time": "2023-04-25T16:46:13.917319Z"
    }
   },
   "outputs": [
    {
     "data": {
      "text/html": [
       "<div>\n",
       "<style scoped>\n",
       "    .dataframe tbody tr th:only-of-type {\n",
       "        vertical-align: middle;\n",
       "    }\n",
       "\n",
       "    .dataframe tbody tr th {\n",
       "        vertical-align: top;\n",
       "    }\n",
       "\n",
       "    .dataframe thead th {\n",
       "        text-align: right;\n",
       "    }\n",
       "</style>\n",
       "<table border=\"1\" class=\"dataframe\">\n",
       "  <thead>\n",
       "    <tr style=\"text-align: right;\">\n",
       "      <th></th>\n",
       "      <th>letter_slant</th>\n",
       "      <th>line_slant</th>\n",
       "      <th>letter_size</th>\n",
       "      <th>word_spacing</th>\n",
       "      <th>personality</th>\n",
       "    </tr>\n",
       "  </thead>\n",
       "  <tbody>\n",
       "    <tr>\n",
       "      <th>0</th>\n",
       "      <td>13.980637</td>\n",
       "      <td>1.075874</td>\n",
       "      <td>22.50</td>\n",
       "      <td>13.0</td>\n",
       "      <td>Agreeableness</td>\n",
       "    </tr>\n",
       "    <tr>\n",
       "      <th>1</th>\n",
       "      <td>-11.017610</td>\n",
       "      <td>4.004173</td>\n",
       "      <td>18.50</td>\n",
       "      <td>25.0</td>\n",
       "      <td>Agreeableness</td>\n",
       "    </tr>\n",
       "    <tr>\n",
       "      <th>2</th>\n",
       "      <td>24.000325</td>\n",
       "      <td>-0.836375</td>\n",
       "      <td>10.50</td>\n",
       "      <td>1.0</td>\n",
       "      <td>Agreeableness</td>\n",
       "    </tr>\n",
       "    <tr>\n",
       "      <th>3</th>\n",
       "      <td>0.028662</td>\n",
       "      <td>-2.013475</td>\n",
       "      <td>28.00</td>\n",
       "      <td>1.0</td>\n",
       "      <td>Agreeableness</td>\n",
       "    </tr>\n",
       "    <tr>\n",
       "      <th>4</th>\n",
       "      <td>9.966474</td>\n",
       "      <td>0.000000</td>\n",
       "      <td>51.00</td>\n",
       "      <td>25.0</td>\n",
       "      <td>Agreeableness</td>\n",
       "    </tr>\n",
       "    <tr>\n",
       "      <th>...</th>\n",
       "      <td>...</td>\n",
       "      <td>...</td>\n",
       "      <td>...</td>\n",
       "      <td>...</td>\n",
       "      <td>...</td>\n",
       "    </tr>\n",
       "    <tr>\n",
       "      <th>172</th>\n",
       "      <td>6.982799</td>\n",
       "      <td>-4.124767</td>\n",
       "      <td>33.50</td>\n",
       "      <td>25.0</td>\n",
       "      <td>Openness</td>\n",
       "    </tr>\n",
       "    <tr>\n",
       "      <th>173</th>\n",
       "      <td>10.989471</td>\n",
       "      <td>0.000000</td>\n",
       "      <td>137.50</td>\n",
       "      <td>19.0</td>\n",
       "      <td>Openness</td>\n",
       "    </tr>\n",
       "    <tr>\n",
       "      <th>174</th>\n",
       "      <td>-6.001505</td>\n",
       "      <td>1.084344</td>\n",
       "      <td>65.00</td>\n",
       "      <td>44.0</td>\n",
       "      <td>Openness</td>\n",
       "    </tr>\n",
       "    <tr>\n",
       "      <th>175</th>\n",
       "      <td>15.969017</td>\n",
       "      <td>-0.804346</td>\n",
       "      <td>36.75</td>\n",
       "      <td>14.0</td>\n",
       "      <td>Openness</td>\n",
       "    </tr>\n",
       "    <tr>\n",
       "      <th>176</th>\n",
       "      <td>7.011250</td>\n",
       "      <td>0.000000</td>\n",
       "      <td>63.00</td>\n",
       "      <td>32.0</td>\n",
       "      <td>Openness</td>\n",
       "    </tr>\n",
       "  </tbody>\n",
       "</table>\n",
       "<p>177 rows × 5 columns</p>\n",
       "</div>"
      ],
      "text/plain": [
       "     letter_slant  line_slant  letter_size  word_spacing    personality\n",
       "0       13.980637    1.075874        22.50          13.0  Agreeableness\n",
       "1      -11.017610    4.004173        18.50          25.0  Agreeableness\n",
       "2       24.000325   -0.836375        10.50           1.0  Agreeableness\n",
       "3        0.028662   -2.013475        28.00           1.0  Agreeableness\n",
       "4        9.966474    0.000000        51.00          25.0  Agreeableness\n",
       "..            ...         ...          ...           ...            ...\n",
       "172      6.982799   -4.124767        33.50          25.0       Openness\n",
       "173     10.989471    0.000000       137.50          19.0       Openness\n",
       "174     -6.001505    1.084344        65.00          44.0       Openness\n",
       "175     15.969017   -0.804346        36.75          14.0       Openness\n",
       "176      7.011250    0.000000        63.00          32.0       Openness\n",
       "\n",
       "[177 rows x 5 columns]"
      ]
     },
     "execution_count": 3,
     "metadata": {},
     "output_type": "execute_result"
    }
   ],
   "source": [
    "df_train"
   ]
  },
  {
   "cell_type": "code",
   "execution_count": 4,
   "metadata": {
    "ExecuteTime": {
     "end_time": "2023-04-25T16:46:17.646492Z",
     "start_time": "2023-04-25T16:46:17.621302Z"
    }
   },
   "outputs": [
    {
     "data": {
      "text/html": [
       "<div>\n",
       "<style scoped>\n",
       "    .dataframe tbody tr th:only-of-type {\n",
       "        vertical-align: middle;\n",
       "    }\n",
       "\n",
       "    .dataframe tbody tr th {\n",
       "        vertical-align: top;\n",
       "    }\n",
       "\n",
       "    .dataframe thead th {\n",
       "        text-align: right;\n",
       "    }\n",
       "</style>\n",
       "<table border=\"1\" class=\"dataframe\">\n",
       "  <thead>\n",
       "    <tr style=\"text-align: right;\">\n",
       "      <th></th>\n",
       "      <th>letter_slant</th>\n",
       "      <th>line_slant</th>\n",
       "      <th>letter_size</th>\n",
       "      <th>word_spacing</th>\n",
       "      <th>personality</th>\n",
       "    </tr>\n",
       "  </thead>\n",
       "  <tbody>\n",
       "    <tr>\n",
       "      <th>0</th>\n",
       "      <td>9.971437</td>\n",
       "      <td>0.000000</td>\n",
       "      <td>89.75</td>\n",
       "      <td>24.5</td>\n",
       "      <td>Agreeableness</td>\n",
       "    </tr>\n",
       "    <tr>\n",
       "      <th>1</th>\n",
       "      <td>-6.001505</td>\n",
       "      <td>0.000000</td>\n",
       "      <td>85.50</td>\n",
       "      <td>45.0</td>\n",
       "      <td>Agreeableness</td>\n",
       "    </tr>\n",
       "    <tr>\n",
       "      <th>2</th>\n",
       "      <td>9.994699</td>\n",
       "      <td>0.000000</td>\n",
       "      <td>37.50</td>\n",
       "      <td>55.0</td>\n",
       "      <td>Agreeableness</td>\n",
       "    </tr>\n",
       "    <tr>\n",
       "      <th>3</th>\n",
       "      <td>1.003577</td>\n",
       "      <td>1.937840</td>\n",
       "      <td>34.50</td>\n",
       "      <td>85.0</td>\n",
       "      <td>Agreeableness</td>\n",
       "    </tr>\n",
       "    <tr>\n",
       "      <th>4</th>\n",
       "      <td>6.982799</td>\n",
       "      <td>1.145763</td>\n",
       "      <td>193.50</td>\n",
       "      <td>27.0</td>\n",
       "      <td>Agreeableness</td>\n",
       "    </tr>\n",
       "    <tr>\n",
       "      <th>5</th>\n",
       "      <td>-1.003075</td>\n",
       "      <td>0.000000</td>\n",
       "      <td>43.00</td>\n",
       "      <td>73.5</td>\n",
       "      <td>Agreeableness</td>\n",
       "    </tr>\n",
       "    <tr>\n",
       "      <th>6</th>\n",
       "      <td>4.992081</td>\n",
       "      <td>1.086656</td>\n",
       "      <td>9.00</td>\n",
       "      <td>35.0</td>\n",
       "      <td>Agreeableness</td>\n",
       "    </tr>\n",
       "    <tr>\n",
       "      <th>7</th>\n",
       "      <td>4.992081</td>\n",
       "      <td>-1.023764</td>\n",
       "      <td>10.50</td>\n",
       "      <td>38.5</td>\n",
       "      <td>Agreeableness</td>\n",
       "    </tr>\n",
       "    <tr>\n",
       "      <th>8</th>\n",
       "      <td>9.994699</td>\n",
       "      <td>0.000000</td>\n",
       "      <td>69.00</td>\n",
       "      <td>110.0</td>\n",
       "      <td>Conscientiousness</td>\n",
       "    </tr>\n",
       "    <tr>\n",
       "      <th>9</th>\n",
       "      <td>-4.992081</td>\n",
       "      <td>1.677468</td>\n",
       "      <td>172.00</td>\n",
       "      <td>57.0</td>\n",
       "      <td>Conscientiousness</td>\n",
       "    </tr>\n",
       "    <tr>\n",
       "      <th>10</th>\n",
       "      <td>11.017610</td>\n",
       "      <td>-3.887910</td>\n",
       "      <td>58.50</td>\n",
       "      <td>22.0</td>\n",
       "      <td>Conscientiousness</td>\n",
       "    </tr>\n",
       "    <tr>\n",
       "      <th>11</th>\n",
       "      <td>17.020526</td>\n",
       "      <td>0.000000</td>\n",
       "      <td>15.00</td>\n",
       "      <td>58.5</td>\n",
       "      <td>Conscientiousness</td>\n",
       "    </tr>\n",
       "    <tr>\n",
       "      <th>12</th>\n",
       "      <td>0.028662</td>\n",
       "      <td>-1.988638</td>\n",
       "      <td>33.50</td>\n",
       "      <td>66.0</td>\n",
       "      <td>Conscientiousness</td>\n",
       "    </tr>\n",
       "    <tr>\n",
       "      <th>13</th>\n",
       "      <td>1.003075</td>\n",
       "      <td>-1.157451</td>\n",
       "      <td>57.00</td>\n",
       "      <td>47.0</td>\n",
       "      <td>Conscientiousness</td>\n",
       "    </tr>\n",
       "    <tr>\n",
       "      <th>14</th>\n",
       "      <td>-1.003075</td>\n",
       "      <td>1.709814</td>\n",
       "      <td>49.00</td>\n",
       "      <td>108.0</td>\n",
       "      <td>Conscientiousness</td>\n",
       "    </tr>\n",
       "    <tr>\n",
       "      <th>15</th>\n",
       "      <td>-7.996300</td>\n",
       "      <td>0.550904</td>\n",
       "      <td>66.00</td>\n",
       "      <td>92.0</td>\n",
       "      <td>Conscientiousness</td>\n",
       "    </tr>\n",
       "    <tr>\n",
       "      <th>16</th>\n",
       "      <td>13.013958</td>\n",
       "      <td>0.000000</td>\n",
       "      <td>95.00</td>\n",
       "      <td>14.0</td>\n",
       "      <td>Extraversion</td>\n",
       "    </tr>\n",
       "    <tr>\n",
       "      <th>17</th>\n",
       "      <td>-11.984631</td>\n",
       "      <td>0.000000</td>\n",
       "      <td>38.00</td>\n",
       "      <td>79.0</td>\n",
       "      <td>Extraversion</td>\n",
       "    </tr>\n",
       "    <tr>\n",
       "      <th>18</th>\n",
       "      <td>-7.011250</td>\n",
       "      <td>2.097837</td>\n",
       "      <td>152.50</td>\n",
       "      <td>32.0</td>\n",
       "      <td>Neuroticism</td>\n",
       "    </tr>\n",
       "    <tr>\n",
       "      <th>19</th>\n",
       "      <td>-1.003577</td>\n",
       "      <td>0.000000</td>\n",
       "      <td>111.00</td>\n",
       "      <td>20.0</td>\n",
       "      <td>Neuroticism</td>\n",
       "    </tr>\n",
       "    <tr>\n",
       "      <th>20</th>\n",
       "      <td>11.017610</td>\n",
       "      <td>-2.227568</td>\n",
       "      <td>62.00</td>\n",
       "      <td>64.0</td>\n",
       "      <td>Neuroticism</td>\n",
       "    </tr>\n",
       "    <tr>\n",
       "      <th>21</th>\n",
       "      <td>9.994699</td>\n",
       "      <td>1.086070</td>\n",
       "      <td>76.50</td>\n",
       "      <td>13.0</td>\n",
       "      <td>Neuroticism</td>\n",
       "    </tr>\n",
       "    <tr>\n",
       "      <th>22</th>\n",
       "      <td>-3.011281</td>\n",
       "      <td>0.813614</td>\n",
       "      <td>57.25</td>\n",
       "      <td>44.5</td>\n",
       "      <td>Neuroticism</td>\n",
       "    </tr>\n",
       "    <tr>\n",
       "      <th>23</th>\n",
       "      <td>2.006539</td>\n",
       "      <td>-1.012488</td>\n",
       "      <td>58.75</td>\n",
       "      <td>137.0</td>\n",
       "      <td>Neuroticism</td>\n",
       "    </tr>\n",
       "    <tr>\n",
       "      <th>24</th>\n",
       "      <td>8.024690</td>\n",
       "      <td>1.046404</td>\n",
       "      <td>14.00</td>\n",
       "      <td>51.0</td>\n",
       "      <td>Neuroticism</td>\n",
       "    </tr>\n",
       "    <tr>\n",
       "      <th>25</th>\n",
       "      <td>-1.003075</td>\n",
       "      <td>-2.140901</td>\n",
       "      <td>7.00</td>\n",
       "      <td>57.0</td>\n",
       "      <td>Neuroticism</td>\n",
       "    </tr>\n",
       "    <tr>\n",
       "      <th>26</th>\n",
       "      <td>-7.011250</td>\n",
       "      <td>2.834111</td>\n",
       "      <td>8.00</td>\n",
       "      <td>22.0</td>\n",
       "      <td>Openness</td>\n",
       "    </tr>\n",
       "    <tr>\n",
       "      <th>27</th>\n",
       "      <td>3.987588</td>\n",
       "      <td>-1.041627</td>\n",
       "      <td>11.50</td>\n",
       "      <td>14.0</td>\n",
       "      <td>Openness</td>\n",
       "    </tr>\n",
       "    <tr>\n",
       "      <th>28</th>\n",
       "      <td>1.003075</td>\n",
       "      <td>-0.473476</td>\n",
       "      <td>13.50</td>\n",
       "      <td>34.0</td>\n",
       "      <td>Openness</td>\n",
       "    </tr>\n",
       "    <tr>\n",
       "      <th>29</th>\n",
       "      <td>-7.996300</td>\n",
       "      <td>1.134422</td>\n",
       "      <td>7.75</td>\n",
       "      <td>43.5</td>\n",
       "      <td>Openness</td>\n",
       "    </tr>\n",
       "    <tr>\n",
       "      <th>30</th>\n",
       "      <td>10.989471</td>\n",
       "      <td>0.000000</td>\n",
       "      <td>26.00</td>\n",
       "      <td>31.5</td>\n",
       "      <td>Openness</td>\n",
       "    </tr>\n",
       "    <tr>\n",
       "      <th>31</th>\n",
       "      <td>10.011297</td>\n",
       "      <td>0.000000</td>\n",
       "      <td>65.00</td>\n",
       "      <td>81.0</td>\n",
       "      <td>Openness</td>\n",
       "    </tr>\n",
       "    <tr>\n",
       "      <th>32</th>\n",
       "      <td>-8.020690</td>\n",
       "      <td>0.000000</td>\n",
       "      <td>92.00</td>\n",
       "      <td>30.0</td>\n",
       "      <td>Openness</td>\n",
       "    </tr>\n",
       "    <tr>\n",
       "      <th>33</th>\n",
       "      <td>-13.007505</td>\n",
       "      <td>0.000000</td>\n",
       "      <td>46.50</td>\n",
       "      <td>45.0</td>\n",
       "      <td>Openness</td>\n",
       "    </tr>\n",
       "    <tr>\n",
       "      <th>34</th>\n",
       "      <td>-4.992081</td>\n",
       "      <td>0.000000</td>\n",
       "      <td>54.00</td>\n",
       "      <td>13.0</td>\n",
       "      <td>Openness</td>\n",
       "    </tr>\n",
       "    <tr>\n",
       "      <th>35</th>\n",
       "      <td>12.979579</td>\n",
       "      <td>0.000000</td>\n",
       "      <td>86.50</td>\n",
       "      <td>24.0</td>\n",
       "      <td>Openness</td>\n",
       "    </tr>\n",
       "    <tr>\n",
       "      <th>36</th>\n",
       "      <td>-6.001505</td>\n",
       "      <td>3.012788</td>\n",
       "      <td>194.00</td>\n",
       "      <td>32.0</td>\n",
       "      <td>Openness</td>\n",
       "    </tr>\n",
       "    <tr>\n",
       "      <th>37</th>\n",
       "      <td>12.986020</td>\n",
       "      <td>0.000000</td>\n",
       "      <td>65.50</td>\n",
       "      <td>46.0</td>\n",
       "      <td>Openness</td>\n",
       "    </tr>\n",
       "    <tr>\n",
       "      <th>38</th>\n",
       "      <td>14.988652</td>\n",
       "      <td>2.267955</td>\n",
       "      <td>95.25</td>\n",
       "      <td>62.0</td>\n",
       "      <td>Openness</td>\n",
       "    </tr>\n",
       "    <tr>\n",
       "      <th>39</th>\n",
       "      <td>10.989471</td>\n",
       "      <td>-2.073193</td>\n",
       "      <td>61.00</td>\n",
       "      <td>13.0</td>\n",
       "      <td>Openness</td>\n",
       "    </tr>\n",
       "    <tr>\n",
       "      <th>40</th>\n",
       "      <td>0.028662</td>\n",
       "      <td>-1.943317</td>\n",
       "      <td>25.00</td>\n",
       "      <td>25.0</td>\n",
       "      <td>Openness</td>\n",
       "    </tr>\n",
       "    <tr>\n",
       "      <th>41</th>\n",
       "      <td>4.000882</td>\n",
       "      <td>-0.572939</td>\n",
       "      <td>60.00</td>\n",
       "      <td>100.0</td>\n",
       "      <td>Openness</td>\n",
       "    </tr>\n",
       "    <tr>\n",
       "      <th>42</th>\n",
       "      <td>8.024690</td>\n",
       "      <td>-2.202598</td>\n",
       "      <td>43.00</td>\n",
       "      <td>104.0</td>\n",
       "      <td>Openness</td>\n",
       "    </tr>\n",
       "    <tr>\n",
       "      <th>43</th>\n",
       "      <td>-4.016182</td>\n",
       "      <td>0.000000</td>\n",
       "      <td>41.50</td>\n",
       "      <td>42.0</td>\n",
       "      <td>Openness</td>\n",
       "    </tr>\n",
       "  </tbody>\n",
       "</table>\n",
       "</div>"
      ],
      "text/plain": [
       "    letter_slant  line_slant  letter_size  word_spacing        personality\n",
       "0       9.971437    0.000000        89.75          24.5      Agreeableness\n",
       "1      -6.001505    0.000000        85.50          45.0      Agreeableness\n",
       "2       9.994699    0.000000        37.50          55.0      Agreeableness\n",
       "3       1.003577    1.937840        34.50          85.0      Agreeableness\n",
       "4       6.982799    1.145763       193.50          27.0      Agreeableness\n",
       "5      -1.003075    0.000000        43.00          73.5      Agreeableness\n",
       "6       4.992081    1.086656         9.00          35.0      Agreeableness\n",
       "7       4.992081   -1.023764        10.50          38.5      Agreeableness\n",
       "8       9.994699    0.000000        69.00         110.0  Conscientiousness\n",
       "9      -4.992081    1.677468       172.00          57.0  Conscientiousness\n",
       "10     11.017610   -3.887910        58.50          22.0  Conscientiousness\n",
       "11     17.020526    0.000000        15.00          58.5  Conscientiousness\n",
       "12      0.028662   -1.988638        33.50          66.0  Conscientiousness\n",
       "13      1.003075   -1.157451        57.00          47.0  Conscientiousness\n",
       "14     -1.003075    1.709814        49.00         108.0  Conscientiousness\n",
       "15     -7.996300    0.550904        66.00          92.0  Conscientiousness\n",
       "16     13.013958    0.000000        95.00          14.0       Extraversion\n",
       "17    -11.984631    0.000000        38.00          79.0       Extraversion\n",
       "18     -7.011250    2.097837       152.50          32.0        Neuroticism\n",
       "19     -1.003577    0.000000       111.00          20.0        Neuroticism\n",
       "20     11.017610   -2.227568        62.00          64.0        Neuroticism\n",
       "21      9.994699    1.086070        76.50          13.0        Neuroticism\n",
       "22     -3.011281    0.813614        57.25          44.5        Neuroticism\n",
       "23      2.006539   -1.012488        58.75         137.0        Neuroticism\n",
       "24      8.024690    1.046404        14.00          51.0        Neuroticism\n",
       "25     -1.003075   -2.140901         7.00          57.0        Neuroticism\n",
       "26     -7.011250    2.834111         8.00          22.0           Openness\n",
       "27      3.987588   -1.041627        11.50          14.0           Openness\n",
       "28      1.003075   -0.473476        13.50          34.0           Openness\n",
       "29     -7.996300    1.134422         7.75          43.5           Openness\n",
       "30     10.989471    0.000000        26.00          31.5           Openness\n",
       "31     10.011297    0.000000        65.00          81.0           Openness\n",
       "32     -8.020690    0.000000        92.00          30.0           Openness\n",
       "33    -13.007505    0.000000        46.50          45.0           Openness\n",
       "34     -4.992081    0.000000        54.00          13.0           Openness\n",
       "35     12.979579    0.000000        86.50          24.0           Openness\n",
       "36     -6.001505    3.012788       194.00          32.0           Openness\n",
       "37     12.986020    0.000000        65.50          46.0           Openness\n",
       "38     14.988652    2.267955        95.25          62.0           Openness\n",
       "39     10.989471   -2.073193        61.00          13.0           Openness\n",
       "40      0.028662   -1.943317        25.00          25.0           Openness\n",
       "41      4.000882   -0.572939        60.00         100.0           Openness\n",
       "42      8.024690   -2.202598        43.00         104.0           Openness\n",
       "43     -4.016182    0.000000        41.50          42.0           Openness"
      ]
     },
     "execution_count": 4,
     "metadata": {},
     "output_type": "execute_result"
    }
   ],
   "source": [
    "df_test"
   ]
  },
  {
   "cell_type": "code",
   "execution_count": 5,
   "metadata": {
    "ExecuteTime": {
     "end_time": "2023-04-25T16:46:22.019884Z",
     "start_time": "2023-04-25T16:46:21.955761Z"
    }
   },
   "outputs": [
    {
     "name": "stdout",
     "output_type": "stream",
     "text": [
      "<class 'pandas.core.frame.DataFrame'>\n",
      "RangeIndex: 177 entries, 0 to 176\n",
      "Data columns (total 5 columns):\n",
      " #   Column        Non-Null Count  Dtype  \n",
      "---  ------        --------------  -----  \n",
      " 0   letter_slant  177 non-null    float64\n",
      " 1   line_slant    176 non-null    float64\n",
      " 2   letter_size   177 non-null    float64\n",
      " 3   word_spacing  177 non-null    float64\n",
      " 4   personality   177 non-null    object \n",
      "dtypes: float64(4), object(1)\n",
      "memory usage: 7.0+ KB\n",
      "None\n",
      "<class 'pandas.core.frame.DataFrame'>\n",
      "RangeIndex: 44 entries, 0 to 43\n",
      "Data columns (total 5 columns):\n",
      " #   Column        Non-Null Count  Dtype  \n",
      "---  ------        --------------  -----  \n",
      " 0   letter_slant  44 non-null     float64\n",
      " 1   line_slant    44 non-null     float64\n",
      " 2   letter_size   44 non-null     float64\n",
      " 3   word_spacing  44 non-null     float64\n",
      " 4   personality   44 non-null     object \n",
      "dtypes: float64(4), object(1)\n",
      "memory usage: 1.8+ KB\n",
      "None\n"
     ]
    }
   ],
   "source": [
    "print(df_train.info())\n",
    "print(df_test.info())"
   ]
  },
  {
   "cell_type": "code",
   "execution_count": 6,
   "metadata": {
    "ExecuteTime": {
     "end_time": "2023-04-25T16:46:37.895145Z",
     "start_time": "2023-04-25T16:46:37.843656Z"
    }
   },
   "outputs": [
    {
     "data": {
      "text/plain": [
       "letter_slant    0\n",
       "line_slant      1\n",
       "letter_size     0\n",
       "word_spacing    0\n",
       "personality     0\n",
       "dtype: int64"
      ]
     },
     "execution_count": 6,
     "metadata": {},
     "output_type": "execute_result"
    }
   ],
   "source": [
    "df_train.isnull().sum()"
   ]
  },
  {
   "cell_type": "code",
   "execution_count": 7,
   "metadata": {
    "ExecuteTime": {
     "end_time": "2023-04-25T16:46:42.969976Z",
     "start_time": "2023-04-25T16:46:42.944803Z"
    }
   },
   "outputs": [
    {
     "data": {
      "text/plain": [
       "letter_slant    0\n",
       "line_slant      0\n",
       "letter_size     0\n",
       "word_spacing    0\n",
       "personality     0\n",
       "dtype: int64"
      ]
     },
     "execution_count": 7,
     "metadata": {},
     "output_type": "execute_result"
    }
   ],
   "source": [
    "df_test.isnull().sum()"
   ]
  },
  {
   "cell_type": "code",
   "execution_count": 8,
   "metadata": {
    "ExecuteTime": {
     "end_time": "2023-04-25T16:46:46.868875Z",
     "start_time": "2023-04-25T16:46:46.846482Z"
    }
   },
   "outputs": [],
   "source": [
    "df_train.dropna(inplace=True)\n",
    "df_test.dropna(inplace=True)"
   ]
  },
  {
   "cell_type": "code",
   "execution_count": 9,
   "metadata": {
    "ExecuteTime": {
     "end_time": "2023-04-25T16:46:49.710654Z",
     "start_time": "2023-04-25T16:46:49.683123Z"
    }
   },
   "outputs": [
    {
     "name": "stdout",
     "output_type": "stream",
     "text": [
      "<class 'pandas.core.frame.DataFrame'>\n",
      "Index: 176 entries, 0 to 176\n",
      "Data columns (total 5 columns):\n",
      " #   Column        Non-Null Count  Dtype  \n",
      "---  ------        --------------  -----  \n",
      " 0   letter_slant  176 non-null    float64\n",
      " 1   line_slant    176 non-null    float64\n",
      " 2   letter_size   176 non-null    float64\n",
      " 3   word_spacing  176 non-null    float64\n",
      " 4   personality   176 non-null    object \n",
      "dtypes: float64(4), object(1)\n",
      "memory usage: 8.2+ KB\n",
      "None\n",
      "<class 'pandas.core.frame.DataFrame'>\n",
      "RangeIndex: 44 entries, 0 to 43\n",
      "Data columns (total 5 columns):\n",
      " #   Column        Non-Null Count  Dtype  \n",
      "---  ------        --------------  -----  \n",
      " 0   letter_slant  44 non-null     float64\n",
      " 1   line_slant    44 non-null     float64\n",
      " 2   letter_size   44 non-null     float64\n",
      " 3   word_spacing  44 non-null     float64\n",
      " 4   personality   44 non-null     object \n",
      "dtypes: float64(4), object(1)\n",
      "memory usage: 1.8+ KB\n",
      "None\n"
     ]
    }
   ],
   "source": [
    "print(df_train.info())\n",
    "print(df_test.info())"
   ]
  },
  {
   "cell_type": "code",
   "execution_count": 10,
   "metadata": {
    "ExecuteTime": {
     "end_time": "2023-04-25T16:47:03.791990Z",
     "start_time": "2023-04-25T16:47:03.780415Z"
    }
   },
   "outputs": [],
   "source": [
    "x_train = df_train.drop('personality', axis=1)\n",
    "y_train = df_train['personality']\n",
    "x_test = df_test.drop('personality', axis=1)\n",
    "y_test = df_test['personality']"
   ]
  },
  {
   "cell_type": "code",
   "execution_count": 11,
   "metadata": {
    "ExecuteTime": {
     "end_time": "2023-04-25T16:47:07.444485Z",
     "start_time": "2023-04-25T16:47:07.252706Z"
    }
   },
   "outputs": [],
   "source": [
    "dtree = DecisionTreeClassifier()\n",
    "dtree_res = dtree.fit(x_train, y_train)"
   ]
  },
  {
   "cell_type": "code",
   "execution_count": 12,
   "metadata": {
    "ExecuteTime": {
     "end_time": "2023-04-25T16:47:55.687500Z",
     "start_time": "2023-04-25T16:47:55.642109Z"
    }
   },
   "outputs": [
    {
     "name": "stdout",
     "output_type": "stream",
     "text": [
      "['Neuroticism' 'Openness' 'Agreeableness' 'Conscientiousness'\n",
      " 'Conscientiousness' 'Agreeableness' 'Openness' 'Openness'\n",
      " 'Conscientiousness' 'Conscientiousness' 'Neuroticism' 'Agreeableness'\n",
      " 'Agreeableness' 'Conscientiousness' 'Agreeableness' 'Agreeableness'\n",
      " 'Openness' 'Neuroticism' 'Neuroticism' 'Agreeableness' 'Openness'\n",
      " 'Extraversion' 'Agreeableness' 'Openness' 'Openness' 'Neuroticism'\n",
      " 'Neuroticism' 'Openness' 'Conscientiousness' 'Openness' 'Agreeableness'\n",
      " 'Conscientiousness' 'Extraversion' 'Neuroticism' 'Extraversion'\n",
      " 'Neuroticism' 'Conscientiousness' 'Openness' 'Conscientiousness'\n",
      " 'Conscientiousness' 'Agreeableness' 'Agreeableness' 'Conscientiousness'\n",
      " 'Openness']\n"
     ]
    }
   ],
   "source": [
    "y_pred = dtree.predict(x_test)\n",
    "print(y_pred)"
   ]
  },
  {
   "cell_type": "code",
   "execution_count": 13,
   "metadata": {
    "ExecuteTime": {
     "end_time": "2023-04-25T16:47:33.921406Z",
     "start_time": "2023-04-25T16:47:33.876555Z"
    }
   },
   "outputs": [
    {
     "data": {
      "text/plain": [
       "0.25"
      ]
     },
     "execution_count": 13,
     "metadata": {},
     "output_type": "execute_result"
    }
   ],
   "source": [
    "from sklearn.metrics import accuracy_score, confusion_matrix\n",
    "accuracy = accuracy_score(y_test, y_pred)\n",
    "accuracy"
   ]
  },
  {
   "cell_type": "code",
   "execution_count": 14,
   "metadata": {
    "ExecuteTime": {
     "end_time": "2023-04-25T16:47:38.165677Z",
     "start_time": "2023-04-25T16:47:38.141029Z"
    }
   },
   "outputs": [
    {
     "data": {
      "text/plain": [
       "array([0.26203651, 0.21348255, 0.35151712, 0.17296382])"
      ]
     },
     "execution_count": 14,
     "metadata": {},
     "output_type": "execute_result"
    }
   ],
   "source": [
    "dtree.feature_importances_"
   ]
  },
  {
   "cell_type": "code",
   "execution_count": 15,
   "metadata": {},
   "outputs": [
    {
     "data": {
      "image/png": "[encoded data removed]",
      "text/plain": [
       "<Figure size 640x480 with 1 Axes>"
      ]
     },
     "metadata": {},
     "output_type": "display_data"
    }
   ],
   "source": [
    "tree.plot_tree(dtree_res, feature_names=list(df_test.columns))\n",
    "# plt.savefig(sys.stdout.buffer)\n",
    "sys.stdout.flush()"
   ]
  }
 ],
 "metadata": {
  "kernelspec": {
   "display_name": "venv",
   "language": "python",
   "name": "python3"
  },
  "language_info": {
   "codemirror_mode": {
    "name": "ipython",
    "version": 3
   },
   "file_extension": ".py",
   "mimetype": "text/x-python",
   "name": "python",
   "nbconvert_exporter": "python",
   "pygments_lexer": "ipython3",
   "version": "3.10.6"
  },
  "orig_nbformat": 4
 },
 "nbformat": 4,
 "nbformat_minor": 2
}
