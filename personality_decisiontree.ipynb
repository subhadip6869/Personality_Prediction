{
 "cells": [
  {
   "cell_type": "code",
   "execution_count": 1,
   "metadata": {
    "ExecuteTime": {
     "end_time": "2023-04-25T16:46:05.076619Z",
     "start_time": "2023-04-25T16:46:01.821867Z"
    }
   },
   "outputs": [],
   "source": [
    "from sklearn import tree\n",
    "from sklearn.tree import DecisionTreeClassifier\n",
    "import matplotlib.pyplot as plt\n",
    "import pandas as pd\n",
    "import sys\n",
    "from sklearn.metrics import accuracy_score, confusion_matrix, ConfusionMatrixDisplay"
   ]
  },
  {
   "cell_type": "code",
   "execution_count": 2,
   "metadata": {
    "ExecuteTime": {
     "end_time": "2023-04-25T16:46:09.076845Z",
     "start_time": "2023-04-25T16:46:09.040697Z"
    }
   },
   "outputs": [],
   "source": [
    "df_train = pd.read_csv(\"./dataset/my_train_features.csv\")\n",
    "df_test = pd.read_csv(\"./dataset/my_train_features.csv\")"
   ]
  },
  {
   "cell_type": "code",
   "execution_count": 3,
   "metadata": {
    "ExecuteTime": {
     "end_time": "2023-04-25T16:46:13.944225Z",
     "start_time": "2023-04-25T16:46:13.917319Z"
    }
   },
   "outputs": [
    {
     "data": {
      "text/html": [
       "<div>\n",
       "<style scoped>\n",
       "    .dataframe tbody tr th:only-of-type {\n",
       "        vertical-align: middle;\n",
       "    }\n",
       "\n",
       "    .dataframe tbody tr th {\n",
       "        vertical-align: top;\n",
       "    }\n",
       "\n",
       "    .dataframe thead th {\n",
       "        text-align: right;\n",
       "    }\n",
       "</style>\n",
       "<table border=\"1\" class=\"dataframe\">\n",
       "  <thead>\n",
       "    <tr style=\"text-align: right;\">\n",
       "      <th></th>\n",
       "      <th>letter_slant</th>\n",
       "      <th>line_slant</th>\n",
       "      <th>letter_size</th>\n",
       "      <th>margin_slope</th>\n",
       "      <th>word_spacing</th>\n",
       "      <th>personality</th>\n",
       "    </tr>\n",
       "  </thead>\n",
       "  <tbody>\n",
       "    <tr>\n",
       "      <th>0</th>\n",
       "      <td>backward</td>\n",
       "      <td>upperside</td>\n",
       "      <td>1307.2</td>\n",
       "      <td>straight</td>\n",
       "      <td>small</td>\n",
       "      <td>Agreeableness</td>\n",
       "    </tr>\n",
       "    <tr>\n",
       "      <th>1</th>\n",
       "      <td>backward</td>\n",
       "      <td>upperside</td>\n",
       "      <td>932.0</td>\n",
       "      <td>right</td>\n",
       "      <td>small</td>\n",
       "      <td>Agreeableness</td>\n",
       "    </tr>\n",
       "    <tr>\n",
       "      <th>2</th>\n",
       "      <td>forward</td>\n",
       "      <td>upperside</td>\n",
       "      <td>891.4</td>\n",
       "      <td>straight</td>\n",
       "      <td>small</td>\n",
       "      <td>Agreeableness</td>\n",
       "    </tr>\n",
       "    <tr>\n",
       "      <th>3</th>\n",
       "      <td>forward</td>\n",
       "      <td>upperside</td>\n",
       "      <td>279.6</td>\n",
       "      <td>straight</td>\n",
       "      <td>small</td>\n",
       "      <td>Agreeableness</td>\n",
       "    </tr>\n",
       "    <tr>\n",
       "      <th>4</th>\n",
       "      <td>vertical</td>\n",
       "      <td>upperside</td>\n",
       "      <td>766.0</td>\n",
       "      <td>straight</td>\n",
       "      <td>small</td>\n",
       "      <td>Agreeableness</td>\n",
       "    </tr>\n",
       "  </tbody>\n",
       "</table>\n",
       "</div>"
      ],
      "text/plain": [
       "  letter_slant line_slant  letter_size margin_slope word_spacing  \\\n",
       "0     backward  upperside       1307.2     straight        small   \n",
       "1     backward  upperside        932.0        right        small   \n",
       "2      forward  upperside        891.4     straight        small   \n",
       "3      forward  upperside        279.6     straight        small   \n",
       "4     vertical  upperside        766.0     straight        small   \n",
       "\n",
       "     personality  \n",
       "0  Agreeableness  \n",
       "1  Agreeableness  \n",
       "2  Agreeableness  \n",
       "3  Agreeableness  \n",
       "4  Agreeableness  "
      ]
     },
     "execution_count": 3,
     "metadata": {},
     "output_type": "execute_result"
    }
   ],
   "source": [
    "df_train.head()"
   ]
  },
  {
   "cell_type": "code",
   "execution_count": 4,
   "metadata": {
    "ExecuteTime": {
     "end_time": "2023-04-25T16:46:17.646492Z",
     "start_time": "2023-04-25T16:46:17.621302Z"
    }
   },
   "outputs": [
    {
     "data": {
      "text/html": [
       "<div>\n",
       "<style scoped>\n",
       "    .dataframe tbody tr th:only-of-type {\n",
       "        vertical-align: middle;\n",
       "    }\n",
       "\n",
       "    .dataframe tbody tr th {\n",
       "        vertical-align: top;\n",
       "    }\n",
       "\n",
       "    .dataframe thead th {\n",
       "        text-align: right;\n",
       "    }\n",
       "</style>\n",
       "<table border=\"1\" class=\"dataframe\">\n",
       "  <thead>\n",
       "    <tr style=\"text-align: right;\">\n",
       "      <th></th>\n",
       "      <th>letter_slant</th>\n",
       "      <th>line_slant</th>\n",
       "      <th>letter_size</th>\n",
       "      <th>margin_slope</th>\n",
       "      <th>word_spacing</th>\n",
       "      <th>personality</th>\n",
       "    </tr>\n",
       "  </thead>\n",
       "  <tbody>\n",
       "    <tr>\n",
       "      <th>0</th>\n",
       "      <td>backward</td>\n",
       "      <td>upperside</td>\n",
       "      <td>1307.2</td>\n",
       "      <td>straight</td>\n",
       "      <td>small</td>\n",
       "      <td>Agreeableness</td>\n",
       "    </tr>\n",
       "    <tr>\n",
       "      <th>1</th>\n",
       "      <td>backward</td>\n",
       "      <td>upperside</td>\n",
       "      <td>932.0</td>\n",
       "      <td>right</td>\n",
       "      <td>small</td>\n",
       "      <td>Agreeableness</td>\n",
       "    </tr>\n",
       "    <tr>\n",
       "      <th>2</th>\n",
       "      <td>forward</td>\n",
       "      <td>upperside</td>\n",
       "      <td>891.4</td>\n",
       "      <td>straight</td>\n",
       "      <td>small</td>\n",
       "      <td>Agreeableness</td>\n",
       "    </tr>\n",
       "    <tr>\n",
       "      <th>3</th>\n",
       "      <td>forward</td>\n",
       "      <td>upperside</td>\n",
       "      <td>279.6</td>\n",
       "      <td>straight</td>\n",
       "      <td>small</td>\n",
       "      <td>Agreeableness</td>\n",
       "    </tr>\n",
       "    <tr>\n",
       "      <th>4</th>\n",
       "      <td>vertical</td>\n",
       "      <td>upperside</td>\n",
       "      <td>766.0</td>\n",
       "      <td>straight</td>\n",
       "      <td>small</td>\n",
       "      <td>Agreeableness</td>\n",
       "    </tr>\n",
       "  </tbody>\n",
       "</table>\n",
       "</div>"
      ],
      "text/plain": [
       "  letter_slant line_slant  letter_size margin_slope word_spacing  \\\n",
       "0     backward  upperside       1307.2     straight        small   \n",
       "1     backward  upperside        932.0        right        small   \n",
       "2      forward  upperside        891.4     straight        small   \n",
       "3      forward  upperside        279.6     straight        small   \n",
       "4     vertical  upperside        766.0     straight        small   \n",
       "\n",
       "     personality  \n",
       "0  Agreeableness  \n",
       "1  Agreeableness  \n",
       "2  Agreeableness  \n",
       "3  Agreeableness  \n",
       "4  Agreeableness  "
      ]
     },
     "execution_count": 4,
     "metadata": {},
     "output_type": "execute_result"
    }
   ],
   "source": [
    "df_test.head()"
   ]
  },
  {
   "cell_type": "code",
   "execution_count": 5,
   "metadata": {},
   "outputs": [],
   "source": [
    "letter_slant_mapping = {'backward': -1, 'forward': 1, 'vertical': 0}\n",
    "line_slant_mapping = {'lowerside': -1, 'baseline': 0, 'upperside': 1}\n",
    "margin_slope_mapping = {'left': -1, 'straight': 0, 'right': 1}\n",
    "word_spacing_mapping = {'small': -1, 'medium': 0, 'large': 1}"
   ]
  },
  {
   "cell_type": "code",
   "execution_count": 6,
   "metadata": {},
   "outputs": [],
   "source": [
    "df_train[\"letter_slant\"] = df_train[\"letter_slant\"].map(letter_slant_mapping)\n",
    "df_train[\"line_slant\"] = df_train[\"line_slant\"].map(line_slant_mapping)\n",
    "df_train[\"margin_slope\"] = df_train[\"margin_slope\"].map(margin_slope_mapping)\n",
    "df_train[\"word_spacing\"] = df_train[\"word_spacing\"].map(word_spacing_mapping)\n",
    "df_test[\"letter_slant\"] = df_test[\"letter_slant\"].map(letter_slant_mapping)\n",
    "df_test[\"line_slant\"] = df_test[\"line_slant\"].map(line_slant_mapping)\n",
    "df_test[\"margin_slope\"] = df_test[\"margin_slope\"].map(margin_slope_mapping)\n",
    "df_test[\"word_spacing\"] = df_test[\"word_spacing\"].map(word_spacing_mapping)"
   ]
  },
  {
   "cell_type": "code",
   "execution_count": 7,
   "metadata": {},
   "outputs": [
    {
     "data": {
      "text/html": [
       "<div>\n",
       "<style scoped>\n",
       "    .dataframe tbody tr th:only-of-type {\n",
       "        vertical-align: middle;\n",
       "    }\n",
       "\n",
       "    .dataframe tbody tr th {\n",
       "        vertical-align: top;\n",
       "    }\n",
       "\n",
       "    .dataframe thead th {\n",
       "        text-align: right;\n",
       "    }\n",
       "</style>\n",
       "<table border=\"1\" class=\"dataframe\">\n",
       "  <thead>\n",
       "    <tr style=\"text-align: right;\">\n",
       "      <th></th>\n",
       "      <th>letter_slant</th>\n",
       "      <th>line_slant</th>\n",
       "      <th>letter_size</th>\n",
       "      <th>margin_slope</th>\n",
       "      <th>word_spacing</th>\n",
       "      <th>personality</th>\n",
       "    </tr>\n",
       "  </thead>\n",
       "  <tbody>\n",
       "    <tr>\n",
       "      <th>0</th>\n",
       "      <td>-1</td>\n",
       "      <td>1</td>\n",
       "      <td>1307.2</td>\n",
       "      <td>0</td>\n",
       "      <td>-1</td>\n",
       "      <td>Agreeableness</td>\n",
       "    </tr>\n",
       "    <tr>\n",
       "      <th>1</th>\n",
       "      <td>-1</td>\n",
       "      <td>1</td>\n",
       "      <td>932.0</td>\n",
       "      <td>1</td>\n",
       "      <td>-1</td>\n",
       "      <td>Agreeableness</td>\n",
       "    </tr>\n",
       "    <tr>\n",
       "      <th>2</th>\n",
       "      <td>1</td>\n",
       "      <td>1</td>\n",
       "      <td>891.4</td>\n",
       "      <td>0</td>\n",
       "      <td>-1</td>\n",
       "      <td>Agreeableness</td>\n",
       "    </tr>\n",
       "    <tr>\n",
       "      <th>3</th>\n",
       "      <td>1</td>\n",
       "      <td>1</td>\n",
       "      <td>279.6</td>\n",
       "      <td>0</td>\n",
       "      <td>-1</td>\n",
       "      <td>Agreeableness</td>\n",
       "    </tr>\n",
       "    <tr>\n",
       "      <th>4</th>\n",
       "      <td>0</td>\n",
       "      <td>1</td>\n",
       "      <td>766.0</td>\n",
       "      <td>0</td>\n",
       "      <td>-1</td>\n",
       "      <td>Agreeableness</td>\n",
       "    </tr>\n",
       "  </tbody>\n",
       "</table>\n",
       "</div>"
      ],
      "text/plain": [
       "   letter_slant  line_slant  letter_size  margin_slope  word_spacing  \\\n",
       "0            -1           1       1307.2             0            -1   \n",
       "1            -1           1        932.0             1            -1   \n",
       "2             1           1        891.4             0            -1   \n",
       "3             1           1        279.6             0            -1   \n",
       "4             0           1        766.0             0            -1   \n",
       "\n",
       "     personality  \n",
       "0  Agreeableness  \n",
       "1  Agreeableness  \n",
       "2  Agreeableness  \n",
       "3  Agreeableness  \n",
       "4  Agreeableness  "
      ]
     },
     "execution_count": 7,
     "metadata": {},
     "output_type": "execute_result"
    }
   ],
   "source": [
    "df_train.head()"
   ]
  },
  {
   "cell_type": "code",
   "execution_count": 8,
   "metadata": {
    "ExecuteTime": {
     "end_time": "2023-04-25T16:46:22.019884Z",
     "start_time": "2023-04-25T16:46:21.955761Z"
    }
   },
   "outputs": [
    {
     "name": "stdout",
     "output_type": "stream",
     "text": [
      "<class 'pandas.core.frame.DataFrame'>\n",
      "RangeIndex: 177 entries, 0 to 176\n",
      "Data columns (total 6 columns):\n",
      " #   Column        Non-Null Count  Dtype  \n",
      "---  ------        --------------  -----  \n",
      " 0   letter_slant  177 non-null    int64  \n",
      " 1   line_slant    177 non-null    int64  \n",
      " 2   letter_size   177 non-null    float64\n",
      " 3   margin_slope  177 non-null    int64  \n",
      " 4   word_spacing  177 non-null    int64  \n",
      " 5   personality   177 non-null    object \n",
      "dtypes: float64(1), int64(4), object(1)\n",
      "memory usage: 8.4+ KB\n",
      "None\n",
      "<class 'pandas.core.frame.DataFrame'>\n",
      "RangeIndex: 177 entries, 0 to 176\n",
      "Data columns (total 6 columns):\n",
      " #   Column        Non-Null Count  Dtype  \n",
      "---  ------        --------------  -----  \n",
      " 0   letter_slant  177 non-null    int64  \n",
      " 1   line_slant    177 non-null    int64  \n",
      " 2   letter_size   177 non-null    float64\n",
      " 3   margin_slope  177 non-null    int64  \n",
      " 4   word_spacing  177 non-null    int64  \n",
      " 5   personality   177 non-null    object \n",
      "dtypes: float64(1), int64(4), object(1)\n",
      "memory usage: 8.4+ KB\n",
      "None\n"
     ]
    }
   ],
   "source": [
    "print(df_train.info())\n",
    "print(df_test.info())"
   ]
  },
  {
   "cell_type": "code",
   "execution_count": 9,
   "metadata": {
    "ExecuteTime": {
     "end_time": "2023-04-25T16:46:37.895145Z",
     "start_time": "2023-04-25T16:46:37.843656Z"
    }
   },
   "outputs": [
    {
     "data": {
      "text/plain": [
       "letter_slant    0\n",
       "line_slant      0\n",
       "letter_size     0\n",
       "margin_slope    0\n",
       "word_spacing    0\n",
       "personality     0\n",
       "dtype: int64"
      ]
     },
     "execution_count": 9,
     "metadata": {},
     "output_type": "execute_result"
    }
   ],
   "source": [
    "df_train.isnull().sum()"
   ]
  },
  {
   "cell_type": "code",
   "execution_count": 10,
   "metadata": {
    "ExecuteTime": {
     "end_time": "2023-04-25T16:46:42.969976Z",
     "start_time": "2023-04-25T16:46:42.944803Z"
    }
   },
   "outputs": [
    {
     "data": {
      "text/plain": [
       "letter_slant    0\n",
       "line_slant      0\n",
       "letter_size     0\n",
       "margin_slope    0\n",
       "word_spacing    0\n",
       "personality     0\n",
       "dtype: int64"
      ]
     },
     "execution_count": 10,
     "metadata": {},
     "output_type": "execute_result"
    }
   ],
   "source": [
    "df_test.isnull().sum()"
   ]
  },
  {
   "cell_type": "code",
   "execution_count": 11,
   "metadata": {
    "ExecuteTime": {
     "end_time": "2023-04-25T16:46:46.868875Z",
     "start_time": "2023-04-25T16:46:46.846482Z"
    }
   },
   "outputs": [],
   "source": [
    "df_train.dropna(inplace=True)\n",
    "df_test.dropna(inplace=True)"
   ]
  },
  {
   "cell_type": "code",
   "execution_count": 12,
   "metadata": {
    "ExecuteTime": {
     "end_time": "2023-04-25T16:46:49.710654Z",
     "start_time": "2023-04-25T16:46:49.683123Z"
    }
   },
   "outputs": [
    {
     "name": "stdout",
     "output_type": "stream",
     "text": [
      "<class 'pandas.core.frame.DataFrame'>\n",
      "RangeIndex: 177 entries, 0 to 176\n",
      "Data columns (total 6 columns):\n",
      " #   Column        Non-Null Count  Dtype  \n",
      "---  ------        --------------  -----  \n",
      " 0   letter_slant  177 non-null    int64  \n",
      " 1   line_slant    177 non-null    int64  \n",
      " 2   letter_size   177 non-null    float64\n",
      " 3   margin_slope  177 non-null    int64  \n",
      " 4   word_spacing  177 non-null    int64  \n",
      " 5   personality   177 non-null    object \n",
      "dtypes: float64(1), int64(4), object(1)\n",
      "memory usage: 8.4+ KB\n",
      "None\n",
      "<class 'pandas.core.frame.DataFrame'>\n",
      "RangeIndex: 177 entries, 0 to 176\n",
      "Data columns (total 6 columns):\n",
      " #   Column        Non-Null Count  Dtype  \n",
      "---  ------        --------------  -----  \n",
      " 0   letter_slant  177 non-null    int64  \n",
      " 1   line_slant    177 non-null    int64  \n",
      " 2   letter_size   177 non-null    float64\n",
      " 3   margin_slope  177 non-null    int64  \n",
      " 4   word_spacing  177 non-null    int64  \n",
      " 5   personality   177 non-null    object \n",
      "dtypes: float64(1), int64(4), object(1)\n",
      "memory usage: 8.4+ KB\n",
      "None\n"
     ]
    }
   ],
   "source": [
    "print(df_train.info())\n",
    "print(df_test.info())"
   ]
  },
  {
   "cell_type": "code",
   "execution_count": 13,
   "metadata": {
    "ExecuteTime": {
     "end_time": "2023-04-25T16:47:03.791990Z",
     "start_time": "2023-04-25T16:47:03.780415Z"
    }
   },
   "outputs": [],
   "source": [
    "x_train = df_train.drop('personality', axis=1)\n",
    "y_train = df_train['personality']\n",
    "x_test = df_test.drop('personality', axis=1)\n",
    "y_test = df_test['personality']"
   ]
  },
  {
   "cell_type": "code",
   "execution_count": 14,
   "metadata": {
    "ExecuteTime": {
     "end_time": "2023-04-25T16:47:07.444485Z",
     "start_time": "2023-04-25T16:47:07.252706Z"
    }
   },
   "outputs": [],
   "source": [
    "dtree = DecisionTreeClassifier()\n",
    "dtree_res = dtree.fit(x_train, y_train)"
   ]
  },
  {
   "cell_type": "code",
   "execution_count": 15,
   "metadata": {
    "ExecuteTime": {
     "end_time": "2023-04-25T16:47:55.687500Z",
     "start_time": "2023-04-25T16:47:55.642109Z"
    }
   },
   "outputs": [
    {
     "name": "stdout",
     "output_type": "stream",
     "text": [
      "['Agreeableness' 'Agreeableness' 'Agreeableness' 'Agreeableness'\n",
      " 'Agreeableness' 'Agreeableness' 'Agreeableness' 'Agreeableness'\n",
      " 'Agreeableness' 'Agreeableness' 'Agreeableness' 'Agreeableness'\n",
      " 'Agreeableness' 'Agreeableness' 'Agreeableness' 'Agreeableness'\n",
      " 'Agreeableness' 'Agreeableness' 'Agreeableness' 'Agreeableness'\n",
      " 'Agreeableness' 'Agreeableness' 'Agreeableness' 'Agreeableness'\n",
      " 'Agreeableness' 'Agreeableness' 'Agreeableness' 'Agreeableness'\n",
      " 'Agreeableness' 'Agreeableness' 'Conscientiousness' 'Conscientiousness'\n",
      " 'Conscientiousness' 'Conscientiousness' 'Conscientiousness'\n",
      " 'Conscientiousness' 'Conscientiousness' 'Conscientiousness'\n",
      " 'Conscientiousness' 'Conscientiousness' 'Conscientiousness'\n",
      " 'Conscientiousness' 'Conscientiousness' 'Conscientiousness'\n",
      " 'Conscientiousness' 'Conscientiousness' 'Conscientiousness'\n",
      " 'Conscientiousness' 'Conscientiousness' 'Conscientiousness'\n",
      " 'Conscientiousness' 'Conscientiousness' 'Conscientiousness'\n",
      " 'Conscientiousness' 'Conscientiousness' 'Conscientiousness'\n",
      " 'Conscientiousness' 'Extraversion' 'Extraversion' 'Extraversion'\n",
      " 'Extraversion' 'Extraversion' 'Extraversion' 'Extraversion'\n",
      " 'Extraversion' 'Neuroticism' 'Neuroticism' 'Neuroticism' 'Neuroticism'\n",
      " 'Neuroticism' 'Neuroticism' 'Neuroticism' 'Neuroticism' 'Neuroticism'\n",
      " 'Neuroticism' 'Neuroticism' 'Neuroticism' 'Neuroticism' 'Neuroticism'\n",
      " 'Neuroticism' 'Neuroticism' 'Neuroticism' 'Neuroticism' 'Neuroticism'\n",
      " 'Neuroticism' 'Neuroticism' 'Neuroticism' 'Neuroticism' 'Neuroticism'\n",
      " 'Neuroticism' 'Neuroticism' 'Neuroticism' 'Neuroticism' 'Neuroticism'\n",
      " 'Neuroticism' 'Neuroticism' 'Neuroticism' 'Neuroticism' 'Neuroticism'\n",
      " 'Neuroticism' 'Neuroticism' 'Openness' 'Openness' 'Openness' 'Openness'\n",
      " 'Openness' 'Openness' 'Openness' 'Openness' 'Openness' 'Openness'\n",
      " 'Openness' 'Openness' 'Openness' 'Openness' 'Openness' 'Openness'\n",
      " 'Openness' 'Openness' 'Openness' 'Openness' 'Openness' 'Openness'\n",
      " 'Openness' 'Openness' 'Openness' 'Openness' 'Openness' 'Openness'\n",
      " 'Openness' 'Openness' 'Openness' 'Openness' 'Openness' 'Openness'\n",
      " 'Openness' 'Openness' 'Openness' 'Openness' 'Openness' 'Openness'\n",
      " 'Openness' 'Openness' 'Openness' 'Openness' 'Openness' 'Openness'\n",
      " 'Openness' 'Openness' 'Openness' 'Openness' 'Openness' 'Openness'\n",
      " 'Openness' 'Openness' 'Openness' 'Openness' 'Openness' 'Openness'\n",
      " 'Openness' 'Openness' 'Openness' 'Openness' 'Openness' 'Openness'\n",
      " 'Openness' 'Openness' 'Openness' 'Openness' 'Openness' 'Openness'\n",
      " 'Openness' 'Openness' 'Openness' 'Openness' 'Openness' 'Openness']\n"
     ]
    }
   ],
   "source": [
    "y_pred = dtree.predict(x_test)\n",
    "print(y_pred)"
   ]
  },
  {
   "cell_type": "code",
   "execution_count": 16,
   "metadata": {
    "ExecuteTime": {
     "end_time": "2023-04-25T16:47:33.921406Z",
     "start_time": "2023-04-25T16:47:33.876555Z"
    }
   },
   "outputs": [
    {
     "data": {
      "text/plain": [
       "1.0"
      ]
     },
     "execution_count": 16,
     "metadata": {},
     "output_type": "execute_result"
    }
   ],
   "source": [
    "accuracy = accuracy_score(y_test, y_pred)\n",
    "accuracy"
   ]
  },
  {
   "cell_type": "code",
   "execution_count": 18,
   "metadata": {},
   "outputs": [
    {
     "data": {
      "text/plain": [
       "<sklearn.metrics._plot.confusion_matrix.ConfusionMatrixDisplay at 0x20242699d90>"
      ]
     },
     "execution_count": 18,
     "metadata": {},
     "output_type": "execute_result"
    },
    {
     "data": {
      "image/png": "[encoded data removed]",
      "text/plain": [
       "<Figure size 640x480 with 2 Axes>"
      ]
     },
     "metadata": {},
     "output_type": "display_data"
    }
   ],
   "source": [
    "cm = confusion_matrix(y_test, y_pred, labels=dtree.classes_)\n",
    "disp = ConfusionMatrixDisplay(confusion_matrix=cm, display_labels=dtree.classes_)\n",
    "disp.plot()"
   ]
  },
  {
   "cell_type": "code",
   "execution_count": 19,
   "metadata": {
    "ExecuteTime": {
     "end_time": "2023-04-25T16:47:38.165677Z",
     "start_time": "2023-04-25T16:47:38.141029Z"
    }
   },
   "outputs": [
    {
     "data": {
      "text/plain": [
       "array([0.09921795, 0.05158323, 0.70999096, 0.06938585, 0.06982201])"
      ]
     },
     "execution_count": 19,
     "metadata": {},
     "output_type": "execute_result"
    }
   ],
   "source": [
    "dtree.feature_importances_"
   ]
  },
  {
   "cell_type": "code",
   "execution_count": 20,
   "metadata": {},
   "outputs": [
    {
     "data": {
      "image/png": "[encoded data removed]",
      "text/plain": [
       "<Figure size 640x480 with 1 Axes>"
      ]
     },
     "metadata": {},
     "output_type": "display_data"
    }
   ],
   "source": [
    "tree.plot_tree(dtree_res, feature_names=list(df_test.columns))\n",
    "# plt.savefig(sys.stdout.buffer)\n",
    "sys.stdout.flush()"
   ]
  }
 ],
 "metadata": {
  "kernelspec": {
   "display_name": "venv",
   "language": "python",
   "name": "python3"
  },
  "language_info": {
   "codemirror_mode": {
    "name": "ipython",
    "version": 3
   },
   "file_extension": ".py",
   "mimetype": "text/x-python",
   "name": "python",
   "nbconvert_exporter": "python",
   "pygments_lexer": "ipython3",
   "version": "3.11.7"
  },
  "orig_nbformat": 4
 },
 "nbformat": 4,
 "nbformat_minor": 2
}
